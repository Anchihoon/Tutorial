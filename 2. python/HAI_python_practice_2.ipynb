{
  "nbformat": 4,
  "nbformat_minor": 0,
  "metadata": {
    "colab": {
      "provenance": []
    },
    "kernelspec": {
      "name": "python3",
      "display_name": "Python 3"
    },
    "language_info": {
      "name": "python"
    }
  },
  "cells": [
    {
      "cell_type": "markdown",
      "source": [
        "# **2. Python Classes and Objects, NumPy basics**"
      ],
      "metadata": {
        "id": "6mmj5-DDw-2M"
      }
    },
    {
      "cell_type": "markdown",
      "source": [
        "# 배열 복습"
      ],
      "metadata": {
        "id": "kmkRW6JfxRiV"
      }
    },
    {
      "cell_type": "code",
      "execution_count": null,
      "metadata": {
        "id": "9YpPXK09PCRE"
      },
      "outputs": [],
      "source": [
        "debits = []\n",
        "credits = []"
      ]
    },
    {
      "cell_type": "code",
      "source": [
        "def add_to_debits(value):\n",
        "  global debits\n",
        "  debits += [value]\n",
        "\n",
        "def add_to_credits(value):\n",
        "  global credits\n",
        "  credits += [value]"
      ],
      "metadata": {
        "id": "HhKYng3YX5yk"
      },
      "execution_count": null,
      "outputs": []
    },
    {
      "cell_type": "code",
      "source": [
        "add_to_credits(1000)\n",
        "add_to_debits(10)\n",
        "add_to_debits(15)\n",
        "add_to_debits(100)"
      ],
      "metadata": {
        "id": "AHvmIh2xxtGV"
      },
      "execution_count": null,
      "outputs": []
    },
    {
      "cell_type": "code",
      "source": [
        "# 알맞게 list에 추가된 것 확인\n",
        "print(debits)\n",
        "print(credits)"
      ],
      "metadata": {
        "colab": {
          "base_uri": "https://localhost:8080/"
        },
        "id": "bchg3b3Hx6Z6",
        "outputId": "d7f4a456-022f-4562-ba21-21032cccb969"
      },
      "execution_count": null,
      "outputs": [
        {
          "output_type": "stream",
          "name": "stdout",
          "text": [
            "[10, 15, 100]\n",
            "[1000]\n"
          ]
        }
      ]
    },
    {
      "cell_type": "code",
      "source": [
        "# global keyword를 반점으로 연속해서 사용가능\n",
        "def total_value():\n",
        "  global debits, credits\n",
        "  total = 0\n",
        "  for val in debits:\n",
        "    total -= val\n",
        "  for val in credits:\n",
        "    total += val\n",
        "  return total"
      ],
      "metadata": {
        "id": "RnpMNNsrx3E0"
      },
      "execution_count": null,
      "outputs": []
    },
    {
      "cell_type": "code",
      "source": [
        "# 1000에서 10, 15, 100을 뺀값인 875 확인\n",
        "total_value()"
      ],
      "metadata": {
        "colab": {
          "base_uri": "https://localhost:8080/"
        },
        "id": "9jJpPxFEydVO",
        "outputId": "1e5fa873-62fb-4441-c5d8-8158bb9940ca"
      },
      "execution_count": null,
      "outputs": [
        {
          "output_type": "execute_result",
          "data": {
            "text/plain": [
              "875"
            ]
          },
          "metadata": {},
          "execution_count": 11
        }
      ]
    },
    {
      "cell_type": "markdown",
      "source": [
        "# 클래스와 오브젝트 사용"
      ],
      "metadata": {
        "id": "WSYWLD9py34W"
      }
    },
    {
      "cell_type": "markdown",
      "source": [
        "# Exercise 1\n",
        "Account 클래스에 기능을 추가해야됨\n",
        "1. 출금금액이 잔액보다 많으면 출금 실패\n",
        "2. 한계좌에서 다른계좌로 돈을 옮기는 transfer 함수 구현(한계좌에선 출금, 다른 계좌에선 입금으로 처리)"
      ],
      "metadata": {
        "id": "ga4_MX95zUPc"
      }
    },
    {
      "cell_type": "code",
      "source": [
        "# Account 클래스 생성\n",
        "class Account:\n",
        "  def __init__(self, owner, money=0):\n",
        "    self.owner = owner\n",
        "    self.money = money\n",
        "\n",
        "  def deposit(self, credit):\n",
        "    if credit <= 0:\n",
        "      raise ValueError('입금 금액이 잘못 입력되었습니다.')\n",
        "    self.money += credit\n",
        "    print(f\"{self.owner}님 계좌에 {credit}원 입금되었습니다.\")\n",
        "\n",
        "  def withdraw(self, credit):\n",
        "    if credit > self.money:\n",
        "      raise ValueError(\"잔액이 부족합니다.\")\n",
        "    self.money -= credit\n",
        "    print(f\"{self.owner}님 계좌에서 {credit}원 출금되었습니다.\")\n",
        "\n",
        "  def transfer(self, other_account, credit):\n",
        "    if credit > self.money:\n",
        "      raise ValueError(\"잔액이 부족합니다.\")\n",
        "    self.withdraw(credit)\n",
        "    other_account.deposit(credit)\n",
        "    print(f\"{self.owner}님이 {other_account.owner}님에게 {credit}원을 입금하였습니다.\")\n",
        "\n",
        "  def __str__(self):\n",
        "    return f\"{self.owner}님의 잔액은 {self.money}원입니다.\""
      ],
      "metadata": {
        "id": "4bM-rzKNzl3o"
      },
      "execution_count": null,
      "outputs": []
    },
    {
      "cell_type": "code",
      "source": [
        "a1 = Account(\"치훈\", 10000)\n",
        "a2 = Account(\"하민\", 5000)\n",
        "\n",
        "a1.deposit(2000)\n",
        "a1.withdraw(4500)\n",
        "a2.transfer(a1, 3000)\n",
        "\n",
        "print(a1)\n",
        "print(a2)"
      ],
      "metadata": {
        "colab": {
          "base_uri": "https://localhost:8080/"
        },
        "id": "zAU9khXy2flT",
        "outputId": "15476cf7-6acd-46b7-bf3f-8d8b0225e428"
      },
      "execution_count": null,
      "outputs": [
        {
          "output_type": "stream",
          "name": "stdout",
          "text": [
            "치훈님 계좌에 2000원 입금되었습니다.\n",
            "치훈님 계좌에서 4500원 출금되었습니다.\n",
            "하민님 계좌에서 3000원 출금되었습니다.\n",
            "치훈님 계좌에 3000원 입금되었습니다.\n",
            "하민님이 치훈님에게 3000원을 입금하였습니다.\n",
            "치훈님의 잔액은 10500원 입니다.\n",
            "하민님의 잔액은 2000원 입니다.\n"
          ]
        }
      ]
    },
    {
      "cell_type": "markdown",
      "source": [
        "# Exercise 2\n",
        "Rational(유리수) class의 연산자 오버로딩 기능을 추가한다.\n",
        "\n",
        "* `*` - use `__mul__` 두유리수의 곱셈\n",
        "* `/` - use `__truediv__` 두유리수의 나눗셈\n",
        "* `-` - use `__sub__` 두유리수의 뺄셈"
      ],
      "metadata": {
        "id": "kWIGreAR3XWY"
      }
    },
    {
      "cell_type": "code",
      "source": [
        "# isinstance(x, type)\n",
        "# isinstance로 x가 type에 해당되는 인스턴스인지 확인하고 처리\n",
        "import math\n",
        "\n",
        "class Rational:\n",
        "    def __init__(self, p, q=1):\n",
        "\n",
        "        if q == 0:\n",
        "            raise ValueError('Denominator must not be zero')\n",
        "        if not isinstance(p, int):\n",
        "            raise TypeError('Numerator must be an integer')\n",
        "        if not isinstance(q, int):\n",
        "            raise TypeError('Denominator must be an integer')\n",
        "\n",
        "        g = math.gcd(p, q)\n",
        "\n",
        "        self.p = p // g\n",
        "        self.q = q // g\n",
        "\n",
        "    # 유리수를 float으로 변환\n",
        "    def __float__(self):\n",
        "        return float(self.p) / float(self.q)\n",
        "\n",
        "    # print를 위해 유리수를 string으로 변환\n",
        "    def __str__(self):\n",
        "        return '%d / %d' % (self.p, self.q)\n",
        "\n",
        "    # 두 유리수를 더하는 연산 (제공된 코드 사용)\n",
        "    def __add__(self, other):\n",
        "        if isinstance(other, Rational):\n",
        "            return Rational(self.p * other.q + other.p * self.q, self.q * other.q)\n",
        "        elif isinstance(other, int):\n",
        "            return Rational(self.p + other * self.q, self.q)\n",
        "        return float(self) + float(other)\n",
        "\n",
        "    def __radd__(self, other):\n",
        "        return self + other\n",
        "\n",
        "    # 두 유리수를 빼는 연산\n",
        "    def __sub__(self, other):\n",
        "      if isinstance(other, Rational):\n",
        "        return Rational(self.p * other.q - other.p * self.q, self.q * other.q)\n",
        "      elif isinstance(other, int):\n",
        "        return Rational(self.p - other * self.q, self.q)\n",
        "      return float(self) + float(other)\n",
        "\n",
        "    # 두 유리수를 곱하는 연산\n",
        "    def __mul__(self, other):\n",
        "      if isinstance(other, Rational):\n",
        "        return Rational(self.p * other.p, self.q * other.q)\n",
        "      elif isinstance(other, int):\n",
        "        return Rational(self.p * other, self.q)\n",
        "      return float(self) * float(other)\n",
        "\n",
        "    # 두 유리수를 나누는 연산(0으로 나누는 예외 처리)\n",
        "    def __truediv__(self, other):\n",
        "      if isinstance(other, Rational):\n",
        "        if other.p == 0:\n",
        "          raise ZeroDivisionError(\"0으로 나눌수 없습니다.\")\n",
        "        return Rational(self.p * other.q, self.q * other.p)\n",
        "      elif isinstance(other, int):\n",
        "        if other == 0:\n",
        "          raise ZeroDivisionError(\"0으로 나눌수 없습니다.\")\n",
        "        return Rational(self.p, self.q * other)\n",
        "      return float(self) / float(other)"
      ],
      "metadata": {
        "id": "CIsmevCl22X_"
      },
      "execution_count": null,
      "outputs": []
    },
    {
      "cell_type": "code",
      "source": [
        "a = Rational(3, 4)\n",
        "b = Rational(2, 5)\n",
        "print(a)\n",
        "print(b)\n",
        "print('a + b = ', a + b)\n",
        "print('a - b = ', a - b)\n",
        "print('a * b = ', a * b)\n",
        "print('a / b = ', a / b)"
      ],
      "metadata": {
        "colab": {
          "base_uri": "https://localhost:8080/"
        },
        "id": "pHpsG-Ki7WXH",
        "outputId": "0503f5fb-54f0-4cee-ccf6-b9c4016215b3"
      },
      "execution_count": null,
      "outputs": [
        {
          "output_type": "stream",
          "name": "stdout",
          "text": [
            "3 / 4\n",
            "2 / 5\n",
            "a + b =  23 / 20\n",
            "a - b =  7 / 20\n",
            "a * b =  3 / 10\n",
            "a / b =  15 / 8\n"
          ]
        }
      ]
    },
    {
      "cell_type": "markdown",
      "source": [
        "# Exercise 3\n",
        "바빌로니아 제곱근 알고리즘을 이용해 어떤 수 S의 제곱근을 근사적으로 계산하는 함수를 만들어야함\n",
        "\n",
        "1. 임의의 초기값 x를 설정 (보통 x = S/2)\n",
        "2. x = 1/2 * (x + S/x) 를 반복하여 S의 제곱근을 근사적으로 계산"
      ],
      "metadata": {
        "id": "dNOz9FF177XS"
      }
    },
    {
      "cell_type": "code",
      "source": [
        "def babylonian(S, num_iters=5):\n",
        "  if S < 0:\n",
        "    raise ValueError(\"음수의 제곱근을 \")\n",
        "  if S == 0:\n",
        "    return 0\n",
        "\n",
        "  x = S / 2\n",
        "  for i in range(num_iters):\n",
        "    x = 0.5 * (x + S / x)\n",
        "  return x"
      ],
      "metadata": {
        "id": "DQxRHz-f7d1N"
      },
      "execution_count": null,
      "outputs": []
    },
    {
      "cell_type": "code",
      "source": [
        "# 근사 횟수를 늘려 더 정확한 제곱근 계산가능\n",
        "import math\n",
        "\n",
        "print(math.sqrt(24))\n",
        "print(babylonian(24))\n",
        "print(babylonian(24, 10))"
      ],
      "metadata": {
        "colab": {
          "base_uri": "https://localhost:8080/"
        },
        "id": "LIEhc8G3CkDd",
        "outputId": "5047714b-460a-42a1-c63d-a1e08a863721"
      },
      "execution_count": null,
      "outputs": [
        {
          "output_type": "stream",
          "name": "stdout",
          "text": [
            "4.898979485566356\n",
            "4.898979485575103\n",
            "4.898979485566356\n"
          ]
        }
      ]
    },
    {
      "cell_type": "markdown",
      "source": [
        "# 넘파이 복습\n",
        "넘파이를 통해 다차원 배열을 구현"
      ],
      "metadata": {
        "id": "npvf7OaLDEGY"
      }
    },
    {
      "cell_type": "code",
      "source": [
        "import math\n",
        "math.sin(5)"
      ],
      "metadata": {
        "colab": {
          "base_uri": "https://localhost:8080/"
        },
        "id": "c4uw8QQiCuLi",
        "outputId": "9e5b0743-9ce5-4cea-b9c9-22606a32b8aa"
      },
      "execution_count": null,
      "outputs": [
        {
          "output_type": "execute_result",
          "data": {
            "text/plain": [
              "-0.9589242746631385"
            ]
          },
          "metadata": {},
          "execution_count": 30
        }
      ]
    },
    {
      "cell_type": "code",
      "source": [
        "import math as m\n",
        "m.sin(5)"
      ],
      "metadata": {
        "colab": {
          "base_uri": "https://localhost:8080/"
        },
        "id": "wnTTpHfJDSs0",
        "outputId": "0e9609c0-3d19-4e1b-dfee-043eb14b282d"
      },
      "execution_count": null,
      "outputs": [
        {
          "output_type": "execute_result",
          "data": {
            "text/plain": [
              "-0.9589242746631385"
            ]
          },
          "metadata": {},
          "execution_count": 31
        }
      ]
    },
    {
      "cell_type": "code",
      "source": [
        "import numpy as np"
      ],
      "metadata": {
        "id": "Qzq3NuRaDVD2"
      },
      "execution_count": null,
      "outputs": []
    },
    {
      "cell_type": "code",
      "source": [
        "x = np.array([[0, 1], [1, 5]])\n",
        "x"
      ],
      "metadata": {
        "colab": {
          "base_uri": "https://localhost:8080/"
        },
        "id": "W5AnUwMIDXmy",
        "outputId": "03f9b208-799f-4d76-e834-862933161be1"
      },
      "execution_count": null,
      "outputs": [
        {
          "output_type": "execute_result",
          "data": {
            "text/plain": [
              "array([[0, 1],\n",
              "       [1, 5]])"
            ]
          },
          "metadata": {},
          "execution_count": 33
        }
      ]
    },
    {
      "cell_type": "code",
      "source": [
        "y = np.array([[4, 0], [0, 4]])\n",
        "y"
      ],
      "metadata": {
        "colab": {
          "base_uri": "https://localhost:8080/"
        },
        "id": "xUsE7xa2DbK5",
        "outputId": "af81a6a1-0e91-4464-8175-aa593e6a07ee"
      },
      "execution_count": null,
      "outputs": [
        {
          "output_type": "execute_result",
          "data": {
            "text/plain": [
              "array([[4, 0],\n",
              "       [0, 4]])"
            ]
          },
          "metadata": {},
          "execution_count": 35
        }
      ]
    },
    {
      "cell_type": "code",
      "source": [
        "print(x+y,'\\n')\n",
        "print(x ** 2,'\\n')\n",
        "print(x @ y,'\\n')\n",
        "print(np.sum(x))"
      ],
      "metadata": {
        "colab": {
          "base_uri": "https://localhost:8080/"
        },
        "id": "H9jMpz-4Dh3g",
        "outputId": "0404750a-a12e-4348-f877-54993561d6a4"
      },
      "execution_count": null,
      "outputs": [
        {
          "output_type": "stream",
          "name": "stdout",
          "text": [
            "[[4 1]\n",
            " [1 9]] \n",
            "\n",
            "[[ 0  1]\n",
            " [ 1 25]] \n",
            "\n",
            "[[ 0  4]\n",
            " [ 4 20]] \n",
            "\n",
            "7\n"
          ]
        }
      ]
    },
    {
      "cell_type": "code",
      "source": [
        "# for loop과 numpy의 dot product 연산을 비교해서 어떤 것이 더 효율적인지 비교\n",
        "%%timeit\n",
        "x = np.random.rand(10000)\n",
        "y = np.random.rand(10000)\n",
        "z = 0\n",
        "for i in range(10000):\n",
        "  z += x[i] * y[i]"
      ],
      "metadata": {
        "colab": {
          "base_uri": "https://localhost:8080/"
        },
        "id": "J0snNGxNDsY5",
        "outputId": "e9570bac-5ad5-40eb-996a-86afd4782992"
      },
      "execution_count": null,
      "outputs": [
        {
          "output_type": "stream",
          "name": "stdout",
          "text": [
            "3.49 ms ± 83.3 µs per loop (mean ± std. dev. of 7 runs, 100 loops each)\n"
          ]
        }
      ]
    },
    {
      "cell_type": "code",
      "source": [
        "# 시간을 비교했을 때 numpy가 연산의 효율성이 더 높\n",
        "%%timeit\n",
        "x = np.random.rand(10000)\n",
        "y = np.random.rand(10000)\n",
        "z = np.dot(x, y)"
      ],
      "metadata": {
        "colab": {
          "base_uri": "https://localhost:8080/"
        },
        "id": "B_2J9hMeD7LV",
        "outputId": "64e5b10b-c80c-4588-bab8-9db9d5a56608"
      },
      "execution_count": null,
      "outputs": [
        {
          "output_type": "stream",
          "name": "stdout",
          "text": [
            "200 µs ± 8.04 µs per loop (mean ± std. dev. of 7 runs, 1000 loops each)\n"
          ]
        }
      ]
    },
    {
      "cell_type": "code",
      "source": [
        "X = np.zeros((10, 10))\n",
        "print(X)\n",
        "print(X.shape)"
      ],
      "metadata": {
        "colab": {
          "base_uri": "https://localhost:8080/"
        },
        "id": "rkaRphxKEFUL",
        "outputId": "0aa8349b-aa24-4179-9c9a-4ef3d479ece4"
      },
      "execution_count": null,
      "outputs": [
        {
          "output_type": "stream",
          "name": "stdout",
          "text": [
            "[[0. 0. 0. 0. 0. 0. 0. 0. 0. 0.]\n",
            " [0. 0. 0. 0. 0. 0. 0. 0. 0. 0.]\n",
            " [0. 0. 0. 0. 0. 0. 0. 0. 0. 0.]\n",
            " [0. 0. 0. 0. 0. 0. 0. 0. 0. 0.]\n",
            " [0. 0. 0. 0. 0. 0. 0. 0. 0. 0.]\n",
            " [0. 0. 0. 0. 0. 0. 0. 0. 0. 0.]\n",
            " [0. 0. 0. 0. 0. 0. 0. 0. 0. 0.]\n",
            " [0. 0. 0. 0. 0. 0. 0. 0. 0. 0.]\n",
            " [0. 0. 0. 0. 0. 0. 0. 0. 0. 0.]\n",
            " [0. 0. 0. 0. 0. 0. 0. 0. 0. 0.]]\n",
            "(10, 10)\n"
          ]
        }
      ]
    },
    {
      "cell_type": "code",
      "source": [
        "Y = np.ones((10,10))\n",
        "print(Y)\n",
        "print(2*Y+3)"
      ],
      "metadata": {
        "colab": {
          "base_uri": "https://localhost:8080/"
        },
        "id": "Y5djBYaOEiR_",
        "outputId": "a3a5dce3-3836-435b-c597-c7cc1630aeab"
      },
      "execution_count": null,
      "outputs": [
        {
          "output_type": "stream",
          "name": "stdout",
          "text": [
            "[[1. 1. 1. 1. 1. 1. 1. 1. 1. 1.]\n",
            " [1. 1. 1. 1. 1. 1. 1. 1. 1. 1.]\n",
            " [1. 1. 1. 1. 1. 1. 1. 1. 1. 1.]\n",
            " [1. 1. 1. 1. 1. 1. 1. 1. 1. 1.]\n",
            " [1. 1. 1. 1. 1. 1. 1. 1. 1. 1.]\n",
            " [1. 1. 1. 1. 1. 1. 1. 1. 1. 1.]\n",
            " [1. 1. 1. 1. 1. 1. 1. 1. 1. 1.]\n",
            " [1. 1. 1. 1. 1. 1. 1. 1. 1. 1.]\n",
            " [1. 1. 1. 1. 1. 1. 1. 1. 1. 1.]\n",
            " [1. 1. 1. 1. 1. 1. 1. 1. 1. 1.]]\n",
            "[[5. 5. 5. 5. 5. 5. 5. 5. 5. 5.]\n",
            " [5. 5. 5. 5. 5. 5. 5. 5. 5. 5.]\n",
            " [5. 5. 5. 5. 5. 5. 5. 5. 5. 5.]\n",
            " [5. 5. 5. 5. 5. 5. 5. 5. 5. 5.]\n",
            " [5. 5. 5. 5. 5. 5. 5. 5. 5. 5.]\n",
            " [5. 5. 5. 5. 5. 5. 5. 5. 5. 5.]\n",
            " [5. 5. 5. 5. 5. 5. 5. 5. 5. 5.]\n",
            " [5. 5. 5. 5. 5. 5. 5. 5. 5. 5.]\n",
            " [5. 5. 5. 5. 5. 5. 5. 5. 5. 5.]\n",
            " [5. 5. 5. 5. 5. 5. 5. 5. 5. 5.]]\n"
          ]
        }
      ]
    },
    {
      "cell_type": "code",
      "source": [
        "# 균등분포에 따라 무작위 난수 행렬 생성\n",
        "R = np.random.rand(5,5)\n",
        "R"
      ],
      "metadata": {
        "colab": {
          "base_uri": "https://localhost:8080/"
        },
        "id": "6k2-xRU7EpOR",
        "outputId": "5c8df714-548a-45dd-c6a4-42dbaa7d1778"
      },
      "execution_count": null,
      "outputs": [
        {
          "output_type": "execute_result",
          "data": {
            "text/plain": [
              "array([[0.67646429, 0.39388839, 0.14119447, 0.05107096, 0.79315692],\n",
              "       [0.79559271, 0.45777015, 0.87975962, 0.08885923, 0.08860237],\n",
              "       [0.07387045, 0.84539341, 0.02470274, 0.82294013, 0.72899001],\n",
              "       [0.68468621, 0.83560774, 0.65529532, 0.55694269, 0.60835005],\n",
              "       [0.88375606, 0.56679023, 0.37179393, 0.29988989, 0.74377427]])"
            ]
          },
          "metadata": {},
          "execution_count": 41
        }
      ]
    },
    {
      "cell_type": "code",
      "source": [
        "# 표준 정규분포에 따라 무작위 난수 행렬 생\n",
        "Rn = np.random.randn(5,5)\n",
        "Rn"
      ],
      "metadata": {
        "colab": {
          "base_uri": "https://localhost:8080/"
        },
        "id": "aiBN17OTEs5k",
        "outputId": "14bf7605-01a9-40e4-fcdb-e7d6dfb54f44"
      },
      "execution_count": null,
      "outputs": [
        {
          "output_type": "execute_result",
          "data": {
            "text/plain": [
              "array([[ 0.36472298, -0.10018431, -0.46546875,  1.1954187 , -0.84326133],\n",
              "       [ 0.75273288,  2.03034389, -0.22362999,  0.67054247,  0.39232827],\n",
              "       [ 0.28693922, -0.44092188, -0.77769606,  0.95344725,  1.31170553],\n",
              "       [ 1.30472858,  0.80849441, -0.09537424, -0.75990619,  0.18292072],\n",
              "       [-1.57654474, -0.60914692, -1.6142787 ,  0.34328421,  0.14822152]])"
            ]
          },
          "metadata": {},
          "execution_count": 42
        }
      ]
    },
    {
      "cell_type": "code",
      "source": [
        "# 1부터 100 미만까지 2씩 증가하며 숫자 생성\n",
        "np.arange(1,100,2)"
      ],
      "metadata": {
        "colab": {
          "base_uri": "https://localhost:8080/"
        },
        "id": "wz_YB5e7Ewl7",
        "outputId": "658765a8-0dd0-4973-cebf-a1fbac981701"
      },
      "execution_count": null,
      "outputs": [
        {
          "output_type": "execute_result",
          "data": {
            "text/plain": [
              "array([ 1,  3,  5,  7,  9, 11, 13, 15, 17, 19, 21, 23, 25, 27, 29, 31, 33,\n",
              "       35, 37, 39, 41, 43, 45, 47, 49, 51, 53, 55, 57, 59, 61, 63, 65, 67,\n",
              "       69, 71, 73, 75, 77, 79, 81, 83, 85, 87, 89, 91, 93, 95, 97, 99])"
            ]
          },
          "metadata": {},
          "execution_count": 44
        }
      ]
    },
    {
      "cell_type": "code",
      "source": [
        "# 0부터 5까지 균등하게 나눈 10개값 생성\n",
        "np.linspace(0,5,10)"
      ],
      "metadata": {
        "colab": {
          "base_uri": "https://localhost:8080/"
        },
        "id": "x_IvyNFXFGjK",
        "outputId": "ef853f06-0083-4ed6-a19f-76c971ab1cce"
      },
      "execution_count": null,
      "outputs": [
        {
          "output_type": "execute_result",
          "data": {
            "text/plain": [
              "array([0.        , 0.55555556, 1.11111111, 1.66666667, 2.22222222,\n",
              "       2.77777778, 3.33333333, 3.88888889, 4.44444444, 5.        ])"
            ]
          },
          "metadata": {},
          "execution_count": 45
        }
      ]
    },
    {
      "cell_type": "code",
      "source": [
        "# 0부터 99까지 100개의 정수 배열 생성\n",
        "X = np.arange(0, 100)\n",
        "X"
      ],
      "metadata": {
        "colab": {
          "base_uri": "https://localhost:8080/"
        },
        "id": "S9WsyEWqFKXK",
        "outputId": "6a8777ec-9a05-4d4b-da05-027e58a09068"
      },
      "execution_count": null,
      "outputs": [
        {
          "output_type": "execute_result",
          "data": {
            "text/plain": [
              "array([ 0,  1,  2,  3,  4,  5,  6,  7,  8,  9, 10, 11, 12, 13, 14, 15, 16,\n",
              "       17, 18, 19, 20, 21, 22, 23, 24, 25, 26, 27, 28, 29, 30, 31, 32, 33,\n",
              "       34, 35, 36, 37, 38, 39, 40, 41, 42, 43, 44, 45, 46, 47, 48, 49, 50,\n",
              "       51, 52, 53, 54, 55, 56, 57, 58, 59, 60, 61, 62, 63, 64, 65, 66, 67,\n",
              "       68, 69, 70, 71, 72, 73, 74, 75, 76, 77, 78, 79, 80, 81, 82, 83, 84,\n",
              "       85, 86, 87, 88, 89, 90, 91, 92, 93, 94, 95, 96, 97, 98, 99])"
            ]
          },
          "metadata": {},
          "execution_count": 49
        }
      ]
    },
    {
      "cell_type": "code",
      "source": [
        "# 10행 10열의 2차원 배열로 변\n",
        "X.reshape((10,10))"
      ],
      "metadata": {
        "colab": {
          "base_uri": "https://localhost:8080/"
        },
        "id": "--cZgdKEFODq",
        "outputId": "0e471f4a-5843-4b55-da9e-835cd275be21"
      },
      "execution_count": null,
      "outputs": [
        {
          "output_type": "execute_result",
          "data": {
            "text/plain": [
              "array([[ 0,  1,  2,  3,  4,  5,  6,  7,  8,  9],\n",
              "       [10, 11, 12, 13, 14, 15, 16, 17, 18, 19],\n",
              "       [20, 21, 22, 23, 24, 25, 26, 27, 28, 29],\n",
              "       [30, 31, 32, 33, 34, 35, 36, 37, 38, 39],\n",
              "       [40, 41, 42, 43, 44, 45, 46, 47, 48, 49],\n",
              "       [50, 51, 52, 53, 54, 55, 56, 57, 58, 59],\n",
              "       [60, 61, 62, 63, 64, 65, 66, 67, 68, 69],\n",
              "       [70, 71, 72, 73, 74, 75, 76, 77, 78, 79],\n",
              "       [80, 81, 82, 83, 84, 85, 86, 87, 88, 89],\n",
              "       [90, 91, 92, 93, 94, 95, 96, 97, 98, 99]])"
            ]
          },
          "metadata": {},
          "execution_count": 50
        }
      ]
    },
    {
      "cell_type": "markdown",
      "source": [
        "# Exercise 4\n",
        "1. 50 ~ 100사이의 난수, 5 x 10 배열 생성\n",
        "2. 50에서 51사이를 0.01 간격으로 나눈 등간격 배열"
      ],
      "metadata": {
        "id": "j1Boo1ltF6Dx"
      }
    },
    {
      "cell_type": "code",
      "source": [
        "import numpy as np"
      ],
      "metadata": {
        "id": "SaXk7wNUG8Cs"
      },
      "execution_count": null,
      "outputs": []
    },
    {
      "cell_type": "code",
      "source": [
        "# 5 x 10 배열, 50 ~ 100 사이의 난수\n",
        "arr1 = 50 + 50 * np.random.rand(5, 10)\n",
        "print(arr1)"
      ],
      "metadata": {
        "colab": {
          "base_uri": "https://localhost:8080/"
        },
        "id": "Ss9xKS8wFQOF",
        "outputId": "0b946938-20dc-4640-ae17-a31c7f5b6dc0"
      },
      "execution_count": null,
      "outputs": [
        {
          "output_type": "stream",
          "name": "stdout",
          "text": [
            "[[89.25605107 60.31266393 62.37862479 97.26098637 97.25351729 75.09849149\n",
            "  87.58520514 73.52750597 65.124054   72.47795119]\n",
            " [73.95137268 84.35514807 87.32261237 85.14015131 91.74814504 81.58594467\n",
            "  70.20147319 97.74288213 96.64038503 76.13454322]\n",
            " [90.93461309 79.46557719 59.03802591 71.56221194 59.56219495 71.11919019\n",
            "  72.5503077  83.20289324 76.65693906 77.74667765]\n",
            " [60.96495476 94.45327674 90.97851392 64.61755971 50.30361013 85.70895054\n",
            "  66.41689659 92.73024156 82.97540144 83.45622116]\n",
            " [55.27761292 56.56816763 66.4569349  88.15272842 53.78079531 72.98876209\n",
            "  95.44572861 60.88802649 58.65291315 84.78152659]]\n"
          ]
        }
      ]
    },
    {
      "cell_type": "code",
      "source": [
        "# 50부터 51까지 0.01 간격의 배열 생성\n",
        "arr2 = np.arange(50, 51.01, 0.01)\n",
        "print(arr2)"
      ],
      "metadata": {
        "colab": {
          "base_uri": "https://localhost:8080/"
        },
        "id": "jR92NAafGfnx",
        "outputId": "03ae6e5f-c904-478a-d655-84db55402feb"
      },
      "execution_count": null,
      "outputs": [
        {
          "output_type": "stream",
          "name": "stdout",
          "text": [
            "[50.   50.01 50.02 50.03 50.04 50.05 50.06 50.07 50.08 50.09 50.1  50.11\n",
            " 50.12 50.13 50.14 50.15 50.16 50.17 50.18 50.19 50.2  50.21 50.22 50.23\n",
            " 50.24 50.25 50.26 50.27 50.28 50.29 50.3  50.31 50.32 50.33 50.34 50.35\n",
            " 50.36 50.37 50.38 50.39 50.4  50.41 50.42 50.43 50.44 50.45 50.46 50.47\n",
            " 50.48 50.49 50.5  50.51 50.52 50.53 50.54 50.55 50.56 50.57 50.58 50.59\n",
            " 50.6  50.61 50.62 50.63 50.64 50.65 50.66 50.67 50.68 50.69 50.7  50.71\n",
            " 50.72 50.73 50.74 50.75 50.76 50.77 50.78 50.79 50.8  50.81 50.82 50.83\n",
            " 50.84 50.85 50.86 50.87 50.88 50.89 50.9  50.91 50.92 50.93 50.94 50.95\n",
            " 50.96 50.97 50.98 50.99 51.  ]\n"
          ]
        }
      ]
    },
    {
      "cell_type": "markdown",
      "source": [
        "# Plotting"
      ],
      "metadata": {
        "id": "z_LZDu4XHLOH"
      }
    },
    {
      "cell_type": "code",
      "source": [
        "import matplotlib.pyplot as plt"
      ],
      "metadata": {
        "id": "P104_RtGHPhZ"
      },
      "execution_count": null,
      "outputs": []
    },
    {
      "cell_type": "code",
      "source": [
        "x = np.linspace(-5, 5, 100)\n",
        "print(x)\n",
        "\n",
        "y = x * x\n",
        "print(y)"
      ],
      "metadata": {
        "colab": {
          "base_uri": "https://localhost:8080/"
        },
        "id": "a05TOxgVHSGc",
        "outputId": "32227708-4e3f-4e1d-8c56-1f3d02ee67d2"
      },
      "execution_count": null,
      "outputs": [
        {
          "output_type": "stream",
          "name": "stdout",
          "text": [
            "[-5.         -4.8989899  -4.7979798  -4.6969697  -4.5959596  -4.49494949\n",
            " -4.39393939 -4.29292929 -4.19191919 -4.09090909 -3.98989899 -3.88888889\n",
            " -3.78787879 -3.68686869 -3.58585859 -3.48484848 -3.38383838 -3.28282828\n",
            " -3.18181818 -3.08080808 -2.97979798 -2.87878788 -2.77777778 -2.67676768\n",
            " -2.57575758 -2.47474747 -2.37373737 -2.27272727 -2.17171717 -2.07070707\n",
            " -1.96969697 -1.86868687 -1.76767677 -1.66666667 -1.56565657 -1.46464646\n",
            " -1.36363636 -1.26262626 -1.16161616 -1.06060606 -0.95959596 -0.85858586\n",
            " -0.75757576 -0.65656566 -0.55555556 -0.45454545 -0.35353535 -0.25252525\n",
            " -0.15151515 -0.05050505  0.05050505  0.15151515  0.25252525  0.35353535\n",
            "  0.45454545  0.55555556  0.65656566  0.75757576  0.85858586  0.95959596\n",
            "  1.06060606  1.16161616  1.26262626  1.36363636  1.46464646  1.56565657\n",
            "  1.66666667  1.76767677  1.86868687  1.96969697  2.07070707  2.17171717\n",
            "  2.27272727  2.37373737  2.47474747  2.57575758  2.67676768  2.77777778\n",
            "  2.87878788  2.97979798  3.08080808  3.18181818  3.28282828  3.38383838\n",
            "  3.48484848  3.58585859  3.68686869  3.78787879  3.88888889  3.98989899\n",
            "  4.09090909  4.19191919  4.29292929  4.39393939  4.49494949  4.5959596\n",
            "  4.6969697   4.7979798   4.8989899   5.        ]\n",
            "[2.50000000e+01 2.40001020e+01 2.30206101e+01 2.20615243e+01\n",
            " 2.11228446e+01 2.02045710e+01 1.93067034e+01 1.84292419e+01\n",
            " 1.75721865e+01 1.67355372e+01 1.59192939e+01 1.51234568e+01\n",
            " 1.43480257e+01 1.35930007e+01 1.28583818e+01 1.21441690e+01\n",
            " 1.14503622e+01 1.07769615e+01 1.01239669e+01 9.49137843e+00\n",
            " 8.87919600e+00 8.28741965e+00 7.71604938e+00 7.16508520e+00\n",
            " 6.63452709e+00 6.12437506e+00 5.63462912e+00 5.16528926e+00\n",
            " 4.71635547e+00 4.28782777e+00 3.87970615e+00 3.49199061e+00\n",
            " 3.12468115e+00 2.77777778e+00 2.45128048e+00 2.14518927e+00\n",
            " 1.85950413e+00 1.59422508e+00 1.34935211e+00 1.12488522e+00\n",
            " 9.20824406e-01 7.37169677e-01 5.73921028e-01 4.31078461e-01\n",
            " 3.08641975e-01 2.06611570e-01 1.24987246e-01 6.37690032e-02\n",
            " 2.29568411e-02 2.55076013e-03 2.55076013e-03 2.29568411e-02\n",
            " 6.37690032e-02 1.24987246e-01 2.06611570e-01 3.08641975e-01\n",
            " 4.31078461e-01 5.73921028e-01 7.37169677e-01 9.20824406e-01\n",
            " 1.12488522e+00 1.34935211e+00 1.59422508e+00 1.85950413e+00\n",
            " 2.14518927e+00 2.45128048e+00 2.77777778e+00 3.12468115e+00\n",
            " 3.49199061e+00 3.87970615e+00 4.28782777e+00 4.71635547e+00\n",
            " 5.16528926e+00 5.63462912e+00 6.12437506e+00 6.63452709e+00\n",
            " 7.16508520e+00 7.71604938e+00 8.28741965e+00 8.87919600e+00\n",
            " 9.49137843e+00 1.01239669e+01 1.07769615e+01 1.14503622e+01\n",
            " 1.21441690e+01 1.28583818e+01 1.35930007e+01 1.43480257e+01\n",
            " 1.51234568e+01 1.59192939e+01 1.67355372e+01 1.75721865e+01\n",
            " 1.84292419e+01 1.93067034e+01 2.02045710e+01 2.11228446e+01\n",
            " 2.20615243e+01 2.30206101e+01 2.40001020e+01 2.50000000e+01]\n"
          ]
        }
      ]
    },
    {
      "cell_type": "code",
      "source": [
        "plt.plot(x, y)"
      ],
      "metadata": {
        "colab": {
          "base_uri": "https://localhost:8080/",
          "height": 448
        },
        "id": "CMdoRzpcHXGl",
        "outputId": "be283966-03ea-4b93-b935-af3880791fab"
      },
      "execution_count": null,
      "outputs": [
        {
          "output_type": "execute_result",
          "data": {
            "text/plain": [
              "[<matplotlib.lines.Line2D at 0x7b2afc7927d0>]"
            ]
          },
          "metadata": {},
          "execution_count": 56
        },
        {
          "output_type": "display_data",
          "data": {
            "text/plain": [
              "<Figure size 640x480 with 1 Axes>"
            ],
            "image/png": "[encoded data removed]"
          },
          "metadata": {}
        }
      ]
    },
    {
      "cell_type": "code",
      "source": [
        "plt.plot(y)"
      ],
      "metadata": {
        "colab": {
          "base_uri": "https://localhost:8080/",
          "height": 448
        },
        "id": "oJ4n1pGXHZfO",
        "outputId": "ab2a991d-4f14-4d2f-ad1d-6e818c47339a"
      },
      "execution_count": null,
      "outputs": [
        {
          "output_type": "execute_result",
          "data": {
            "text/plain": [
              "[<matplotlib.lines.Line2D at 0x7b2afc46cb10>]"
            ]
          },
          "metadata": {},
          "execution_count": 57
        },
        {
          "output_type": "display_data",
          "data": {
            "text/plain": [
              "<Figure size 640x480 with 1 Axes>"
            ],
            "image/png": "[encoded data removed]"
          },
          "metadata": {}
        }
      ]
    },
    {
      "cell_type": "code",
      "source": [
        "plt.plot(np.random.rand(10))"
      ],
      "metadata": {
        "colab": {
          "base_uri": "https://localhost:8080/",
          "height": 448
        },
        "id": "xToCOn_iHb6Y",
        "outputId": "4fd11c4d-e869-41dc-a074-59e7626d36a0"
      },
      "execution_count": null,
      "outputs": [
        {
          "output_type": "execute_result",
          "data": {
            "text/plain": [
              "[<matplotlib.lines.Line2D at 0x7b2afc2827d0>]"
            ]
          },
          "metadata": {},
          "execution_count": 58
        },
        {
          "output_type": "display_data",
          "data": {
            "text/plain": [
              "<Figure size 640x480 with 1 Axes>"
            ],
            "image/png": "[encoded data removed]"
          },
          "metadata": {}
        }
      ]
    },
    {
      "cell_type": "code",
      "source": [
        "plt.plot(np.random.rand(10))\n",
        "plt.plot(np.random.rand(10))\n",
        "plt.plot(np.random.rand(10))"
      ],
      "metadata": {
        "colab": {
          "base_uri": "https://localhost:8080/",
          "height": 448
        },
        "id": "mofkYZOEHrhY",
        "outputId": "a41b7e33-3ff0-41f4-b304-13f72e2c8bd9"
      },
      "execution_count": null,
      "outputs": [
        {
          "output_type": "execute_result",
          "data": {
            "text/plain": [
              "[<matplotlib.lines.Line2D at 0x7b2afc3bd290>]"
            ]
          },
          "metadata": {},
          "execution_count": 60
        },
        {
          "output_type": "display_data",
          "data": {
            "text/plain": [
              "<Figure size 640x480 with 1 Axes>"
            ],
            "image/png": "[encoded data removed]"
          },
          "metadata": {}
        }
      ]
    },
    {
      "cell_type": "code",
      "source": [
        "plt.plot(np.random.rand(10))\n",
        "plt.plot(np.random.rand(10))\n",
        "plt.plot(np.random.rand(10))\n",
        "plt.legend([\"curve1\", \"curve2\", \"curve3\"])\n",
        "plt.xlabel(\"X label\")\n",
        "plt.ylabel(\"Y label\")\n",
        "plt.title(\"Title\")"
      ],
      "metadata": {
        "colab": {
          "base_uri": "https://localhost:8080/",
          "height": 490
        },
        "id": "uRU89wGVHwu5",
        "outputId": "f97cb58a-84b7-4b68-b81d-cc11c1a0be8b"
      },
      "execution_count": null,
      "outputs": [
        {
          "output_type": "execute_result",
          "data": {
            "text/plain": [
              "Text(0.5, 1.0, 'Title')"
            ]
          },
          "metadata": {},
          "execution_count": 62
        },
        {
          "output_type": "display_data",
          "data": {
            "text/plain": [
              "<Figure size 640x480 with 1 Axes>"
            ],
            "image/png": "[encoded data removed]"
          },
          "metadata": {}
        }
      ]
    },
    {
      "cell_type": "code",
      "source": [],
      "metadata": {
        "id": "NeZmWA3vIBub"
      },
      "execution_count": null,
      "outputs": []
    }
  ]
}