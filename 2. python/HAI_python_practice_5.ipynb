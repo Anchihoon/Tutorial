{
  "nbformat": 4,
  "nbformat_minor": 0,
  "metadata": {
    "colab": {
      "provenance": []
    },
    "kernelspec": {
      "name": "python3",
      "display_name": "Python 3"
    },
    "language_info": {
      "name": "python"
    }
  },
  "cells": [
    {
      "cell_type": "markdown",
      "source": [
        "# **5. Scientific computing**"
      ],
      "metadata": {
        "id": "GHdGphDZ89ZZ"
      }
    },
    {
      "cell_type": "markdown",
      "source": [
        "# Scipy\n",
        "SciPy는 과학 계산에 자주 쓰이는 수학적 기능들을 제공하는 여러 패키지들의 모임이다.\n",
        "\n",
        "서브 패키지들이 많지만 주로 다룰 패키지는\n",
        "\n",
        "\n",
        "*   interpolate (보간)\n",
        "*   optimize (최적화)\n",
        "*   stats (통계)\n",
        "*   integrate (적분)\n",
        "\n"
      ],
      "metadata": {
        "id": "o0o0dghR_6zn"
      }
    },
    {
      "cell_type": "code",
      "execution_count": null,
      "metadata": {
        "id": "uUXKrsud813B"
      },
      "outputs": [],
      "source": [
        "import numpy as np\n",
        "import matplotlib.pyplot as plt\n",
        "import scipy.linalg as la"
      ]
    },
    {
      "cell_type": "markdown",
      "source": [
        "# Interpolation (보간)\n",
        "일정한 간격의 x와 y 데이터가 있을 때 중간값들을 보간하여 더 부드럽게 하거나 정확한 곡선을 만들어 내는 방법들 같음"
      ],
      "metadata": {
        "id": "j-hxYXoFAp2A"
      }
    },
    {
      "cell_type": "code",
      "source": [
        "import scipy.interpolate as interp"
      ],
      "metadata": {
        "id": "vwsaW_eNAmoF"
      },
      "execution_count": null,
      "outputs": []
    },
    {
      "cell_type": "code",
      "source": [
        "# x = [-1, -0.25, 0.5, 1.25, 2.0]\n",
        "x = np.linspace(-1,2,5);\n",
        "y = x**3\n",
        "\n",
        "# 파란 점으로 시각화\n",
        "plt.plot(x,y,'bo')"
      ],
      "metadata": {
        "colab": {
          "base_uri": "https://localhost:8080/",
          "height": 448
        },
        "id": "N3AKoiY9Aw71",
        "outputId": "f51c67e6-2949-481c-d44a-9424bed09b25"
      },
      "execution_count": null,
      "outputs": [
        {
          "output_type": "execute_result",
          "data": {
            "text/plain": [
              "[<matplotlib.lines.Line2D at 0x7af2842e9f50>]"
            ]
          },
          "metadata": {},
          "execution_count": 6
        },
        {
          "output_type": "display_data",
          "data": {
            "text/plain": [
              "<Figure size 640x480 with 1 Axes>"
            ],
            "image/png": "[encoded data removed]"
          },
          "metadata": {}
        }
      ]
    },
    {
      "cell_type": "code",
      "source": [
        "# interp1d 는 1차원 보간함수를 생성\n",
        "# kind = 'linear' 는 선형 보간 방식을 사용\n",
        "f = interp.interp1d(x,y,kind = 'linear')"
      ],
      "metadata": {
        "id": "rNvNu0IvA1Fu"
      },
      "execution_count": null,
      "outputs": []
    },
    {
      "cell_type": "code",
      "source": [
        "type(f)"
      ],
      "metadata": {
        "colab": {
          "base_uri": "https://localhost:8080/",
          "height": 187
        },
        "id": "odFIWSREA-u6",
        "outputId": "0355412b-82c6-4aff-9d76-090e5e740b86"
      },
      "execution_count": null,
      "outputs": [
        {
          "output_type": "execute_result",
          "data": {
            "text/plain": [
              "scipy.interpolate._interpolate.interp1d"
            ],
            "text/html": [
              "<div style=\"max-width:800px; border: 1px solid var(--colab-border-color);\"><style>\n",
              "      pre.function-repr-contents {\n",
              "        overflow-x: auto;\n",
              "        padding: 8px 12px;\n",
              "        max-height: 500px;\n",
              "      }\n",
              "\n",
              "      pre.function-repr-contents.function-repr-contents-collapsed {\n",
              "        cursor: pointer;\n",
              "        max-height: 100px;\n",
              "      }\n",
              "    </style>\n",
              "    <pre style=\"white-space: initial; background:\n",
              "         var(--colab-secondary-surface-color); padding: 8px 12px;\n",
              "         border-bottom: 1px solid var(--colab-border-color);\"><b>scipy.interpolate._interpolate.interp1d</b><br/>def __call__(x)</pre><pre class=\"function-repr-contents function-repr-contents-collapsed\" style=\"\"><a class=\"filepath\" style=\"display:none\" href=\"#\">/usr/local/lib/python3.11/dist-packages/scipy/interpolate/_interpolate.py</a>Interpolate a 1-D function.\n",
              "\n",
              ".. legacy:: class\n",
              "\n",
              "    For a guide to the intended replacements for `interp1d` see\n",
              "    :ref:`tutorial-interpolate_1Dsection`.\n",
              "\n",
              "`x` and `y` are arrays of values used to approximate some function f:\n",
              "``y = f(x)``. This class returns a function whose call method uses\n",
              "interpolation to find the value of new points.\n",
              "\n",
              "Parameters\n",
              "----------\n",
              "x : (npoints, ) array_like\n",
              "    A 1-D array of real values.\n",
              "y : (..., npoints, ...) array_like\n",
              "    A N-D array of real values. The length of `y` along the interpolation\n",
              "    axis must be equal to the length of `x`. Use the ``axis`` parameter\n",
              "    to select correct axis. Unlike other interpolators, the default\n",
              "    interpolation axis is the last axis of `y`.\n",
              "kind : str or int, optional\n",
              "    Specifies the kind of interpolation as a string or as an integer\n",
              "    specifying the order of the spline interpolator to use.\n",
              "    The string has to be one of &#x27;linear&#x27;, &#x27;nearest&#x27;, &#x27;nearest-up&#x27;, &#x27;zero&#x27;,\n",
              "    &#x27;slinear&#x27;, &#x27;quadratic&#x27;, &#x27;cubic&#x27;, &#x27;previous&#x27;, or &#x27;next&#x27;. &#x27;zero&#x27;,\n",
              "    &#x27;slinear&#x27;, &#x27;quadratic&#x27; and &#x27;cubic&#x27; refer to a spline interpolation of\n",
              "    zeroth, first, second or third order; &#x27;previous&#x27; and &#x27;next&#x27; simply\n",
              "    return the previous or next value of the point; &#x27;nearest-up&#x27; and\n",
              "    &#x27;nearest&#x27; differ when interpolating half-integers (e.g. 0.5, 1.5)\n",
              "    in that &#x27;nearest-up&#x27; rounds up and &#x27;nearest&#x27; rounds down. Default\n",
              "    is &#x27;linear&#x27;.\n",
              "axis : int, optional\n",
              "    Axis in the ``y`` array corresponding to the x-coordinate values. Unlike\n",
              "    other interpolators, defaults to ``axis=-1``.\n",
              "copy : bool, optional\n",
              "    If ``True``, the class makes internal copies of x and y. If ``False``,\n",
              "    references to ``x`` and ``y`` are used if possible. The default is to copy.\n",
              "bounds_error : bool, optional\n",
              "    If True, a ValueError is raised any time interpolation is attempted on\n",
              "    a value outside of the range of x (where extrapolation is\n",
              "    necessary). If False, out of bounds values are assigned `fill_value`.\n",
              "    By default, an error is raised unless ``fill_value=&quot;extrapolate&quot;``.\n",
              "fill_value : array-like or (array-like, array_like) or &quot;extrapolate&quot;, optional\n",
              "    - if a ndarray (or float), this value will be used to fill in for\n",
              "      requested points outside of the data range. If not provided, then\n",
              "      the default is NaN. The array-like must broadcast properly to the\n",
              "      dimensions of the non-interpolation axes.\n",
              "    - If a two-element tuple, then the first element is used as a\n",
              "      fill value for ``x_new &lt; x[0]`` and the second element is used for\n",
              "      ``x_new &gt; x[-1]``. Anything that is not a 2-element tuple (e.g.,\n",
              "      list or ndarray, regardless of shape) is taken to be a single\n",
              "      array-like argument meant to be used for both bounds as\n",
              "      ``below, above = fill_value, fill_value``. Using a two-element tuple\n",
              "      or ndarray requires ``bounds_error=False``.\n",
              "\n",
              "      .. versionadded:: 0.17.0\n",
              "    - If &quot;extrapolate&quot;, then points outside the data range will be\n",
              "      extrapolated.\n",
              "\n",
              "      .. versionadded:: 0.17.0\n",
              "assume_sorted : bool, optional\n",
              "    If False, values of `x` can be in any order and they are sorted first.\n",
              "    If True, `x` has to be an array of monotonically increasing values.\n",
              "\n",
              "Attributes\n",
              "----------\n",
              "fill_value\n",
              "\n",
              "Methods\n",
              "-------\n",
              "__call__\n",
              "\n",
              "See Also\n",
              "--------\n",
              "splrep, splev\n",
              "    Spline interpolation/smoothing based on FITPACK.\n",
              "UnivariateSpline : An object-oriented wrapper of the FITPACK routines.\n",
              "interp2d : 2-D interpolation\n",
              "\n",
              "Notes\n",
              "-----\n",
              "Calling `interp1d` with NaNs present in input values results in\n",
              "undefined behaviour.\n",
              "\n",
              "Input values `x` and `y` must be convertible to `float` values like\n",
              "`int` or `float`.\n",
              "\n",
              "If the values in `x` are not unique, the resulting behavior is\n",
              "undefined and specific to the choice of `kind`, i.e., changing\n",
              "`kind` will change the behavior for duplicates.\n",
              "\n",
              "\n",
              "Examples\n",
              "--------\n",
              "&gt;&gt;&gt; import numpy as np\n",
              "&gt;&gt;&gt; import matplotlib.pyplot as plt\n",
              "&gt;&gt;&gt; from scipy import interpolate\n",
              "&gt;&gt;&gt; x = np.arange(0, 10)\n",
              "&gt;&gt;&gt; y = np.exp(-x/3.0)\n",
              "&gt;&gt;&gt; f = interpolate.interp1d(x, y)\n",
              "\n",
              "&gt;&gt;&gt; xnew = np.arange(0, 9, 0.1)\n",
              "&gt;&gt;&gt; ynew = f(xnew)   # use interpolation function returned by `interp1d`\n",
              "&gt;&gt;&gt; plt.plot(x, y, &#x27;o&#x27;, xnew, ynew, &#x27;-&#x27;)\n",
              "&gt;&gt;&gt; plt.show()</pre>\n",
              "      <script>\n",
              "      if (google.colab.kernel.accessAllowed && google.colab.files && google.colab.files.view) {\n",
              "        for (const element of document.querySelectorAll('.filepath')) {\n",
              "          element.style.display = 'block'\n",
              "          element.onclick = (event) => {\n",
              "            event.preventDefault();\n",
              "            event.stopPropagation();\n",
              "            google.colab.files.view(element.textContent, 154);\n",
              "          };\n",
              "        }\n",
              "      }\n",
              "      for (const element of document.querySelectorAll('.function-repr-contents')) {\n",
              "        element.onclick = (event) => {\n",
              "          event.preventDefault();\n",
              "          event.stopPropagation();\n",
              "          element.classList.toggle('function-repr-contents-collapsed');\n",
              "        };\n",
              "      }\n",
              "      </script>\n",
              "      </div>"
            ]
          },
          "metadata": {},
          "execution_count": 8
        }
      ]
    },
    {
      "cell_type": "code",
      "source": [
        "# x = 0.2일 때 보간된 y 값을 구하는 것\n",
        "f(0.2)"
      ],
      "metadata": {
        "colab": {
          "base_uri": "https://localhost:8080/"
        },
        "id": "EuDcbj-_BA2j",
        "outputId": "1b70e324-93bd-40eb-8277-f95210ab042f"
      },
      "execution_count": null,
      "outputs": [
        {
          "output_type": "execute_result",
          "data": {
            "text/plain": [
              "array(0.06875)"
            ]
          },
          "metadata": {},
          "execution_count": 9
        }
      ]
    },
    {
      "cell_type": "code",
      "source": [
        "x_fine = np.linspace(-1,2,100)\n",
        "plt.plot(x_fine, f(x_fine))\n",
        "plt.plot(x, y, 'ro')"
      ],
      "metadata": {
        "colab": {
          "base_uri": "https://localhost:8080/",
          "height": 448
        },
        "id": "-lCH52WFBDpe",
        "outputId": "12d034af-b044-4af7-d00e-91ae8efe4508"
      },
      "execution_count": null,
      "outputs": [
        {
          "output_type": "execute_result",
          "data": {
            "text/plain": [
              "[<matplotlib.lines.Line2D at 0x7af26f2d1410>]"
            ]
          },
          "metadata": {},
          "execution_count": 10
        },
        {
          "output_type": "display_data",
          "data": {
            "text/plain": [
              "<Figure size 640x480 with 1 Axes>"
            ],
            "image/png": "[encoded data removed]"
          },
          "metadata": {}
        }
      ]
    },
    {
      "cell_type": "code",
      "source": [
        "# 계단형 보간(파랑)\n",
        "plt.plot(x_fine, interp.interp1d(x,y,kind='zero')(x_fine))\n",
        "\n",
        "# 선형 보간(주황)\n",
        "plt.plot(x_fine, interp.interp1d(x,y, kind='linear')(x_fine))\n",
        "\n",
        "# 3차 스플라인 보간(초록)\n",
        "# 부드러운 곡선이 생성된 것 확인\n",
        "plt.plot(x_fine, interp.interp1d(x,y, kind='cubic')(x_fine))\n",
        "\n",
        "# 기존 점\n",
        "plt.plot(x,y,'ro')"
      ],
      "metadata": {
        "colab": {
          "base_uri": "https://localhost:8080/",
          "height": 448
        },
        "id": "nB9EbZjxBRSO",
        "outputId": "7064c0aa-173e-4575-d301-cf8b4fbc4333"
      },
      "execution_count": null,
      "outputs": [
        {
          "output_type": "execute_result",
          "data": {
            "text/plain": [
              "[<matplotlib.lines.Line2D at 0x7af26d147fd0>]"
            ]
          },
          "metadata": {},
          "execution_count": 11
        },
        {
          "output_type": "display_data",
          "data": {
            "text/plain": [
              "<Figure size 640x480 with 1 Axes>"
            ],
            "image/png": "[encoded data removed]"
          },
          "metadata": {}
        }
      ]
    },
    {
      "cell_type": "markdown",
      "source": [
        "# Optimization (최적화)\n"
      ],
      "metadata": {
        "id": "bQcGz5aMD1SV"
      }
    },
    {
      "cell_type": "code",
      "source": [
        "from scipy import optimize"
      ],
      "metadata": {
        "id": "Ao4FyTL-BqaW"
      },
      "execution_count": null,
      "outputs": []
    },
    {
      "cell_type": "code",
      "source": [
        "def f(x):\n",
        "  return x**4 - 10*x**2"
      ],
      "metadata": {
        "id": "EiELdIVEWHod"
      },
      "execution_count": null,
      "outputs": []
    },
    {
      "cell_type": "code",
      "source": [
        "x = np.linspace(-5,5,100)\n",
        "plt.plot(x, f(x));"
      ],
      "metadata": {
        "colab": {
          "base_uri": "https://localhost:8080/",
          "height": 430
        },
        "id": "EdYEIa5eWLlA",
        "outputId": "9a46e09f-fbf8-4515-b8c7-991876c9e5d7"
      },
      "execution_count": null,
      "outputs": [
        {
          "output_type": "display_data",
          "data": {
            "text/plain": [
              "<Figure size 640x480 with 1 Axes>"
            ],
            "image/png": "[encoded data removed]"
          },
          "metadata": {}
        }
      ]
    },
    {
      "cell_type": "code",
      "source": [
        "# 최소값을 수치적으로 찾는 과정\n",
        "results = optimize.minimize(f, 4)\n",
        "results"
      ],
      "metadata": {
        "colab": {
          "base_uri": "https://localhost:8080/"
        },
        "id": "CehkhCpFWRH_",
        "outputId": "ac43b0c3-6c20-4f71-fc6a-e06b8506efe0"
      },
      "execution_count": null,
      "outputs": [
        {
          "output_type": "execute_result",
          "data": {
            "text/plain": [
              "  message: Optimization terminated successfully.\n",
              "  success: True\n",
              "   status: 0\n",
              "      fun: -24.99999999999999\n",
              "        x: [ 2.236e+00]\n",
              "      nit: 7\n",
              "      jac: [ 1.431e-06]\n",
              " hess_inv: [[ 2.497e-02]]\n",
              "     nfev: 16\n",
              "     njev: 8"
            ]
          },
          "metadata": {},
          "execution_count": 6
        }
      ]
    },
    {
      "cell_type": "code",
      "source": [
        "x_opt = results.x"
      ],
      "metadata": {
        "id": "d_7RlsfiWcxZ"
      },
      "execution_count": null,
      "outputs": []
    },
    {
      "cell_type": "code",
      "source": [
        "# 최소값의 위치를 빨간점으로 표시\n",
        "plt.plot(x, f(x))\n",
        "plt.plot(x_opt, f(x_opt), 'ro');"
      ],
      "metadata": {
        "colab": {
          "base_uri": "https://localhost:8080/",
          "height": 430
        },
        "id": "bMSsCxM3WfYj",
        "outputId": "ae419022-b0f7-43b2-b6bf-d657e5247a3a"
      },
      "execution_count": null,
      "outputs": [
        {
          "output_type": "display_data",
          "data": {
            "text/plain": [
              "<Figure size 640x480 with 1 Axes>"
            ],
            "image/png": "[encoded data removed]"
          },
          "metadata": {}
        }
      ]
    },
    {
      "cell_type": "markdown",
      "source": [
        "local minima가 여러개인 경우"
      ],
      "metadata": {
        "id": "zKjhhyM7YdnR"
      }
    },
    {
      "cell_type": "code",
      "source": [
        "# 입력이 2차원 형태임\n",
        "# 최소값이 여러개 존재할 수 있을 것 같다.(local minima가 여러개 있는 경우)\n",
        "def f(x):\n",
        "  return x[0]*x[0] + x[1]*x[1] + 5*(np.sin(2*x[0]) + np.sin(2*x[1]))"
      ],
      "metadata": {
        "id": "RI_GsdZ1WlHV"
      },
      "execution_count": null,
      "outputs": []
    },
    {
      "cell_type": "code",
      "source": [
        "x = np.linspace(-5, 5, 100)\n",
        "y = np.linspace(-5, 5, 100)\n",
        "X, Y = np.meshgrid(x,y)"
      ],
      "metadata": {
        "id": "jdwdqV4qWywR"
      },
      "execution_count": null,
      "outputs": []
    },
    {
      "cell_type": "code",
      "source": [
        "plt.imshow(X**2+Y**2)"
      ],
      "metadata": {
        "colab": {
          "base_uri": "https://localhost:8080/",
          "height": 451
        },
        "id": "FWbmRRvRW5Xu",
        "outputId": "0bdca9d5-5bfc-4133-c2d2-b51ed34d5c66"
      },
      "execution_count": null,
      "outputs": [
        {
          "output_type": "execute_result",
          "data": {
            "text/plain": [
              "<matplotlib.image.AxesImage at 0x7eb7ccbdc050>"
            ]
          },
          "metadata": {},
          "execution_count": 35
        },
        {
          "output_type": "display_data",
          "data": {
            "text/plain": [
              "<Figure size 640x480 with 1 Axes>"
            ],
            "image/png": "[encoded data removed]"
          },
          "metadata": {}
        }
      ]
    },
    {
      "cell_type": "code",
      "source": [
        "plt.imshow(f(np.array([X,Y])))"
      ],
      "metadata": {
        "colab": {
          "base_uri": "https://localhost:8080/",
          "height": 451
        },
        "id": "AJk90IEqW7yW",
        "outputId": "a778586c-fc96-4e61-951b-cbaa22c1125e"
      },
      "execution_count": null,
      "outputs": [
        {
          "output_type": "execute_result",
          "data": {
            "text/plain": [
              "<matplotlib.image.AxesImage at 0x7eb7ccbcf250>"
            ]
          },
          "metadata": {},
          "execution_count": 36
        },
        {
          "output_type": "display_data",
          "data": {
            "text/plain": [
              "<Figure size 640x480 with 1 Axes>"
            ],
            "image/png": "[encoded data removed]"
          },
          "metadata": {}
        }
      ]
    },
    {
      "cell_type": "markdown",
      "source": [
        "- message : 수렴 메세지\n",
        "- success : 최적화 성공여부\n",
        "- status : 상태코드 0이면 됨\n",
        "- fun : 최소값에서의 함수값\n",
        "- x : 찾은 최적해\n",
        "- nit : 반복횟수\n",
        "- jac : Gradient\n",
        "- hess_inv : 역 헤시안 근사 행렬\n",
        "- nfev : 함수 f 계산 횟수\n",
        "- njev : gradient 계산 횟수"
      ],
      "metadata": {
        "id": "OgFjJjcMbG_A"
      }
    },
    {
      "cell_type": "code",
      "source": [
        "optimize.minimize(f, x0=[-1, 1])"
      ],
      "metadata": {
        "colab": {
          "base_uri": "https://localhost:8080/"
        },
        "id": "_De8nIaYXB-7",
        "outputId": "5d5d81ad-126c-446d-b0e8-7c89c54035c6"
      },
      "execution_count": null,
      "outputs": [
        {
          "output_type": "execute_result",
          "data": {
            "text/plain": [
              "  message: Optimization terminated successfully.\n",
              "  success: True\n",
              "   status: 0\n",
              "      fun: -4.399749751160588\n",
              "        x: [-7.138e-01  2.136e+00]\n",
              "      nit: 9\n",
              "      jac: [-5.960e-08  5.960e-08]\n",
              " hess_inv: [[ 4.597e-02 -6.403e-07]\n",
              "            [-6.403e-07  4.980e-02]]\n",
              "     nfev: 42\n",
              "     njev: 14"
            ]
          },
          "metadata": {},
          "execution_count": 14
        }
      ]
    },
    {
      "cell_type": "code",
      "source": [
        "optimize.minimize(f, x0=[3, 3])"
      ],
      "metadata": {
        "colab": {
          "base_uri": "https://localhost:8080/"
        },
        "id": "9WTfqN0Gbse6",
        "outputId": "82438392-0b63-4258-8a38-063d00a6d03c"
      },
      "execution_count": null,
      "outputs": [
        {
          "output_type": "execute_result",
          "data": {
            "text/plain": [
              "  message: Optimization terminated successfully.\n",
              "  success: True\n",
              "   status: 0\n",
              "      fun: 0.07912876341590547\n",
              "        x: [ 2.136e+00  2.136e+00]\n",
              "      nit: 5\n",
              "      jac: [-3.576e-07 -3.576e-07]\n",
              " hess_inv: [[ 5.249e-01 -4.751e-01]\n",
              "            [-4.751e-01  5.249e-01]]\n",
              "     nfev: 18\n",
              "     njev: 6"
            ]
          },
          "metadata": {},
          "execution_count": 32
        }
      ]
    },
    {
      "cell_type": "code",
      "source": [
        "optimize.minimize(f, x0=[2, -2])"
      ],
      "metadata": {
        "colab": {
          "base_uri": "https://localhost:8080/"
        },
        "id": "gaNQZryZb3Fs",
        "outputId": "2f4b3266-3fe4-488f-f03c-e2c629c2f48c"
      },
      "execution_count": null,
      "outputs": [
        {
          "output_type": "execute_result",
          "data": {
            "text/plain": [
              "  message: Optimization terminated successfully.\n",
              "  success: True\n",
              "   status: 0\n",
              "      fun: -4.399749751160329\n",
              "        x: [ 2.136e+00 -7.138e-01]\n",
              "      nit: 7\n",
              "      jac: [-1.907e-06 -2.623e-06]\n",
              " hess_inv: [[ 4.954e-02 -2.732e-04]\n",
              "            [-2.732e-04  4.569e-02]]\n",
              "     nfev: 27\n",
              "     njev: 9"
            ]
          },
          "metadata": {},
          "execution_count": 37
        }
      ]
    },
    {
      "cell_type": "code",
      "source": [
        "optimize.minimize(f, x0=[-3, 1])"
      ],
      "metadata": {
        "colab": {
          "base_uri": "https://localhost:8080/"
        },
        "id": "jArATlBqcBur",
        "outputId": "00a6326d-46f1-4639-8f7d-1f825bb2deb2"
      },
      "execution_count": null,
      "outputs": [
        {
          "output_type": "execute_result",
          "data": {
            "text/plain": [
              "  message: Optimization terminated successfully.\n",
              "  success: True\n",
              "   status: 0\n",
              "      fun: 8.995248354745979\n",
              "        x: [-3.534e+00  2.136e+00]\n",
              "      nit: 9\n",
              "      jac: [ 9.537e-07  1.431e-06]\n",
              " hess_inv: [[ 6.224e-02  4.179e-04]\n",
              "            [ 4.179e-04  5.039e-02]]\n",
              "     nfev: 33\n",
              "     njev: 11"
            ]
          },
          "metadata": {},
          "execution_count": 38
        }
      ]
    },
    {
      "cell_type": "markdown",
      "source": [
        "초기값에 따라서 다른 local minima에 수렴하는 것을 알 수 있다.\n",
        "\n",
        "따라서 최적화에 성공했다고 해서 그게 좋은 최소값인지 보장 된다는 것은 아닌 것 같다.\n",
        "\n",
        "따라서 초기값이 최적화 결과에 영향을 준다고 생각한다."
      ],
      "metadata": {
        "id": "e-3PiZl_cYVO"
      }
    },
    {
      "cell_type": "markdown",
      "source": [
        "옵션을 다르게 하면 어떻게 최적화 될까"
      ],
      "metadata": {
        "id": "RnPxBuYecuQZ"
      }
    },
    {
      "cell_type": "code",
      "source": [
        "optimize.minimize(f, x0=[-1, 1], method = 'BFGS')"
      ],
      "metadata": {
        "colab": {
          "base_uri": "https://localhost:8080/"
        },
        "id": "W7nJn4JJcymm",
        "outputId": "0956292d-87ab-4654-cc7e-50754e4e7467"
      },
      "execution_count": null,
      "outputs": [
        {
          "output_type": "execute_result",
          "data": {
            "text/plain": [
              "  message: Optimization terminated successfully.\n",
              "  success: True\n",
              "   status: 0\n",
              "      fun: -4.399749751160588\n",
              "        x: [-7.138e-01  2.136e+00]\n",
              "      nit: 9\n",
              "      jac: [-5.960e-08  5.960e-08]\n",
              " hess_inv: [[ 4.597e-02 -6.403e-07]\n",
              "            [-6.403e-07  4.980e-02]]\n",
              "     nfev: 42\n",
              "     njev: 14"
            ]
          },
          "metadata": {},
          "execution_count": 40
        }
      ]
    },
    {
      "cell_type": "code",
      "source": [
        "optimize.minimize(f, x0=[-1, 1], method = 'Nelder-Mead')"
      ],
      "metadata": {
        "colab": {
          "base_uri": "https://localhost:8080/"
        },
        "id": "fMAup8Grc5h9",
        "outputId": "e9075039-a4fe-4e59-e77f-b0645fd011ed"
      },
      "execution_count": null,
      "outputs": [
        {
          "output_type": "execute_result",
          "data": {
            "text/plain": [
              "       message: Optimization terminated successfully.\n",
              "       success: True\n",
              "        status: 0\n",
              "           fun: -4.399749742034779\n",
              "             x: [-7.138e-01  2.136e+00]\n",
              "           nit: 41\n",
              "          nfev: 79\n",
              " final_simplex: (array([[-7.138e-01,  2.136e+00],\n",
              "                       [-7.137e-01,  2.136e+00],\n",
              "                       [-7.138e-01,  2.135e+00]]), array([-4.400e+00, -4.400e+00, -4.400e+00]))"
            ]
          },
          "metadata": {},
          "execution_count": 41
        }
      ]
    },
    {
      "cell_type": "code",
      "source": [
        "optimize.minimize(f, x0=[-1, 1], method = 'Powell')"
      ],
      "metadata": {
        "colab": {
          "base_uri": "https://localhost:8080/"
        },
        "id": "U_G5MH-ac_c8",
        "outputId": "d10b5901-7a18-44d6-db98-61eb20650320"
      },
      "execution_count": null,
      "outputs": [
        {
          "output_type": "execute_result",
          "data": {
            "text/plain": [
              " message: Optimization terminated successfully.\n",
              " success: True\n",
              "  status: 0\n",
              "     fun: -4.399749751160578\n",
              "       x: [-7.138e-01  2.136e+00]\n",
              "     nit: 2\n",
              "   direc: [[ 1.000e+00  0.000e+00]\n",
              "           [ 0.000e+00  1.000e+00]]\n",
              "    nfev: 42"
            ]
          },
          "metadata": {},
          "execution_count": 42
        }
      ]
    },
    {
      "cell_type": "markdown",
      "source": [
        "최적화도 성공적으로 종료되고 최솟값 또한 거의 동일하고 최솟값을 찾은 x또한 거의 동일하다.\n",
        "\n",
        "하지만 nit(반복 횟수)가 다르고 nfev(함수 f를 계산한 횟수 또한 다르다)\n",
        "\n",
        "따라서 같은 함수더라도 method에 따라 수렴 속도, 반복 횟수, 함수 호출 수가 크게 달라질 수있을 것 같다."
      ],
      "metadata": {
        "id": "H3vuCuLmdXm9"
      }
    },
    {
      "cell_type": "markdown",
      "source": [
        "# Curve fitting"
      ],
      "metadata": {
        "id": "grDacObuYloR"
      }
    },
    {
      "cell_type": "code",
      "source": [
        "# 무작위적인 데이터를 생성\n",
        "x = np.linspace(-2, 2, 30)\n",
        "y = x + np.sin(6, 5*x) + 0.3 * np.random.randn(30)\n",
        "plt.plot(x, y, 'ro')"
      ],
      "metadata": {
        "colab": {
          "base_uri": "https://localhost:8080/",
          "height": 449
        },
        "id": "bc2JfKeyXGEW",
        "outputId": "00728d0f-01d4-48f7-adea-989c6a265556"
      },
      "execution_count": null,
      "outputs": [
        {
          "output_type": "execute_result",
          "data": {
            "text/plain": [
              "[<matplotlib.lines.Line2D at 0x7eb7cc95ea90>]"
            ]
          },
          "metadata": {},
          "execution_count": 47
        },
        {
          "output_type": "display_data",
          "data": {
            "text/plain": [
              "<Figure size 640x480 with 1 Axes>"
            ],
            "image/png": "[encoded data removed]"
          },
          "metadata": {}
        }
      ]
    },
    {
      "cell_type": "code",
      "source": [
        "# 선형(직선) 모델로 피팅\n",
        "def f(x, a, b):\n",
        "  return a*x + b"
      ],
      "metadata": {
        "id": "AhVKJGj5Y0Zp"
      },
      "execution_count": null,
      "outputs": []
    },
    {
      "cell_type": "code",
      "source": [
        "# optimize.curve.fit이 자동으로 a, b를 추정\n",
        "# (0,0)이 초기 추정값\n",
        "((a,b),_) = optimize.curve_fit(f, x, y,(0,0))\n",
        "a, b"
      ],
      "metadata": {
        "colab": {
          "base_uri": "https://localhost:8080/"
        },
        "id": "JUJQaNPNY5rY",
        "outputId": "a84d7a91-2006-42f7-b38a-6aa1bbed8c8a"
      },
      "execution_count": null,
      "outputs": [
        {
          "output_type": "execute_result",
          "data": {
            "text/plain": [
              "(np.float64(1.015783514582195), np.float64(-0.19817104363818255))"
            ]
          },
          "metadata": {},
          "execution_count": 49
        }
      ]
    },
    {
      "cell_type": "code",
      "source": [
        "((a,b),_) = optimize.curve_fit(f, x, y,(3,3))\n",
        "a, b"
      ],
      "metadata": {
        "colab": {
          "base_uri": "https://localhost:8080/"
        },
        "id": "8CgNUZPqeab7",
        "outputId": "85fdd40b-c94f-40ed-c9d4-3facb5071710"
      },
      "execution_count": null,
      "outputs": [
        {
          "output_type": "execute_result",
          "data": {
            "text/plain": [
              "(np.float64(1.0157835141630007), np.float64(-0.1981710407525532))"
            ]
          },
          "metadata": {},
          "execution_count": 50
        }
      ]
    },
    {
      "cell_type": "code",
      "source": [
        "((a,b),_) = optimize.curve_fit(f, x, y,(-4,4))\n",
        "a, b"
      ],
      "metadata": {
        "colab": {
          "base_uri": "https://localhost:8080/"
        },
        "id": "Of_o-10zeaty",
        "outputId": "43a0ba24-a42d-423c-b660-dbd5e959cba7"
      },
      "execution_count": null,
      "outputs": [
        {
          "output_type": "execute_result",
          "data": {
            "text/plain": [
              "(np.float64(1.0157835126851538), np.float64(-0.19817104272369424))"
            ]
          },
          "metadata": {},
          "execution_count": 51
        }
      ]
    },
    {
      "cell_type": "code",
      "source": [
        "optimize.curve_fit?"
      ],
      "metadata": {
        "id": "o2ZLcjUPZDmJ"
      },
      "execution_count": null,
      "outputs": []
    },
    {
      "cell_type": "code",
      "source": [
        "# 추정한 a, b에 따른 곡선 시각화\n",
        "x_fine = np.linspace(-2, 2, 200)\n",
        "plt.plot(x_fine, f(x_fine, a, b))\n",
        "plt.plot(x, y, 'ro')"
      ],
      "metadata": {
        "colab": {
          "base_uri": "https://localhost:8080/",
          "height": 449
        },
        "id": "SWE1lgBhZJ_J",
        "outputId": "292f4b01-6123-44b7-8ac7-3b1257fb9de5"
      },
      "execution_count": null,
      "outputs": [
        {
          "output_type": "execute_result",
          "data": {
            "text/plain": [
              "[<matplotlib.lines.Line2D at 0x7eb7cc82ae10>]"
            ]
          },
          "metadata": {},
          "execution_count": 52
        },
        {
          "output_type": "display_data",
          "data": {
            "text/plain": [
              "<Figure size 640x480 with 1 Axes>"
            ],
            "image/png": "[encoded data removed]"
          },
          "metadata": {}
        }
      ]
    },
    {
      "cell_type": "code",
      "source": [
        "# sin함수가 포함된 비선형적인 모델로 피팅\n",
        "def g(x, a, b):\n",
        "  return a*x + b *np.sin(6.5*x)"
      ],
      "metadata": {
        "id": "fQKRsZhkZSeJ"
      },
      "execution_count": null,
      "outputs": []
    },
    {
      "cell_type": "code",
      "source": [
        "((a,b),_) = optimize.curve_fit(g,x,y,(0,0))\n",
        "a, b"
      ],
      "metadata": {
        "colab": {
          "base_uri": "https://localhost:8080/"
        },
        "id": "MRPByjcvZX4j",
        "outputId": "0f66fc79-689c-485a-c9ed-98055a353f5b"
      },
      "execution_count": null,
      "outputs": [
        {
          "output_type": "execute_result",
          "data": {
            "text/plain": [
              "(np.float64(1.0082378505306564), np.float64(-0.11609507830356312))"
            ]
          },
          "metadata": {},
          "execution_count": 53
        }
      ]
    },
    {
      "cell_type": "code",
      "source": [
        "# 비선형적인 선으로 추정\n",
        "x_fine = np.linspace(-2,2,200)\n",
        "plt.plot(x_fine, g(x_fine, a, b))\n",
        "plt.plot(x, y, 'ro')"
      ],
      "metadata": {
        "colab": {
          "base_uri": "https://localhost:8080/",
          "height": 448
        },
        "id": "xV87Mm33ZeQd",
        "outputId": "c179f80c-f268-4d65-b907-c186f148e83f"
      },
      "execution_count": null,
      "outputs": [
        {
          "output_type": "execute_result",
          "data": {
            "text/plain": [
              "[<matplotlib.lines.Line2D at 0x7eb7cc8a1f50>]"
            ]
          },
          "metadata": {},
          "execution_count": 54
        },
        {
          "output_type": "display_data",
          "data": {
            "text/plain": [
              "<Figure size 640x480 with 1 Axes>"
            ],
            "image/png": "[encoded data removed]"
          },
          "metadata": {}
        }
      ]
    },
    {
      "cell_type": "markdown",
      "source": [
        "# Root Finding"
      ],
      "metadata": {
        "id": "qwLhPr1BfAFP"
      }
    },
    {
      "cell_type": "markdown",
      "source": [
        "주어진 함수 f(x) 에서 f(x) = 0 이되는 x값을 찾는거임\n",
        "\n",
        "-1은 시작점"
      ],
      "metadata": {
        "id": "hqBtX-MYfOJS"
      }
    },
    {
      "cell_type": "code",
      "source": [
        "def f(x):\n",
        "  return np.sin(x)\n",
        "\n",
        "optimize.root(f, -1)"
      ],
      "metadata": {
        "colab": {
          "base_uri": "https://localhost:8080/"
        },
        "id": "c3K6BllGZmJ2",
        "outputId": "0a2ddb76-a453-4784-986a-aa4b2aaecbeb"
      },
      "execution_count": null,
      "outputs": [
        {
          "output_type": "execute_result",
          "data": {
            "text/plain": [
              " message: The solution converged.\n",
              " success: True\n",
              "  status: 1\n",
              "     fun: [ 0.000e+00]\n",
              "       x: [ 0.000e+00]\n",
              "  method: hybr\n",
              "    nfev: 12\n",
              "    fjac: [[-1.000e+00]]\n",
              "       r: [-1.000e+00]\n",
              "     qtf: [-5.740e-42]"
            ]
          },
          "metadata": {},
          "execution_count": 55
        }
      ]
    },
    {
      "cell_type": "markdown",
      "source": [
        "# Exercise 6\n",
        "Linear programming 을 통해 c^T x 값을 최소화하는 x를 찾는것\n",
        "\n",
        "문제는 원문을 보고 진행\n",
        "\n",
        "\n"
      ],
      "metadata": {
        "id": "yZb_YgYughAG"
      }
    },
    {
      "cell_type": "code",
      "source": [
        "c = [1, 2]\n",
        "\n",
        "A_ub = [[1, 0],\n",
        "        [-5, -1]]\n",
        "\n",
        "b_ub = [1, 0]\n",
        "\n",
        "A_eq = 0\n",
        "\n",
        "b_eq = 0"
      ],
      "metadata": {
        "id": "6ARLE8wSfHe8"
      },
      "execution_count": null,
      "outputs": []
    },
    {
      "cell_type": "markdown",
      "source": [
        "- fun : 최소화된 c^T * x 값\n",
        "- x : 최적의 x값\n",
        "- lower residual : 변수들의 하한\n",
        "- lower marginals : 변수에 대한 목적함수의 기울기\n",
        "- upper : 상한은 없음"
      ],
      "metadata": {
        "id": "TTF1WjThjFYv"
      }
    },
    {
      "cell_type": "code",
      "source": [
        "from scipy import optimize\n",
        "\n",
        "result = optimize.linprog(c=c, A_ub = A_ub, b_ub = b_ub)\n",
        "print(result)"
      ],
      "metadata": {
        "colab": {
          "base_uri": "https://localhost:8080/"
        },
        "id": "9-PZGm04hhGg",
        "outputId": "acda029c-0dce-4183-aef0-c5a4844237d4"
      },
      "execution_count": null,
      "outputs": [
        {
          "output_type": "stream",
          "name": "stdout",
          "text": [
            "       message: Optimization terminated successfully. (HiGHS Status 7: Optimal)\n",
            "       success: True\n",
            "        status: 0\n",
            "           fun: 0.0\n",
            "             x: [ 0.000e+00  0.000e+00]\n",
            "           nit: 0\n",
            "         lower:  residual: [ 0.000e+00  0.000e+00]\n",
            "                marginals: [ 1.000e+00  2.000e+00]\n",
            "         upper:  residual: [       inf        inf]\n",
            "                marginals: [ 0.000e+00  0.000e+00]\n",
            "         eqlin:  residual: []\n",
            "                marginals: []\n",
            "       ineqlin:  residual: [ 1.000e+00  0.000e+00]\n",
            "                marginals: [-0.000e+00 -0.000e+00]\n"
          ]
        }
      ]
    },
    {
      "cell_type": "markdown",
      "source": [
        "# Statistics"
      ],
      "metadata": {
        "id": "7ZAV6nK8jv-j"
      }
    },
    {
      "cell_type": "code",
      "source": [
        "from scipy import stats"
      ],
      "metadata": {
        "id": "VRoE_tfhh-mU"
      },
      "execution_count": null,
      "outputs": []
    },
    {
      "cell_type": "code",
      "source": [
        "# 정규분포를 따르는 데이터 생성\n",
        "samples = 3*np.random.randn(1000)+2\n",
        "plt.hist(samples);"
      ],
      "metadata": {
        "colab": {
          "base_uri": "https://localhost:8080/",
          "height": 430
        },
        "id": "J_2Q43Cuj1Z5",
        "outputId": "0d98289b-1afc-463f-e70c-cd85f1fb2f20"
      },
      "execution_count": null,
      "outputs": [
        {
          "output_type": "display_data",
          "data": {
            "text/plain": [
              "<Figure size 640x480 with 1 Axes>"
            ],
            "image/png": "[encoded data removed]"
          },
          "metadata": {}
        }
      ]
    },
    {
      "cell_type": "code",
      "source": [
        "# 평균과 표준편차를 추정해줌\n",
        "# 3을 곱하고 2를 더했으므로 평균 2, 표준편차 3을 기대하게됨\n",
        "stats.norm.fit(samples)"
      ],
      "metadata": {
        "colab": {
          "base_uri": "https://localhost:8080/"
        },
        "id": "PFOwrI1dj5WA",
        "outputId": "8606dcbd-deab-4c8a-c233-4451a49e1d75"
      },
      "execution_count": null,
      "outputs": [
        {
          "output_type": "execute_result",
          "data": {
            "text/plain": [
              "(np.float64(1.8616569686649755), np.float64(3.0440994658165716))"
            ]
          },
          "metadata": {},
          "execution_count": 61
        }
      ]
    },
    {
      "cell_type": "code",
      "source": [
        "# 정규분포 샘플과 약간의 노이즈가 더해진 정규분포 샘플\n",
        "a = np.random.randn(300)\n",
        "b = np.random.randn(300) + 0.1"
      ],
      "metadata": {
        "id": "j0kwlEV_j8St"
      },
      "execution_count": null,
      "outputs": []
    },
    {
      "cell_type": "markdown",
      "source": [
        "- statistic : t-값 (두 집단의 평균 차이를 표준오차로 나눈 값)\n",
        "- pvalue : p값 (두 집단 평균 차이가 우연일 확률)\n",
        "- df : 자유도"
      ],
      "metadata": {
        "id": "4jgF9LLUlZck"
      }
    },
    {
      "cell_type": "code",
      "source": [
        "# 두 집단이 통계적으로 유의미 하게 다른지 t-검정을 해봄\n",
        "stats.ttest_ind(a, b)"
      ],
      "metadata": {
        "colab": {
          "base_uri": "https://localhost:8080/"
        },
        "id": "pSMozOJFj_3R",
        "outputId": "a55c7713-986f-4c63-ee6d-e37a7b2a999b"
      },
      "execution_count": null,
      "outputs": [
        {
          "output_type": "execute_result",
          "data": {
            "text/plain": [
              "TtestResult(statistic=np.float64(-1.374366760722779), pvalue=np.float64(0.16984268170295205), df=np.float64(598.0))"
            ]
          },
          "metadata": {},
          "execution_count": 63
        }
      ]
    },
    {
      "cell_type": "code",
      "source": [
        "# 두개의 정규 분포 샘플을 concatenate로 합침\n",
        "x = np.concatenate(( 2*np.random.randn(1000)+5, 0.6*np.random.randn(1000)-1))"
      ],
      "metadata": {
        "id": "sUmUl___kBZF"
      },
      "execution_count": null,
      "outputs": []
    },
    {
      "cell_type": "code",
      "source": [
        "plt.hist(x);"
      ],
      "metadata": {
        "colab": {
          "base_uri": "https://localhost:8080/",
          "height": 430
        },
        "id": "MBgi3IQkkKnV",
        "outputId": "2e93ec8a-647b-497d-90d1-9dc27a6c4d30"
      },
      "execution_count": null,
      "outputs": [
        {
          "output_type": "display_data",
          "data": {
            "text/plain": [
              "<Figure size 640x480 with 1 Axes>"
            ],
            "image/png": "[encoded data removed]"
          },
          "metadata": {}
        }
      ]
    },
    {
      "cell_type": "code",
      "source": [
        "# gaussian_kde는 x 데이터의 연속 확률 밀도 함수를 부드럽게 추정\n",
        "pdf = stats.kde.gaussian_kde(x)\n",
        "type(pdf)"
      ],
      "metadata": {
        "colab": {
          "base_uri": "https://localhost:8080/",
          "height": 244
        },
        "id": "ZYYP4zDckL_H",
        "outputId": "a51d93e3-72f3-4e1d-ea65-e0101f890157"
      },
      "execution_count": null,
      "outputs": [
        {
          "output_type": "stream",
          "name": "stderr",
          "text": [
            "<ipython-input-66-a04330a1fb6e>:1: DeprecationWarning: Please import `gaussian_kde` from the `scipy.stats` namespace; the `scipy.stats.kde` namespace is deprecated and will be removed in SciPy 2.0.0.\n",
            "  pdf = stats.kde.gaussian_kde(x)\n"
          ]
        },
        {
          "output_type": "execute_result",
          "data": {
            "text/plain": [
              "scipy.stats._kde.gaussian_kde"
            ],
            "text/html": [
              "<div style=\"max-width:800px; border: 1px solid var(--colab-border-color);\"><style>\n",
              "      pre.function-repr-contents {\n",
              "        overflow-x: auto;\n",
              "        padding: 8px 12px;\n",
              "        max-height: 500px;\n",
              "      }\n",
              "\n",
              "      pre.function-repr-contents.function-repr-contents-collapsed {\n",
              "        cursor: pointer;\n",
              "        max-height: 100px;\n",
              "      }\n",
              "    </style>\n",
              "    <pre style=\"white-space: initial; background:\n",
              "         var(--colab-secondary-surface-color); padding: 8px 12px;\n",
              "         border-bottom: 1px solid var(--colab-border-color);\"><b>scipy.stats._kde.gaussian_kde</b><br/>def evaluate(points)</pre><pre class=\"function-repr-contents function-repr-contents-collapsed\" style=\"\"><a class=\"filepath\" style=\"display:none\" href=\"#\">/usr/local/lib/python3.11/dist-packages/scipy/stats/_kde.py</a>Representation of a kernel-density estimate using Gaussian kernels.\n",
              "\n",
              "Kernel density estimation is a way to estimate the probability density\n",
              "function (PDF) of a random variable in a non-parametric way.\n",
              "`gaussian_kde` works for both uni-variate and multi-variate data.   It\n",
              "includes automatic bandwidth determination.  The estimation works best for\n",
              "a unimodal distribution; bimodal or multi-modal distributions tend to be\n",
              "oversmoothed.\n",
              "\n",
              "Parameters\n",
              "----------\n",
              "dataset : array_like\n",
              "    Datapoints to estimate from. In case of univariate data this is a 1-D\n",
              "    array, otherwise a 2-D array with shape (# of dims, # of data).\n",
              "bw_method : str, scalar or callable, optional\n",
              "    The method used to calculate the estimator bandwidth.  This can be\n",
              "    &#x27;scott&#x27;, &#x27;silverman&#x27;, a scalar constant or a callable.  If a scalar,\n",
              "    this will be used directly as `kde.factor`.  If a callable, it should\n",
              "    take a `gaussian_kde` instance as only parameter and return a scalar.\n",
              "    If None (default), &#x27;scott&#x27; is used.  See Notes for more details.\n",
              "weights : array_like, optional\n",
              "    weights of datapoints. This must be the same shape as dataset.\n",
              "    If None (default), the samples are assumed to be equally weighted\n",
              "\n",
              "Attributes\n",
              "----------\n",
              "dataset : ndarray\n",
              "    The dataset with which `gaussian_kde` was initialized.\n",
              "d : int\n",
              "    Number of dimensions.\n",
              "n : int\n",
              "    Number of datapoints.\n",
              "neff : int\n",
              "    Effective number of datapoints.\n",
              "\n",
              "    .. versionadded:: 1.2.0\n",
              "factor : float\n",
              "    The bandwidth factor, obtained from `kde.covariance_factor`. The square\n",
              "    of `kde.factor` multiplies the covariance matrix of the data in the kde\n",
              "    estimation.\n",
              "covariance : ndarray\n",
              "    The covariance matrix of `dataset`, scaled by the calculated bandwidth\n",
              "    (`kde.factor`).\n",
              "inv_cov : ndarray\n",
              "    The inverse of `covariance`.\n",
              "\n",
              "Methods\n",
              "-------\n",
              "evaluate\n",
              "__call__\n",
              "integrate_gaussian\n",
              "integrate_box_1d\n",
              "integrate_box\n",
              "integrate_kde\n",
              "pdf\n",
              "logpdf\n",
              "resample\n",
              "set_bandwidth\n",
              "covariance_factor\n",
              "\n",
              "Notes\n",
              "-----\n",
              "Bandwidth selection strongly influences the estimate obtained from the KDE\n",
              "(much more so than the actual shape of the kernel).  Bandwidth selection\n",
              "can be done by a &quot;rule of thumb&quot;, by cross-validation, by &quot;plug-in\n",
              "methods&quot; or by other means; see [3]_, [4]_ for reviews.  `gaussian_kde`\n",
              "uses a rule of thumb, the default is Scott&#x27;s Rule.\n",
              "\n",
              "Scott&#x27;s Rule [1]_, implemented as `scotts_factor`, is::\n",
              "\n",
              "    n**(-1./(d+4)),\n",
              "\n",
              "with ``n`` the number of data points and ``d`` the number of dimensions.\n",
              "In the case of unequally weighted points, `scotts_factor` becomes::\n",
              "\n",
              "    neff**(-1./(d+4)),\n",
              "\n",
              "with ``neff`` the effective number of datapoints.\n",
              "Silverman&#x27;s Rule [2]_, implemented as `silverman_factor`, is::\n",
              "\n",
              "    (n * (d + 2) / 4.)**(-1. / (d + 4)).\n",
              "\n",
              "or in the case of unequally weighted points::\n",
              "\n",
              "    (neff * (d + 2) / 4.)**(-1. / (d + 4)).\n",
              "\n",
              "Good general descriptions of kernel density estimation can be found in [1]_\n",
              "and [2]_, the mathematics for this multi-dimensional implementation can be\n",
              "found in [1]_.\n",
              "\n",
              "With a set of weighted samples, the effective number of datapoints ``neff``\n",
              "is defined by::\n",
              "\n",
              "    neff = sum(weights)^2 / sum(weights^2)\n",
              "\n",
              "as detailed in [5]_.\n",
              "\n",
              "`gaussian_kde` does not currently support data that lies in a\n",
              "lower-dimensional subspace of the space in which it is expressed. For such\n",
              "data, consider performing principal component analysis / dimensionality\n",
              "reduction and using `gaussian_kde` with the transformed data.\n",
              "\n",
              "References\n",
              "----------\n",
              ".. [1] D.W. Scott, &quot;Multivariate Density Estimation: Theory, Practice, and\n",
              "       Visualization&quot;, John Wiley &amp; Sons, New York, Chicester, 1992.\n",
              ".. [2] B.W. Silverman, &quot;Density Estimation for Statistics and Data\n",
              "       Analysis&quot;, Vol. 26, Monographs on Statistics and Applied Probability,\n",
              "       Chapman and Hall, London, 1986.\n",
              ".. [3] B.A. Turlach, &quot;Bandwidth Selection in Kernel Density Estimation: A\n",
              "       Review&quot;, CORE and Institut de Statistique, Vol. 19, pp. 1-33, 1993.\n",
              ".. [4] D.M. Bashtannyk and R.J. Hyndman, &quot;Bandwidth selection for kernel\n",
              "       conditional density estimation&quot;, Computational Statistics &amp; Data\n",
              "       Analysis, Vol. 36, pp. 279-298, 2001.\n",
              ".. [5] Gray P. G., 1969, Journal of the Royal Statistical Society.\n",
              "       Series A (General), 132, 272\n",
              "\n",
              "Examples\n",
              "--------\n",
              "Generate some random two-dimensional data:\n",
              "\n",
              "&gt;&gt;&gt; import numpy as np\n",
              "&gt;&gt;&gt; from scipy import stats\n",
              "&gt;&gt;&gt; def measure(n):\n",
              "...     &quot;Measurement model, return two coupled measurements.&quot;\n",
              "...     m1 = np.random.normal(size=n)\n",
              "...     m2 = np.random.normal(scale=0.5, size=n)\n",
              "...     return m1+m2, m1-m2\n",
              "\n",
              "&gt;&gt;&gt; m1, m2 = measure(2000)\n",
              "&gt;&gt;&gt; xmin = m1.min()\n",
              "&gt;&gt;&gt; xmax = m1.max()\n",
              "&gt;&gt;&gt; ymin = m2.min()\n",
              "&gt;&gt;&gt; ymax = m2.max()\n",
              "\n",
              "Perform a kernel density estimate on the data:\n",
              "\n",
              "&gt;&gt;&gt; X, Y = np.mgrid[xmin:xmax:100j, ymin:ymax:100j]\n",
              "&gt;&gt;&gt; positions = np.vstack([X.ravel(), Y.ravel()])\n",
              "&gt;&gt;&gt; values = np.vstack([m1, m2])\n",
              "&gt;&gt;&gt; kernel = stats.gaussian_kde(values)\n",
              "&gt;&gt;&gt; Z = np.reshape(kernel(positions).T, X.shape)\n",
              "\n",
              "Plot the results:\n",
              "\n",
              "&gt;&gt;&gt; import matplotlib.pyplot as plt\n",
              "&gt;&gt;&gt; fig, ax = plt.subplots()\n",
              "&gt;&gt;&gt; ax.imshow(np.rot90(Z), cmap=plt.cm.gist_earth_r,\n",
              "...           extent=[xmin, xmax, ymin, ymax])\n",
              "&gt;&gt;&gt; ax.plot(m1, m2, &#x27;k.&#x27;, markersize=2)\n",
              "&gt;&gt;&gt; ax.set_xlim([xmin, xmax])\n",
              "&gt;&gt;&gt; ax.set_ylim([ymin, ymax])\n",
              "&gt;&gt;&gt; plt.show()</pre>\n",
              "      <script>\n",
              "      if (google.colab.kernel.accessAllowed && google.colab.files && google.colab.files.view) {\n",
              "        for (const element of document.querySelectorAll('.filepath')) {\n",
              "          element.style.display = 'block'\n",
              "          element.onclick = (event) => {\n",
              "            event.preventDefault();\n",
              "            event.stopPropagation();\n",
              "            google.colab.files.view(element.textContent, 43);\n",
              "          };\n",
              "        }\n",
              "      }\n",
              "      for (const element of document.querySelectorAll('.function-repr-contents')) {\n",
              "        element.onclick = (event) => {\n",
              "          event.preventDefault();\n",
              "          event.stopPropagation();\n",
              "          element.classList.toggle('function-repr-contents-collapsed');\n",
              "        };\n",
              "      }\n",
              "      </script>\n",
              "      </div>"
            ]
          },
          "metadata": {},
          "execution_count": 66
        }
      ]
    },
    {
      "cell_type": "code",
      "source": [
        "# 추정한것을 같이 그려보니 마치 두개의 정규분포가 합쳐진것 같은 모습을 띈다.\n",
        "counts,bins,_ = plt.hist(x)\n",
        "x_fine = np.linspace(-2, 10, 100)\n",
        "plt.plot(x_fine, np.sum(counts)*pdf(x_fine))"
      ],
      "metadata": {
        "colab": {
          "base_uri": "https://localhost:8080/",
          "height": 448
        },
        "id": "f8BdFanukQFw",
        "outputId": "da974c19-62e3-466d-a436-bffedaf1071b"
      },
      "execution_count": null,
      "outputs": [
        {
          "output_type": "execute_result",
          "data": {
            "text/plain": [
              "[<matplotlib.lines.Line2D at 0x7eb7e4065050>]"
            ]
          },
          "metadata": {},
          "execution_count": 67
        },
        {
          "output_type": "display_data",
          "data": {
            "text/plain": [
              "<Figure size 640x480 with 1 Axes>"
            ],
            "image/png": "[encoded data removed]"
          },
          "metadata": {}
        }
      ]
    },
    {
      "cell_type": "markdown",
      "source": [
        "# Numerical Integration"
      ],
      "metadata": {
        "id": "T4qRIqckmMvI"
      }
    },
    {
      "cell_type": "code",
      "source": [
        "import scipy.integrate as integ"
      ],
      "metadata": {
        "id": "qg5rbr7GmQXy"
      },
      "execution_count": null,
      "outputs": []
    },
    {
      "cell_type": "code",
      "source": [
        "def f(x):\n",
        "  return x**2 + 5*x + np.sin(x)"
      ],
      "metadata": {
        "id": "VIC5iM_lmS_H"
      },
      "execution_count": null,
      "outputs": []
    },
    {
      "cell_type": "code",
      "source": [
        "# quad는 f(x)를 -1 부터 1까지 적분해준다.\n",
        "# 출력 값은 (적분값, 오차 추정치)\n",
        "integ.quad(f, -1, 1)"
      ],
      "metadata": {
        "colab": {
          "base_uri": "https://localhost:8080/"
        },
        "id": "Z2svE37zmWui",
        "outputId": "610983a1-cf86-4807-8ea4-1dc7de156d84"
      },
      "execution_count": null,
      "outputs": [
        {
          "output_type": "execute_result",
          "data": {
            "text/plain": [
              "(0.6666666666666667, 6.547013372677054e-14)"
            ]
          },
          "metadata": {},
          "execution_count": 70
        }
      ]
    },
    {
      "cell_type": "code",
      "source": [
        "# 상미분방정식(ODE)\n",
        "# 시간에 따른 다음 상태가 어떻게 바뀌는지 시뮬레이션 해보는 느낌\n",
        "# 전상태에 9를 곱해서 빼주기 때문에 계속 줄어들다가 0에 수렵\n",
        "\n",
        "def f(y, t):\n",
        "  return (y[1], -y[1]-9*y[0])\n",
        "\n",
        "t = np.linspace(0,10,100)\n",
        "Y = integ.odeint(f, [1,1], t)\n",
        "plt.plot(t, Y[:,1])"
      ],
      "metadata": {
        "colab": {
          "base_uri": "https://localhost:8080/",
          "height": 448
        },
        "id": "YhmuHk67mZvF",
        "outputId": "0b760c34-c559-49d1-826a-498fa28584d6"
      },
      "execution_count": null,
      "outputs": [
        {
          "output_type": "execute_result",
          "data": {
            "text/plain": [
              "[<matplotlib.lines.Line2D at 0x7eb7c56b6610>]"
            ]
          },
          "metadata": {},
          "execution_count": 72
        },
        {
          "output_type": "display_data",
          "data": {
            "text/plain": [
              "<Figure size 640x480 with 1 Axes>"
            ],
            "image/png": "[encoded data removed]"
          },
          "metadata": {}
        }
      ]
    },
    {
      "cell_type": "code",
      "source": [],
      "metadata": {
        "id": "1m8joPmWmoPj"
      },
      "execution_count": null,
      "outputs": []
    }
  ]
}