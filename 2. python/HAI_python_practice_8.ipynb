{
  "nbformat": 4,
  "nbformat_minor": 0,
  "metadata": {
    "colab": {
      "provenance": [],
      "gpuType": "T4"
    },
    "kernelspec": {
      "name": "python3",
      "display_name": "Python 3"
    },
    "language_info": {
      "name": "python"
    },
    "accelerator": "GPU"
  },
  "cells": [
    {
      "cell_type": "markdown",
      "source": [
        "# **8. Deep Learning**"
      ],
      "metadata": {
        "id": "LBIDJUYuy_lQ"
      }
    },
    {
      "cell_type": "markdown",
      "source": [
        "# Pytorch\n",
        "딥러닝의 주요 프레임워크로 TensorFlow, Keras, Pytorch가 있음\n",
        "\n",
        "파이토치는 저수준 인터페이스로 사용할 수 있지만 텐서플로우보다 사용자 친화적이고 고수준 인터페이스 또한 제공 그래서 연구 커뮤니티에서 더 널리 사용된다.\n",
        "\n",
        "모든 딥 러닝 라이브러리가 제공하는 주요기능\n",
        "- GPU를 사용해 계산 속도 향상\n",
        "- 자동 미분가능\n",
        "- 일반적인 아키텍처 및 최적화 알고리즘에 유용한 라이브러리 함수\n",
        "\n",
        "파이토치로 위 기능들을 살펴볼 것이고 파이토치는 Numpy + GPU + Autograd 라고 생각하면 될것 같다."
      ],
      "metadata": {
        "id": "1SxkicUi0PGu"
      }
    },
    {
      "cell_type": "code",
      "execution_count": null,
      "metadata": {
        "id": "IQNRPRw9yzFE"
      },
      "outputs": [],
      "source": [
        "import torch"
      ]
    },
    {
      "cell_type": "code",
      "source": [
        "# 파이토치에서 numpy 배열에 상응하는 객체를 텐서라고 부른다.\n",
        "# 텐서는 그냥 다차원 배열이라고 생각하면 된다.\n",
        "torch.tensor([2,3,4,5])"
      ],
      "metadata": {
        "colab": {
          "base_uri": "https://localhost:8080/"
        },
        "id": "vePR3Oyn1K2G",
        "outputId": "eb5d5ced-ff6c-46e0-d099-ea511f6c2403"
      },
      "execution_count": null,
      "outputs": [
        {
          "output_type": "execute_result",
          "data": {
            "text/plain": [
              "tensor([2, 3, 4, 5])"
            ]
          },
          "metadata": {},
          "execution_count": 2
        }
      ]
    },
    {
      "cell_type": "code",
      "source": [
        "torch.zeros((5,5))"
      ],
      "metadata": {
        "colab": {
          "base_uri": "https://localhost:8080/"
        },
        "id": "blqHeRYL1ZOL",
        "outputId": "5129a140-6118-422d-d8bb-12c4f516fc2f"
      },
      "execution_count": null,
      "outputs": [
        {
          "output_type": "execute_result",
          "data": {
            "text/plain": [
              "tensor([[0., 0., 0., 0., 0.],\n",
              "        [0., 0., 0., 0., 0.],\n",
              "        [0., 0., 0., 0., 0.],\n",
              "        [0., 0., 0., 0., 0.],\n",
              "        [0., 0., 0., 0., 0.]])"
            ]
          },
          "metadata": {},
          "execution_count": 4
        }
      ]
    },
    {
      "cell_type": "code",
      "source": [
        "x = torch.ones((5,5))\n",
        "x"
      ],
      "metadata": {
        "colab": {
          "base_uri": "https://localhost:8080/"
        },
        "id": "oaRxAKxD1a0s",
        "outputId": "9fc4eb24-089a-4a2c-b0ba-b391f4ff74fa"
      },
      "execution_count": null,
      "outputs": [
        {
          "output_type": "execute_result",
          "data": {
            "text/plain": [
              "tensor([[1., 1., 1., 1., 1.],\n",
              "        [1., 1., 1., 1., 1.],\n",
              "        [1., 1., 1., 1., 1.],\n",
              "        [1., 1., 1., 1., 1.],\n",
              "        [1., 1., 1., 1., 1.]])"
            ]
          },
          "metadata": {},
          "execution_count": 5
        }
      ]
    },
    {
      "cell_type": "code",
      "source": [
        "# 마치 numpy처럼 연산도 되는 것 확인가능\n",
        "2*x + 5"
      ],
      "metadata": {
        "colab": {
          "base_uri": "https://localhost:8080/"
        },
        "id": "AlTR56Li1e0V",
        "outputId": "37f758d1-fcad-4050-8e7f-f4f954999099"
      },
      "execution_count": null,
      "outputs": [
        {
          "output_type": "execute_result",
          "data": {
            "text/plain": [
              "tensor([[7., 7., 7., 7., 7.],\n",
              "        [7., 7., 7., 7., 7.],\n",
              "        [7., 7., 7., 7., 7.],\n",
              "        [7., 7., 7., 7., 7.],\n",
              "        [7., 7., 7., 7., 7.]])"
            ]
          },
          "metadata": {},
          "execution_count": 6
        }
      ]
    },
    {
      "cell_type": "code",
      "source": [
        "torch.rand(5,5)"
      ],
      "metadata": {
        "colab": {
          "base_uri": "https://localhost:8080/"
        },
        "id": "8XfWw9o61g08",
        "outputId": "ff11be78-f944-4524-b94c-c8b869d3c9d7"
      },
      "execution_count": null,
      "outputs": [
        {
          "output_type": "execute_result",
          "data": {
            "text/plain": [
              "tensor([[0.5048, 0.7944, 0.5429, 0.5419, 0.1912],\n",
              "        [0.3164, 0.7253, 0.8468, 0.0466, 0.6455],\n",
              "        [0.2264, 0.5880, 0.0930, 0.4806, 0.9639],\n",
              "        [0.1634, 0.1752, 0.9466, 0.5813, 0.7915],\n",
              "        [0.0495, 0.6909, 0.0717, 0.8008, 0.2020]])"
            ]
          },
          "metadata": {},
          "execution_count": 7
        }
      ]
    },
    {
      "cell_type": "code",
      "source": [
        "x = torch.rand(25)\n",
        "x"
      ],
      "metadata": {
        "colab": {
          "base_uri": "https://localhost:8080/"
        },
        "id": "gzIlfQGw23yL",
        "outputId": "a65691b5-bb45-40fe-ac4c-0428835da3ef"
      },
      "execution_count": null,
      "outputs": [
        {
          "output_type": "execute_result",
          "data": {
            "text/plain": [
              "tensor([0.0766, 0.7114, 0.5691, 0.4885, 0.1494, 0.3451, 0.1920, 0.7027, 0.3534,\n",
              "        0.3152, 0.7888, 0.1931, 0.8495, 0.6602, 0.6335, 0.9173, 0.6182, 0.2937,\n",
              "        0.6926, 0.3790, 0.9029, 0.4995, 0.6362, 0.2865, 0.4197])"
            ]
          },
          "metadata": {},
          "execution_count": 8
        }
      ]
    },
    {
      "cell_type": "code",
      "source": [
        "# x를 5열짜리로\n",
        "x = x.reshape(-1,5)\n",
        "x"
      ],
      "metadata": {
        "colab": {
          "base_uri": "https://localhost:8080/"
        },
        "id": "QXHx8qok27F4",
        "outputId": "509e39e3-68fb-4800-e6b6-7e8798318243"
      },
      "execution_count": null,
      "outputs": [
        {
          "output_type": "execute_result",
          "data": {
            "text/plain": [
              "tensor([[0.0766, 0.7114, 0.5691, 0.4885, 0.1494],\n",
              "        [0.3451, 0.1920, 0.7027, 0.3534, 0.3152],\n",
              "        [0.7888, 0.1931, 0.8495, 0.6602, 0.6335],\n",
              "        [0.9173, 0.6182, 0.2937, 0.6926, 0.3790],\n",
              "        [0.9029, 0.4995, 0.6362, 0.2865, 0.4197]])"
            ]
          },
          "metadata": {},
          "execution_count": 10
        }
      ]
    },
    {
      "cell_type": "code",
      "source": [
        "x.shape"
      ],
      "metadata": {
        "colab": {
          "base_uri": "https://localhost:8080/"
        },
        "id": "e1lrob8d29rd",
        "outputId": "8db07415-5b20-4700-9c08-d8c3e42eeb07"
      },
      "execution_count": null,
      "outputs": [
        {
          "output_type": "execute_result",
          "data": {
            "text/plain": [
              "torch.Size([5, 5])"
            ]
          },
          "metadata": {},
          "execution_count": 11
        }
      ]
    },
    {
      "cell_type": "code",
      "source": [
        "print(torch.arange(10))\n",
        "print(torch.eye(5))\n",
        "print(torch.linspace(0,1,10))"
      ],
      "metadata": {
        "colab": {
          "base_uri": "https://localhost:8080/"
        },
        "id": "t_7vI5mV3DDF",
        "outputId": "39a25ed8-fce2-4c84-9548-4f4a7f495376"
      },
      "execution_count": null,
      "outputs": [
        {
          "output_type": "stream",
          "name": "stdout",
          "text": [
            "tensor([0, 1, 2, 3, 4, 5, 6, 7, 8, 9])\n",
            "tensor([[1., 0., 0., 0., 0.],\n",
            "        [0., 1., 0., 0., 0.],\n",
            "        [0., 0., 1., 0., 0.],\n",
            "        [0., 0., 0., 1., 0.],\n",
            "        [0., 0., 0., 0., 1.]])\n",
            "tensor([0.0000, 0.1111, 0.2222, 0.3333, 0.4444, 0.5556, 0.6667, 0.7778, 0.8889,\n",
            "        1.0000])\n"
          ]
        }
      ]
    },
    {
      "cell_type": "code",
      "source": [
        "# 몇몇 함수는 조금 다르긴함\n",
        "A = torch.rand(5,5)\n",
        "x = torch.ones(5,1)\n",
        "A@x"
      ],
      "metadata": {
        "colab": {
          "base_uri": "https://localhost:8080/"
        },
        "id": "nDDYsKfg3KHz",
        "outputId": "f2b8e1ef-3efc-4a8c-8425-41b447d9dd57"
      },
      "execution_count": null,
      "outputs": [
        {
          "output_type": "execute_result",
          "data": {
            "text/plain": [
              "tensor([[2.7002],\n",
              "        [2.6371],\n",
              "        [1.1939],\n",
              "        [1.8465],\n",
              "        [2.8232]])"
            ]
          },
          "metadata": {},
          "execution_count": 13
        }
      ]
    },
    {
      "cell_type": "code",
      "source": [
        "import numpy as np\n",
        "A = np.random.rand(5,5)\n",
        "x = np.ones((5,1))\n",
        "A@x"
      ],
      "metadata": {
        "colab": {
          "base_uri": "https://localhost:8080/"
        },
        "id": "ck8aMSoU3THv",
        "outputId": "897abf62-9405-4693-a370-4a2338ebe5d3"
      },
      "execution_count": null,
      "outputs": [
        {
          "output_type": "execute_result",
          "data": {
            "text/plain": [
              "array([[3.11661589],\n",
              "       [2.96512559],\n",
              "       [3.06282156],\n",
              "       [2.4715733 ],\n",
              "       [2.60377348]])"
            ]
          },
          "metadata": {},
          "execution_count": 14
        }
      ]
    },
    {
      "cell_type": "code",
      "source": [
        "# pytorch 텐서와 numpy 배열은 메모리를 공유하기 때문에 한쪽을 수정하면 다른쪽도 영향이감\n",
        "# 독립적으로 할려면 x.clone().numpy()이런식으로 복사본을 생성해야\n",
        "x = torch.ones(5,5)\n",
        "x"
      ],
      "metadata": {
        "colab": {
          "base_uri": "https://localhost:8080/"
        },
        "id": "ETUQcQho3ajx",
        "outputId": "a98fc148-126f-42c7-b4bc-4e173b6f5901"
      },
      "execution_count": null,
      "outputs": [
        {
          "output_type": "execute_result",
          "data": {
            "text/plain": [
              "tensor([[1., 1., 1., 1., 1.],\n",
              "        [1., 1., 1., 1., 1.],\n",
              "        [1., 1., 1., 1., 1.],\n",
              "        [1., 1., 1., 1., 1.],\n",
              "        [1., 1., 1., 1., 1.]])"
            ]
          },
          "metadata": {},
          "execution_count": 15
        }
      ]
    },
    {
      "cell_type": "code",
      "source": [
        "xn = x.numpy()\n",
        "xn"
      ],
      "metadata": {
        "colab": {
          "base_uri": "https://localhost:8080/"
        },
        "id": "16L1wjIW3mtX",
        "outputId": "41f2fdf9-8b32-4df1-e544-965c4869a334"
      },
      "execution_count": null,
      "outputs": [
        {
          "output_type": "execute_result",
          "data": {
            "text/plain": [
              "array([[1., 1., 1., 1., 1.],\n",
              "       [1., 1., 1., 1., 1.],\n",
              "       [1., 1., 1., 1., 1.],\n",
              "       [1., 1., 1., 1., 1.],\n",
              "       [1., 1., 1., 1., 1.]], dtype=float32)"
            ]
          },
          "metadata": {},
          "execution_count": 16
        }
      ]
    },
    {
      "cell_type": "code",
      "source": [
        "xn[4,2]= 10\n",
        "xn"
      ],
      "metadata": {
        "colab": {
          "base_uri": "https://localhost:8080/"
        },
        "id": "1PV6fqOi3o5n",
        "outputId": "b8e6f4b6-23ce-4f9b-e0ec-846dd103be23"
      },
      "execution_count": null,
      "outputs": [
        {
          "output_type": "execute_result",
          "data": {
            "text/plain": [
              "array([[ 1.,  1.,  1.,  1.,  1.],\n",
              "       [ 1.,  1.,  1.,  1.,  1.],\n",
              "       [ 1.,  1.,  1.,  1.,  1.],\n",
              "       [ 1.,  1.,  1.,  1.,  1.],\n",
              "       [ 1.,  1., 10.,  1.,  1.]], dtype=float32)"
            ]
          },
          "metadata": {},
          "execution_count": 17
        }
      ]
    },
    {
      "cell_type": "code",
      "source": [
        "x"
      ],
      "metadata": {
        "colab": {
          "base_uri": "https://localhost:8080/"
        },
        "id": "deXGl5px3q7o",
        "outputId": "03f53abe-6200-4de2-9d2f-f8bc04ec9184"
      },
      "execution_count": null,
      "outputs": [
        {
          "output_type": "execute_result",
          "data": {
            "text/plain": [
              "tensor([[ 1.,  1.,  1.,  1.,  1.],\n",
              "        [ 1.,  1.,  1.,  1.,  1.],\n",
              "        [ 1.,  1.,  1.,  1.,  1.],\n",
              "        [ 1.,  1.,  1.,  1.,  1.],\n",
              "        [ 1.,  1., 10.,  1.,  1.]])"
            ]
          },
          "metadata": {},
          "execution_count": 18
        }
      ]
    },
    {
      "cell_type": "markdown",
      "source": [
        "# Using the GPU"
      ],
      "metadata": {
        "id": "C7ZZkMgp4jKo"
      }
    },
    {
      "cell_type": "code",
      "source": [
        "import torch\n",
        "torch.cuda.is_available()"
      ],
      "metadata": {
        "colab": {
          "base_uri": "https://localhost:8080/"
        },
        "id": "-s1Iphjy3rIZ",
        "outputId": "09e8ffb3-2d03-481e-fd7d-57ff8173035c"
      },
      "execution_count": null,
      "outputs": [
        {
          "output_type": "execute_result",
          "data": {
            "text/plain": [
              "True"
            ]
          },
          "metadata": {},
          "execution_count": 1
        }
      ]
    },
    {
      "cell_type": "code",
      "source": [
        "gpu = torch.device('cuda')\n",
        "cpu = torch.device('cpu')"
      ],
      "metadata": {
        "id": "86pWfCnI4tMa"
      },
      "execution_count": null,
      "outputs": []
    },
    {
      "cell_type": "code",
      "source": [
        "A = torch.rand(100, 100)\n",
        "B = torch.rand(100, 100)"
      ],
      "metadata": {
        "id": "Oc9pqmZH4021"
      },
      "execution_count": null,
      "outputs": []
    },
    {
      "cell_type": "code",
      "source": [
        "A @ B"
      ],
      "metadata": {
        "colab": {
          "base_uri": "https://localhost:8080/"
        },
        "id": "n8n0tMWO43Wi",
        "outputId": "8dbb3e15-f962-4783-dd31-7b8d79b790a3"
      },
      "execution_count": null,
      "outputs": [
        {
          "output_type": "execute_result",
          "data": {
            "text/plain": [
              "tensor([[22.5742, 24.8950, 24.5394,  ..., 24.6320, 26.2687, 26.7074],\n",
              "        [21.8420, 26.1142, 24.4126,  ..., 23.8683, 26.5399, 24.4202],\n",
              "        [23.6737, 25.9438, 25.0133,  ..., 26.3767, 26.0035, 25.6050],\n",
              "        ...,\n",
              "        [22.3035, 26.1129, 23.4955,  ..., 26.1475, 27.0538, 25.0252],\n",
              "        [22.4441, 24.0795, 24.1392,  ..., 25.4061, 25.1148, 25.5701],\n",
              "        [21.5343, 25.4622, 24.5940,  ..., 25.0572, 26.5170, 25.8379]])"
            ]
          },
          "metadata": {},
          "execution_count": 4
        }
      ]
    },
    {
      "cell_type": "code",
      "source": [
        "# 텐서를 GPU로 이동시킴\n",
        "A_gpu = A.to(gpu)\n",
        "B_gpu = B.to(gpu)"
      ],
      "metadata": {
        "id": "443QSO0H44Om"
      },
      "execution_count": null,
      "outputs": []
    },
    {
      "cell_type": "code",
      "source": [
        "# GPU에서 연산 수행\n",
        "A_gpu @ B_gpu"
      ],
      "metadata": {
        "colab": {
          "base_uri": "https://localhost:8080/"
        },
        "id": "uOm80TlE48tP",
        "outputId": "e4c36edd-6541-4b53-ce20-5304d613234a"
      },
      "execution_count": null,
      "outputs": [
        {
          "output_type": "execute_result",
          "data": {
            "text/plain": [
              "tensor([[22.5742, 24.8950, 24.5394,  ..., 24.6320, 26.2687, 26.7074],\n",
              "        [21.8420, 26.1142, 24.4126,  ..., 23.8683, 26.5399, 24.4202],\n",
              "        [23.6737, 25.9438, 25.0133,  ..., 26.3767, 26.0035, 25.6050],\n",
              "        ...,\n",
              "        [22.3035, 26.1129, 23.4955,  ..., 26.1475, 27.0538, 25.0252],\n",
              "        [22.4441, 24.0795, 24.1392,  ..., 25.4061, 25.1148, 25.5702],\n",
              "        [21.5342, 25.4622, 24.5940,  ..., 25.0572, 26.5170, 25.8379]],\n",
              "       device='cuda:0')"
            ]
          },
          "metadata": {},
          "execution_count": 6
        }
      ]
    },
    {
      "cell_type": "code",
      "source": [
        "# CPU - GPU 간에 연산은 호환되지 않음 그래서 오류가 발생하는거\n",
        "A @ B_gpu"
      ],
      "metadata": {
        "colab": {
          "base_uri": "https://localhost:8080/",
          "height": 166
        },
        "id": "g3mR-i4a5JlG",
        "outputId": "4cc885ce-71b9-4e71-88af-e80fa95a223c"
      },
      "execution_count": null,
      "outputs": [
        {
          "output_type": "error",
          "ename": "RuntimeError",
          "evalue": "Expected all tensors to be on the same device, but found at least two devices, cpu and cuda:0! (when checking argument for argument mat2 in method wrapper_CUDA_mm)",
          "traceback": [
            "\u001b[0;31m---------------------------------------------------------------------------\u001b[0m",
            "\u001b[0;31mRuntimeError\u001b[0m                              Traceback (most recent call last)",
            "\u001b[0;32m<ipython-input-7-3d41bf3b6bc8>\u001b[0m in \u001b[0;36m<cell line: 0>\u001b[0;34m()\u001b[0m\n\u001b[0;32m----> 1\u001b[0;31m \u001b[0mA\u001b[0m \u001b[0;34m@\u001b[0m \u001b[0mB_gpu\u001b[0m\u001b[0;34m\u001b[0m\u001b[0;34m\u001b[0m\u001b[0m\n\u001b[0m",
            "\u001b[0;31mRuntimeError\u001b[0m: Expected all tensors to be on the same device, but found at least two devices, cpu and cuda:0! (when checking argument for argument mat2 in method wrapper_CUDA_mm)"
          ]
        }
      ]
    },
    {
      "cell_type": "code",
      "source": [
        "# GPU의 연산결과를 CPU로 가져오는것은 가능함\n",
        "C_gpu = A_gpu @ B_gpu\n",
        "C = C_gpu.to(cpu)\n",
        "C"
      ],
      "metadata": {
        "colab": {
          "base_uri": "https://localhost:8080/"
        },
        "id": "cjWMHJJH5Lwk",
        "outputId": "57bc1659-c181-4208-9460-90e523683a92"
      },
      "execution_count": null,
      "outputs": [
        {
          "output_type": "execute_result",
          "data": {
            "text/plain": [
              "tensor([[22.5742, 24.8950, 24.5394,  ..., 24.6320, 26.2687, 26.7074],\n",
              "        [21.8420, 26.1142, 24.4126,  ..., 23.8683, 26.5399, 24.4202],\n",
              "        [23.6737, 25.9438, 25.0133,  ..., 26.3767, 26.0035, 25.6050],\n",
              "        ...,\n",
              "        [22.3035, 26.1129, 23.4955,  ..., 26.1475, 27.0538, 25.0252],\n",
              "        [22.4441, 24.0795, 24.1392,  ..., 25.4061, 25.1148, 25.5702],\n",
              "        [21.5342, 25.4622, 24.5940,  ..., 25.0572, 26.5170, 25.8379]])"
            ]
          },
          "metadata": {},
          "execution_count": 8
        }
      ]
    },
    {
      "cell_type": "code",
      "source": [
        "# CPU에서 생성\n",
        "big_mat = torch.rand(20000,20000);"
      ],
      "metadata": {
        "id": "TwSUNAkf5SbJ"
      },
      "execution_count": null,
      "outputs": []
    },
    {
      "cell_type": "code",
      "source": [
        "# GPU로 이동시킴\n",
        "big_mat_gpu = big_mat.to(gpu)"
      ],
      "metadata": {
        "id": "rqclUaM15W_v"
      },
      "execution_count": null,
      "outputs": []
    },
    {
      "cell_type": "code",
      "source": [
        "# 다시 CPU로 이동시킴\n",
        "big_mat = big_mat_gpu.to(cpu)"
      ],
      "metadata": {
        "id": "c5PMP9ie5atg"
      },
      "execution_count": null,
      "outputs": []
    },
    {
      "cell_type": "markdown",
      "source": [
        "GPU 메모리는 한계가 있으므로 대용량 작업을 하고 del과 empty_cache()로 수동정리를 해줘야함\n"
      ],
      "metadata": {
        "id": "vEKhcgy76PYv"
      }
    },
    {
      "cell_type": "code",
      "source": [
        "# GPU 메모리 해제하고 캐시 정리\n",
        "del big_mat_gpu\n",
        "torch.cuda.empty_cache()"
      ],
      "metadata": {
        "id": "gaUQGxX05d28"
      },
      "execution_count": null,
      "outputs": []
    },
    {
      "cell_type": "code",
      "source": [
        "# CPU 메모리도 해제\n",
        "del big_mat"
      ],
      "metadata": {
        "id": "S-FfcDa75inb"
      },
      "execution_count": null,
      "outputs": []
    },
    {
      "cell_type": "markdown",
      "source": [
        "CPU와 GPU의 시간비교를 해보면 GPU의 시간이 훨씬 빠른것을 확인 할 수있음\n"
      ],
      "metadata": {
        "id": "8tZy1jtl7NeO"
      }
    },
    {
      "cell_type": "code",
      "source": [
        "%%timeit\n",
        "A = torch.rand(3000, 3000)\n",
        "B = torch.rand(3000, 3000)\n",
        "C = torch.zeros(3000, 3000)\n",
        "C.copy_(B)\n",
        "for i in range(5):\n",
        "  C = torch.mm(A, C)"
      ],
      "metadata": {
        "colab": {
          "base_uri": "https://localhost:8080/"
        },
        "id": "ACEsW5Ie5jbu",
        "outputId": "ef3ee789-fca7-48b9-ac97-8b107e0e4f8e"
      },
      "execution_count": null,
      "outputs": [
        {
          "output_type": "stream",
          "name": "stdout",
          "text": [
            "4.03 s ± 642 ms per loop (mean ± std. dev. of 7 runs, 1 loop each)\n"
          ]
        }
      ]
    },
    {
      "cell_type": "code",
      "source": [
        "%%timeit\n",
        "A = torch.rand(3000, 3000, device = gpu)\n",
        "B = torch.rand(3000, 3000, device = gpu)\n",
        "C = torch.zeros(3000, 3000, device = gpu)\n",
        "C.copy_(B)\n",
        "for i in range(5):\n",
        "  C = torch.mm(A, C)"
      ],
      "metadata": {
        "colab": {
          "base_uri": "https://localhost:8080/"
        },
        "id": "0dotZsfV6q5A",
        "outputId": "5ec25a2f-08ca-408c-bb2d-db5160b36f87"
      },
      "execution_count": null,
      "outputs": [
        {
          "output_type": "stream",
          "name": "stdout",
          "text": [
            "74.1 ms ± 2.46 ms per loop (mean ± std. dev. of 7 runs, 100 loops each)\n"
          ]
        }
      ]
    },
    {
      "cell_type": "markdown",
      "source": [
        "# Automatic Differentiation (자동 미분)"
      ],
      "metadata": {
        "id": "wJTNPcPI7eDY"
      }
    },
    {
      "cell_type": "code",
      "source": [
        "x = torch.tensor([2.0])\n",
        "m = torch.tensor([5.0], requires_grad = True)\n",
        "c = torch.tensor([2.0], requires_grad = True)"
      ],
      "metadata": {
        "id": "mp8p3cMB65HP"
      },
      "execution_count": null,
      "outputs": []
    },
    {
      "cell_type": "code",
      "source": [
        "# 간단한 선형 방정식\n",
        "y = m*x + c\n",
        "y"
      ],
      "metadata": {
        "colab": {
          "base_uri": "https://localhost:8080/"
        },
        "id": "KoblLwNy7h-3",
        "outputId": "c20936b3-988d-4b5b-8b3b-f3f36a5ed4c4"
      },
      "execution_count": null,
      "outputs": [
        {
          "output_type": "execute_result",
          "data": {
            "text/plain": [
              "tensor([12.], grad_fn=<AddBackward0>)"
            ]
          },
          "metadata": {},
          "execution_count": 18
        }
      ]
    },
    {
      "cell_type": "code",
      "source": [
        "# 오차를 새로 정의해줌 그냥 임의로\n",
        "loss = torch.norm( y - 13)\n",
        "loss"
      ],
      "metadata": {
        "colab": {
          "base_uri": "https://localhost:8080/"
        },
        "id": "zcmaE_Db7kCg",
        "outputId": "f51251f2-901f-42f2-ed9f-517528184d31"
      },
      "execution_count": null,
      "outputs": [
        {
          "output_type": "execute_result",
          "data": {
            "text/plain": [
              "tensor(1., grad_fn=<LinalgVectorNormBackward0>)"
            ]
          },
          "metadata": {},
          "execution_count": 19
        }
      ]
    },
    {
      "cell_type": "code",
      "source": [
        "# 아직 backward를 안해서 아무것도 안나\n",
        "m.grad"
      ],
      "metadata": {
        "id": "1gPRX1357oe_"
      },
      "execution_count": null,
      "outputs": []
    },
    {
      "cell_type": "code",
      "source": [
        "# loss.backward()를 하면 x를 계산하고\n",
        "# 사용된 텐서중 require_grad 플래그가 True로 설정된 텐서의 모든 기울기를 계산함\n",
        "# 그리고 그게 .grad 에 저장될거\n",
        "# losff를 m과 c에 대해 각각 미분해서 .grad 에 저장함\n",
        "loss.backward()"
      ],
      "metadata": {
        "id": "6hM5_s4E7o1A"
      },
      "execution_count": null,
      "outputs": []
    },
    {
      "cell_type": "code",
      "source": [
        "m.grad"
      ],
      "metadata": {
        "colab": {
          "base_uri": "https://localhost:8080/"
        },
        "id": "JL9szfre8Hgv",
        "outputId": "ddb99543-0b70-4e1f-f4d1-a3eb9d3b6350"
      },
      "execution_count": null,
      "outputs": [
        {
          "output_type": "execute_result",
          "data": {
            "text/plain": [
              "tensor([-2.])"
            ]
          },
          "metadata": {},
          "execution_count": 22
        }
      ]
    },
    {
      "cell_type": "code",
      "source": [
        "c.grad"
      ],
      "metadata": {
        "colab": {
          "base_uri": "https://localhost:8080/"
        },
        "id": "WWCEk25D8brY",
        "outputId": "0411814c-5b0a-40a9-d0ba-3149a6ac3c37"
      },
      "execution_count": null,
      "outputs": [
        {
          "output_type": "execute_result",
          "data": {
            "text/plain": [
              "tensor([-1.])"
            ]
          },
          "metadata": {},
          "execution_count": 23
        }
      ]
    },
    {
      "cell_type": "code",
      "source": [
        "# 수동으로 파라미터 한스텝 업데이트를 해줌\n",
        "# 0.01 은 학습률\n",
        "# with torch.no_grad()를 해줘야함\n",
        "with torch.no_grad():\n",
        "  m -= 0.01 * m.grad\n",
        "  c -= 0.01 * c.grad"
      ],
      "metadata": {
        "id": "R8hXFcEM8cZB"
      },
      "execution_count": null,
      "outputs": []
    },
    {
      "cell_type": "code",
      "source": [
        "m,c"
      ],
      "metadata": {
        "colab": {
          "base_uri": "https://localhost:8080/"
        },
        "id": "F6VGaF5i89GK",
        "outputId": "70e7e00e-2e79-4569-e304-610bd41fc277"
      },
      "execution_count": null,
      "outputs": [
        {
          "output_type": "execute_result",
          "data": {
            "text/plain": [
              "(tensor([5.0200], requires_grad=True), tensor([2.0100], requires_grad=True))"
            ]
          },
          "metadata": {},
          "execution_count": 25
        }
      ]
    },
    {
      "cell_type": "code",
      "source": [
        "m.grad, c.grad"
      ],
      "metadata": {
        "colab": {
          "base_uri": "https://localhost:8080/"
        },
        "id": "Btzfhg7R893F",
        "outputId": "177cd26f-d64a-4fe9-a1fe-030fbaa6a84b"
      },
      "execution_count": null,
      "outputs": [
        {
          "output_type": "execute_result",
          "data": {
            "text/plain": [
              "(tensor([-2.]), tensor([-1.]))"
            ]
          },
          "metadata": {},
          "execution_count": 26
        }
      ]
    },
    {
      "cell_type": "code",
      "source": [
        "# 그래디언트 초기화\n",
        "# 파이토치는 기본적으로 gradient를 누적하므로\n",
        "# 매 epoch마다 초기화를 해줘야\n",
        "m.grad.zero_()\n",
        "c.grad.zero_()\n",
        "\n",
        "m.grad, c.grad"
      ],
      "metadata": {
        "colab": {
          "base_uri": "https://localhost:8080/"
        },
        "id": "p567ZRRT9D8n",
        "outputId": "67d2412f-6171-4f9b-cdcf-870871df6239"
      },
      "execution_count": null,
      "outputs": [
        {
          "output_type": "execute_result",
          "data": {
            "text/plain": [
              "(tensor([0.]), tensor([0.]))"
            ]
          },
          "metadata": {},
          "execution_count": 27
        }
      ]
    },
    {
      "cell_type": "code",
      "source": [
        "y = m*x + c"
      ],
      "metadata": {
        "id": "jGX4Zk6M9FRE"
      },
      "execution_count": null,
      "outputs": []
    },
    {
      "cell_type": "code",
      "source": [
        "# 새로 업데이트 된 m, c로 새로운 예측값 y를 얻고\n",
        "y"
      ],
      "metadata": {
        "colab": {
          "base_uri": "https://localhost:8080/"
        },
        "id": "kGTXHHdv9dzi",
        "outputId": "7baa71ef-f4fd-4e3b-9205-ae29400bb2c8"
      },
      "execution_count": null,
      "outputs": [
        {
          "output_type": "execute_result",
          "data": {
            "text/plain": [
              "tensor([12.0500], grad_fn=<AddBackward0>)"
            ]
          },
          "metadata": {},
          "execution_count": 29
        }
      ]
    },
    {
      "cell_type": "code",
      "source": [
        "# 손실은 임의로 계산해주고\n",
        "loss = torch.norm(y-13)\n",
        "loss"
      ],
      "metadata": {
        "colab": {
          "base_uri": "https://localhost:8080/"
        },
        "id": "8HS9_R4Y9d-3",
        "outputId": "2379a6ed-94ca-4503-aa04-05327545647b"
      },
      "execution_count": null,
      "outputs": [
        {
          "output_type": "execute_result",
          "data": {
            "text/plain": [
              "tensor(0.9500, grad_fn=<LinalgVectorNormBackward0>)"
            ]
          },
          "metadata": {},
          "execution_count": 30
        }
      ]
    },
    {
      "cell_type": "code",
      "source": [
        "# 역전파 해주면\n",
        "loss.backward()"
      ],
      "metadata": {
        "id": "nDsfXYm09g7T"
      },
      "execution_count": null,
      "outputs": []
    },
    {
      "cell_type": "code",
      "source": [
        "# 다시 m, c의 gradient를 얻을 수 있\n",
        "m.grad, c.grad"
      ],
      "metadata": {
        "colab": {
          "base_uri": "https://localhost:8080/"
        },
        "id": "kIVGsQYR9iwX",
        "outputId": "c43956ef-1f84-4234-d3db-bdab53828dc7"
      },
      "execution_count": null,
      "outputs": [
        {
          "output_type": "execute_result",
          "data": {
            "text/plain": [
              "(tensor([-2.]), tensor([-1.]))"
            ]
          },
          "metadata": {},
          "execution_count": 32
        }
      ]
    },
    {
      "cell_type": "markdown",
      "source": [
        "# more compact"
      ],
      "metadata": {
        "id": "zz6lPRO-92zz"
      }
    },
    {
      "cell_type": "code",
      "source": [
        "def model_fn(x,m,c):\n",
        "  return m*x + c\n",
        "\n",
        "def loss_fn(y, yt):\n",
        "  return torch.norm(y - yt)"
      ],
      "metadata": {
        "id": "Orz7elDp9kZU"
      },
      "execution_count": null,
      "outputs": []
    },
    {
      "cell_type": "code",
      "source": [
        "m = torch.tensor([5.0], requires_grad = True)\n",
        "c = torch.tensor([2.0], requires_grad = True)"
      ],
      "metadata": {
        "id": "TanrUaBE-C-4"
      },
      "execution_count": null,
      "outputs": []
    },
    {
      "cell_type": "code",
      "source": [
        "x = torch.tensor([2.0])\n",
        "yt = torch.tensor([13.0])"
      ],
      "metadata": {
        "id": "1249MHdV-KD9"
      },
      "execution_count": null,
      "outputs": []
    },
    {
      "cell_type": "code",
      "source": [
        "y = model_fn(x, m, c)\n",
        "loss = loss_fn(y, yt)\n",
        "loss.backward()\n",
        "with torch.no_grad():\n",
        "  m -= 0.05 * m.grad\n",
        "  c -= 0.05 * c.grad\n",
        "m.grad.zero_()\n",
        "c.grad.zero_()\n",
        "\n",
        "print(f\"m = {m}\\n c = {c}\\n y = {y}\\n loss = {loss}\")"
      ],
      "metadata": {
        "colab": {
          "base_uri": "https://localhost:8080/"
        },
        "id": "HDsAS9jm-Pbj",
        "outputId": "7e6bbd4f-91ba-4e22-fda5-3cd208264a23"
      },
      "execution_count": null,
      "outputs": [
        {
          "output_type": "stream",
          "name": "stdout",
          "text": [
            "m = tensor([5.1000], requires_grad=True)\n",
            " c = tensor([2.0500], requires_grad=True)\n",
            " y = tensor([12.], grad_fn=<AddBackward0>)\n",
            " loss = 1.0\n"
          ]
        }
      ]
    },
    {
      "cell_type": "markdown",
      "source": [
        "# more complicated"
      ],
      "metadata": {
        "id": "rXHq9XKL-23b"
      }
    },
    {
      "cell_type": "code",
      "source": [
        "import matplotlib.pyplot as plt"
      ],
      "metadata": {
        "id": "WTIN0D2k-kw1"
      },
      "execution_count": null,
      "outputs": []
    },
    {
      "cell_type": "code",
      "source": [
        "# 단순 곱이 아닌 행렬곱으로 더 복잡해짐\n",
        "def model_fn(x, m, c):\n",
        "  return m @ x + c\n",
        "\n",
        "def loss_fn(y, yt):\n",
        "  return torch.norm(y - yt)"
      ],
      "metadata": {
        "id": "7k4Ms_es-8O0"
      },
      "execution_count": null,
      "outputs": []
    },
    {
      "cell_type": "code",
      "source": [
        "m = torch.rand((5,5), requires_grad = True)\n",
        "c = torch.ones((5,1), requires_grad = True)"
      ],
      "metadata": {
        "id": "7uVHFfhZ_Drn"
      },
      "execution_count": null,
      "outputs": []
    },
    {
      "cell_type": "code",
      "source": [
        "x = torch.randn(5, 100)\n",
        "yt = torch.randn(1, 100)\n",
        "losses = []"
      ],
      "metadata": {
        "id": "Fa-ZMSIi_WjZ"
      },
      "execution_count": null,
      "outputs": []
    },
    {
      "cell_type": "code",
      "source": [
        "y = model_fn(x, m ,c)\n",
        "loss = loss_fn(y, yt)\n",
        "loss.backward()\n",
        "with torch.no_grad():\n",
        "  m -= 0.05 * m.grad\n",
        "  c -= 0.05 * c.grad\n",
        "m.grad.zero_()\n",
        "c.grad.zero_()\n",
        "\n",
        "losses += [loss.item()]\n",
        "print(f\"loss = {loss}\")\n",
        "\n",
        "# 이걸 여러 epoch 반복하면 loss의 변화가 더 구체적으로 보일 거같음\n",
        "# plt.plot(losses);"
      ],
      "metadata": {
        "colab": {
          "base_uri": "https://localhost:8080/"
        },
        "id": "j1ZEVzdl_fhk",
        "outputId": "cfc9624a-1bec-4627-f746-0af67ac30bb6"
      },
      "execution_count": null,
      "outputs": [
        {
          "output_type": "stream",
          "name": "stdout",
          "text": [
            "loss = 45.53003692626953\n"
          ]
        }
      ]
    },
    {
      "cell_type": "markdown",
      "source": [
        "# Using Libaray functions"
      ],
      "metadata": {
        "id": "SVZVsmImA_gu"
      }
    },
    {
      "cell_type": "code",
      "source": [
        "model = torch.nn.Sequential(\n",
        "    torch.nn.Linear(5, 5),\n",
        "    torch.nn.ReLU(),\n",
        "    torch.nn.Linear(5,5),\n",
        ")"
      ],
      "metadata": {
        "id": "CmaRszAC_2Aq"
      },
      "execution_count": null,
      "outputs": []
    },
    {
      "cell_type": "code",
      "source": [
        "list(model.parameters())"
      ],
      "metadata": {
        "colab": {
          "base_uri": "https://localhost:8080/"
        },
        "id": "5770OFQnBKH9",
        "outputId": "b968ea29-69d2-414d-e8cc-db35ccc50aef"
      },
      "execution_count": null,
      "outputs": [
        {
          "output_type": "execute_result",
          "data": {
            "text/plain": [
              "[Parameter containing:\n",
              " tensor([[ 0.3809,  0.3507, -0.2763, -0.3897, -0.1850],\n",
              "         [ 0.1031, -0.1279,  0.2248, -0.3780, -0.2159],\n",
              "         [-0.0373, -0.2050,  0.1939, -0.0750, -0.1061],\n",
              "         [ 0.3875, -0.3559, -0.1476,  0.4408,  0.3821],\n",
              "         [-0.1012,  0.3495,  0.3522,  0.4117, -0.0047]], requires_grad=True),\n",
              " Parameter containing:\n",
              " tensor([-0.3846, -0.0368,  0.0887,  0.3037,  0.3909], requires_grad=True),\n",
              " Parameter containing:\n",
              " tensor([[ 0.2578,  0.1186, -0.0226,  0.2045, -0.2874],\n",
              "         [ 0.0487,  0.2646, -0.4238, -0.2873,  0.3034],\n",
              "         [-0.2160, -0.0092, -0.0572,  0.2389,  0.2413],\n",
              "         [-0.2662,  0.0724, -0.3850, -0.2878, -0.1289],\n",
              "         [-0.1290,  0.1065,  0.2998, -0.1314, -0.3424]], requires_grad=True),\n",
              " Parameter containing:\n",
              " tensor([ 0.1607,  0.1898, -0.0551,  0.3671,  0.3805], requires_grad=True)]"
            ]
          },
          "metadata": {},
          "execution_count": 79
        }
      ]
    },
    {
      "cell_type": "code",
      "source": [
        "loss_fn = torch.nn.MSELoss(reduction='sum')"
      ],
      "metadata": {
        "id": "7Rhv0nPMBMBv"
      },
      "execution_count": null,
      "outputs": []
    },
    {
      "cell_type": "code",
      "source": [
        "x= torch.randn(100, 5)\n",
        "yt = torch.randn(100, 1)\n",
        "losses = []"
      ],
      "metadata": {
        "id": "OPbM5crPBSH0"
      },
      "execution_count": null,
      "outputs": []
    },
    {
      "cell_type": "code",
      "source": [
        "y = model(x)\n",
        "loss = loss_fn(y, yt)\n",
        "loss.backward()\n",
        "with torch.no_grad():\n",
        "  for param in model.parameters():\n",
        "    param -= 0.1 * param.grad\n",
        "\n",
        "model.zero_grad()\n",
        "\n",
        "losses += [loss.item()]\n",
        "print(f\"Loss = {loss}\")\n",
        "# plt.plot(losses);"
      ],
      "metadata": {
        "colab": {
          "base_uri": "https://localhost:8080/"
        },
        "id": "KexAoZYPBYtV",
        "outputId": "2de8ccf1-1286-470e-b37c-fc53d6a4cc2c"
      },
      "execution_count": null,
      "outputs": [
        {
          "output_type": "stream",
          "name": "stdout",
          "text": [
            "Loss = 656.8623046875\n"
          ]
        }
      ]
    },
    {
      "cell_type": "markdown",
      "source": [
        "# optimizer를 이용한 방법\n",
        "\n",
        "옵티마이저는 딥러닝 모델이 학습을 할 때 가중치를 업데이트 해주느 알고리즘임\n",
        "\n",
        "1. loss 계산\n",
        "2. 역전파로 gradient 계산\n",
        "3. 옵티마이저가 파라미터 업데이트\n",
        "4. 그래디언트 초기화\n",
        "\n"
      ],
      "metadata": {
        "id": "fvtuNALjDOGS"
      }
    },
    {
      "cell_type": "code",
      "source": [
        "optimizer = torch.optim.Adam(model.parameters(), lr=0.03)"
      ],
      "metadata": {
        "id": "rEHgTUGuBrfo"
      },
      "execution_count": null,
      "outputs": []
    },
    {
      "cell_type": "code",
      "source": [
        "y = model(x)\n",
        "loss = loss_fn(y, yt)\n",
        "loss.backward()\n",
        "\n",
        "# 자동으로 파라미터를 업데이트함\n",
        "optimizer.step()\n",
        "\n",
        "# 그래디언트 초기\n",
        "optimizer.zero_grad()\n",
        "\n",
        "losses +=[loss.item()]\n",
        "print(f\"loss = {loss}\")\n",
        "plt.plot(losses);"
      ],
      "metadata": {
        "colab": {
          "base_uri": "https://localhost:8080/",
          "height": 505
        },
        "id": "AaArS6PLC584",
        "outputId": "86d25518-7f40-4995-80c4-37add53547d0"
      },
      "execution_count": null,
      "outputs": [
        {
          "output_type": "stream",
          "name": "stdout",
          "text": [
            "loss = 14580.9365234375\n"
          ]
        },
        {
          "output_type": "stream",
          "name": "stderr",
          "text": [
            "/usr/local/lib/python3.11/dist-packages/torch/nn/modules/loss.py:610: UserWarning: Using a target size (torch.Size([100, 1])) that is different to the input size (torch.Size([100, 5])). This will likely lead to incorrect results due to broadcasting. Please ensure they have the same size.\n",
            "  return F.mse_loss(input, target, reduction=self.reduction)\n"
          ]
        },
        {
          "output_type": "display_data",
          "data": {
            "text/plain": [
              "<Figure size 640x480 with 1 Axes>"
            ],
            "image/png": "[encoded data removed]"
          },
          "metadata": {}
        }
      ]
    },
    {
      "cell_type": "markdown",
      "source": [
        "# MNIST 예제"
      ],
      "metadata": {
        "id": "4WjKvNk_D2au"
      }
    },
    {
      "cell_type": "code",
      "source": [
        "from torchvision.datasets import MNIST\n",
        "data = MNIST(\",\", download = True)"
      ],
      "metadata": {
        "colab": {
          "base_uri": "https://localhost:8080/"
        },
        "id": "_9RFhUUWDFXR",
        "outputId": "a2e96d50-bf50-45c4-eaaa-e5c0d6470a85"
      },
      "execution_count": null,
      "outputs": [
        {
          "output_type": "stream",
          "name": "stderr",
          "text": [
            "100%|██████████| 9.91M/9.91M [00:00<00:00, 15.1MB/s]\n",
            "100%|██████████| 28.9k/28.9k [00:00<00:00, 407kB/s]\n",
            "100%|██████████| 1.65M/1.65M [00:00<00:00, 3.77MB/s]\n",
            "100%|██████████| 4.54k/4.54k [00:00<00:00, 7.64MB/s]\n"
          ]
        }
      ]
    },
    {
      "cell_type": "code",
      "source": [
        "img, y = data[2]\n",
        "img"
      ],
      "metadata": {
        "colab": {
          "base_uri": "https://localhost:8080/",
          "height": 45
        },
        "id": "OyI1TtiaED0n",
        "outputId": "5a82456f-576c-4e17-bf19-e3367c4ea41e"
      },
      "execution_count": null,
      "outputs": [
        {
          "output_type": "execute_result",
          "data": {
            "text/plain": [
              "<PIL.Image.Image image mode=L size=28x28>"
            ],
            "image/png": "[encoded data removed]",
            "image/jpeg": "[encoded data removed]"
          },
          "metadata": {},
          "execution_count": 87
        }
      ]
    },
    {
      "cell_type": "code",
      "source": [
        "y"
      ],
      "metadata": {
        "colab": {
          "base_uri": "https://localhost:8080/"
        },
        "id": "lqM9f-dUEGkv",
        "outputId": "67c624e0-d0db-46eb-fa62-f054869f68c2"
      },
      "execution_count": null,
      "outputs": [
        {
          "output_type": "execute_result",
          "data": {
            "text/plain": [
              "4"
            ]
          },
          "metadata": {},
          "execution_count": 88
        }
      ]
    },
    {
      "cell_type": "code",
      "source": [
        "data.train_data[2].shape"
      ],
      "metadata": {
        "colab": {
          "base_uri": "https://localhost:8080/"
        },
        "id": "SpaO4PFvEIrz",
        "outputId": "f80cb76d-27b0-43fb-fa38-191faea7ecbf"
      },
      "execution_count": null,
      "outputs": [
        {
          "output_type": "stream",
          "name": "stderr",
          "text": [
            "/usr/local/lib/python3.11/dist-packages/torchvision/datasets/mnist.py:76: UserWarning: train_data has been renamed data\n",
            "  warnings.warn(\"train_data has been renamed data\")\n"
          ]
        },
        {
          "output_type": "execute_result",
          "data": {
            "text/plain": [
              "torch.Size([28, 28])"
            ]
          },
          "metadata": {},
          "execution_count": 89
        }
      ]
    },
    {
      "cell_type": "code",
      "source": [
        "data.train_labels[2]"
      ],
      "metadata": {
        "colab": {
          "base_uri": "https://localhost:8080/"
        },
        "id": "ByYTac2HELZC",
        "outputId": "2c747a24-a390-46b4-a093-0ff2941307b4"
      },
      "execution_count": null,
      "outputs": [
        {
          "output_type": "stream",
          "name": "stderr",
          "text": [
            "/usr/local/lib/python3.11/dist-packages/torchvision/datasets/mnist.py:66: UserWarning: train_labels has been renamed targets\n",
            "  warnings.warn(\"train_labels has been renamed targets\")\n"
          ]
        },
        {
          "output_type": "execute_result",
          "data": {
            "text/plain": [
              "tensor(4)"
            ]
          },
          "metadata": {},
          "execution_count": 90
        }
      ]
    },
    {
      "cell_type": "code",
      "source": [
        "# 모델을 정의해준 입력 28 x 28 = 784\n",
        "# 마지막에 클래스 10개에 대한 점수로\n",
        "model = torch.nn.Sequential(\n",
        "    torch.nn.Linear(784, 100),\n",
        "    torch.nn.ReLU(),\n",
        "    torch.nn.Linear(100, 100),\n",
        "    torch.nn.ReLU(),\n",
        "    torch.nn.Linear(100, 10),\n",
        ")"
      ],
      "metadata": {
        "id": "jrZ_C5p2ENi8"
      },
      "execution_count": null,
      "outputs": []
    },
    {
      "cell_type": "code",
      "source": [
        "# 손실함수 정의\n",
        "loss_fn = torch.nn.CrossEntropyLoss()"
      ],
      "metadata": {
        "id": "KASZvAHEEdHD"
      },
      "execution_count": null,
      "outputs": []
    },
    {
      "cell_type": "code",
      "source": [
        "# 무작위로 1000개의 샘플을 선택\n",
        "# 1000, 784 짜리를 1D 벡터로 변환\n",
        "import numpy as np\n",
        "sample = np.random.choice(range(len(data.train_data)), 1000)\n",
        "x = data.train_data[sample].reshape(1000, -1).float()/255\n",
        "yt = data.train_labels[sample]"
      ],
      "metadata": {
        "id": "dNAOCsf3EgAo"
      },
      "execution_count": null,
      "outputs": []
    },
    {
      "cell_type": "code",
      "source": [
        "optimizer = torch.optim.Adam(model.parameters(), lr=0.03)\n",
        "losses = []"
      ],
      "metadata": {
        "id": "OEpxkUUIExeA"
      },
      "execution_count": null,
      "outputs": []
    },
    {
      "cell_type": "code",
      "source": [
        "# 학습 에폭은 100으로\n",
        "for i in range(100):\n",
        "  y = model(x)\n",
        "  loss = loss_fn(y, yt)\n",
        "  loss.backward()\n",
        "\n",
        "  optimizer.step()\n",
        "  optimizer.zero_grad()\n",
        "\n",
        "  losses += [loss.item()]\n",
        "  print(f\"Loss = {loss}\")\n",
        "\n",
        "# loss 값의 변화를 확실하게 확인가능\n",
        "plt.plot(losses);"
      ],
      "metadata": {
        "colab": {
          "base_uri": "https://localhost:8080/",
          "height": 1000
        },
        "id": "IQhsAZv9E_0U",
        "outputId": "e2839d0f-f511-40b0-b354-1fc06c9bb5f2"
      },
      "execution_count": null,
      "outputs": [
        {
          "output_type": "stream",
          "name": "stdout",
          "text": [
            "Loss = 2.3038387298583984\n",
            "Loss = 1.9392179250717163\n",
            "Loss = 3.30824613571167\n",
            "Loss = 2.0238704681396484\n",
            "Loss = 2.7688724994659424\n",
            "Loss = 1.2713820934295654\n",
            "Loss = 1.1235889196395874\n",
            "Loss = 1.0887173414230347\n",
            "Loss = 0.8826508522033691\n",
            "Loss = 0.6843575835227966\n",
            "Loss = 0.5151957273483276\n",
            "Loss = 0.43103116750717163\n",
            "Loss = 0.33984196186065674\n",
            "Loss = 0.3241492807865143\n",
            "Loss = 0.27344003319740295\n",
            "Loss = 0.22854891419410706\n",
            "Loss = 0.1936214417219162\n",
            "Loss = 0.1486443281173706\n",
            "Loss = 0.13398680090904236\n",
            "Loss = 0.11599089950323105\n",
            "Loss = 0.09251229465007782\n",
            "Loss = 0.07656175643205643\n",
            "Loss = 0.06146390363574028\n",
            "Loss = 0.05068112164735794\n",
            "Loss = 0.04209376499056816\n",
            "Loss = 0.03427334874868393\n",
            "Loss = 0.02783978544175625\n",
            "Loss = 0.022553961724042892\n",
            "Loss = 0.01759229227900505\n",
            "Loss = 0.013183318078517914\n",
            "Loss = 0.01035364344716072\n",
            "Loss = 0.008249037899076939\n",
            "Loss = 0.00649405550211668\n",
            "Loss = 0.0051265559159219265\n",
            "Loss = 0.004072209820151329\n",
            "Loss = 0.003297259798273444\n",
            "Loss = 0.0027536661364138126\n",
            "Loss = 0.002355574630200863\n",
            "Loss = 0.0020330564584583044\n",
            "Loss = 0.00175407063215971\n",
            "Loss = 0.001475592260248959\n",
            "Loss = 0.0012238359777256846\n",
            "Loss = 0.0010116914054378867\n",
            "Loss = 0.0008407884160988033\n",
            "Loss = 0.000706059392541647\n",
            "Loss = 0.0006008701748214662\n",
            "Loss = 0.0005196214187890291\n",
            "Loss = 0.0004574997001327574\n",
            "Loss = 0.00040934901335276663\n",
            "Loss = 0.00037111766869202256\n",
            "Loss = 0.0003389763878658414\n",
            "Loss = 0.000310350937070325\n",
            "Loss = 0.00028446788201108575\n",
            "Loss = 0.0002607031783554703\n",
            "Loss = 0.00023898130166344345\n",
            "Loss = 0.00021915232355240732\n",
            "Loss = 0.00020119680266361684\n",
            "Loss = 0.00018515504780225456\n",
            "Loss = 0.00017096461670007557\n",
            "Loss = 0.00015848487964831293\n",
            "Loss = 0.00014753885625395924\n",
            "Loss = 0.0001379914174322039\n",
            "Loss = 0.0001296617410844192\n",
            "Loss = 0.00012237401097081602\n",
            "Loss = 0.00011595710384426638\n",
            "Loss = 0.00011027028813259676\n",
            "Loss = 0.00010519650822971016\n",
            "Loss = 0.0001006365564535372\n",
            "Loss = 9.650320134824142e-05\n",
            "Loss = 9.27487708395347e-05\n",
            "Loss = 8.931629417929798e-05\n",
            "Loss = 8.616164268460125e-05\n",
            "Loss = 8.324770897161216e-05\n",
            "Loss = 8.055521902861074e-05\n",
            "Loss = 7.806156645528972e-05\n",
            "Loss = 7.574700430268422e-05\n",
            "Loss = 7.359953451668844e-05\n",
            "Loss = 7.159986853366718e-05\n",
            "Loss = 6.97329014656134e-05\n",
            "Loss = 6.798484537284821e-05\n",
            "Loss = 6.634509918512776e-05\n",
            "Loss = 6.480245792772621e-05\n",
            "Loss = 6.334732461255044e-05\n",
            "Loss = 6.198015762493014e-05\n",
            "Loss = 6.068714719731361e-05\n",
            "Loss = 5.946270175627433e-05\n",
            "Loss = 5.830134978168644e-05\n",
            "Loss = 5.7199751609005034e-05\n",
            "Loss = 5.61574415769428e-05\n",
            "Loss = 5.5167161917779595e-05\n",
            "Loss = 5.422556569101289e-05\n",
            "Loss = 5.3338859288487583e-05\n",
            "Loss = 5.249965033726767e-05\n",
            "Loss = 5.1694260037038475e-05\n",
            "Loss = 5.09245837747585e-05\n",
            "Loss = 5.018979209125973e-05\n",
            "Loss = 4.948536661686376e-05\n",
            "Loss = 4.880879714619368e-05\n",
            "Loss = 4.81606948596891e-05\n",
            "Loss = 4.753747271024622e-05\n"
          ]
        },
        {
          "output_type": "display_data",
          "data": {
            "text/plain": [
              "<Figure size 640x480 with 1 Axes>"
            ],
            "image/png": "[encoded data removed]"
          },
          "metadata": {}
        }
      ]
    },
    {
      "cell_type": "code",
      "source": [
        "# 마지막 1000개를 테스트셋으로 사용함\n",
        "x_test = data.train_data[-1000:].reshape(1000, -1).float()/255\n",
        "y_test = data.train_labels[-1000:]"
      ],
      "metadata": {
        "id": "1Z6Ei4VmFRaJ"
      },
      "execution_count": null,
      "outputs": []
    },
    {
      "cell_type": "code",
      "source": [
        "with torch.no_grad():\n",
        "  y_pred = model(x_test)"
      ],
      "metadata": {
        "id": "3M4JAmu5Fdd5"
      },
      "execution_count": null,
      "outputs": []
    },
    {
      "cell_type": "code",
      "source": [
        "# argmax(dim=1) : 가장 높은 점수를 예측 클래스로함\n",
        "# 그리고 그 예측 클래스를 실제 값과 비교하여 정확도를 계산하는 과정임\n",
        "# 그리고 다 더해서 1000개니까 평균을 구하면 정확도가 나오게 되는거\n",
        "print(\"Accuracy = \", (y_pred.argmax(dim=1) == y_test).sum().float().item()/1000.0)"
      ],
      "metadata": {
        "colab": {
          "base_uri": "https://localhost:8080/"
        },
        "id": "Vg_2QsZRFgvI",
        "outputId": "e3b1439a-5474-4834-c7f2-033c0393af7e"
      },
      "execution_count": null,
      "outputs": [
        {
          "output_type": "stream",
          "name": "stdout",
          "text": [
            "Accuracy =  0.915\n"
          ]
        }
      ]
    },
    {
      "cell_type": "code",
      "source": [],
      "metadata": {
        "id": "8qLWzPYRFvIt"
      },
      "execution_count": null,
      "outputs": []
    }
  ]
}