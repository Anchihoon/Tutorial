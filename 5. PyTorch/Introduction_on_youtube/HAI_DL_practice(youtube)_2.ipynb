{
  "nbformat": 4,
  "nbformat_minor": 0,
  "metadata": {
    "colab": {
      "provenance": []
    },
    "kernelspec": {
      "name": "python3",
      "display_name": "Python 3"
    },
    "language_info": {
      "name": "python"
    }
  },
  "cells": [
    {
      "cell_type": "markdown",
      "source": [
        "# **2. Introduction to PyTorch Tensors**"
      ],
      "metadata": {
        "id": "y_xND2A2VXEg"
      }
    },
    {
      "cell_type": "code",
      "execution_count": null,
      "metadata": {
        "id": "OHLxIXS3VQ_l"
      },
      "outputs": [],
      "source": [
        "import torch\n",
        "import math"
      ]
    },
    {
      "cell_type": "markdown",
      "source": [
        "# Creating Tensor"
      ],
      "metadata": {
        "id": "7J83c2WjVgaL"
      }
    },
    {
      "cell_type": "markdown",
      "source": [
        "torch.empty() 함수는 메모리 공간만 할당하고 초기화는 하지 않음 그래서 무작위 값이 출력된 것 처럼 보임"
      ],
      "metadata": {
        "id": "GOPgZ_JFWh0G"
      }
    },
    {
      "cell_type": "markdown",
      "source": [
        "텐서의 차원과 용어\n",
        "- 1차원 텐서는 일반적으로 벡터라고 부름\n",
        "- 2차원 텐서는 행렬이라고 부름\n",
        "- 3차원 이상은 그냥 텐서라고 부름"
      ],
      "metadata": {
        "id": "uuIdPRh1WzUa"
      }
    },
    {
      "cell_type": "code",
      "source": [
        "x = torch.empty(3, 4)\n",
        "print(type(x))\n",
        "print(x)"
      ],
      "metadata": {
        "colab": {
          "base_uri": "https://localhost:8080/"
        },
        "id": "zs-NqLtxVdma",
        "outputId": "f900dbb0-af90-4541-b694-e8aa39b67e5b"
      },
      "execution_count": null,
      "outputs": [
        {
          "output_type": "stream",
          "name": "stdout",
          "text": [
            "<class 'torch.Tensor'>\n",
            "tensor([[-4.7800e-21,  4.4459e-41, -1.5624e-22,  4.4459e-41],\n",
            "        [-4.7798e-21,  4.4459e-41, -1.4842e-09,  4.4458e-41],\n",
            "        [-4.7800e-21,  4.4459e-41,  1.3639e-38,  0.0000e+00]])\n"
          ]
        }
      ]
    },
    {
      "cell_type": "code",
      "source": [
        "zeros = torch.zeros(2, 3)\n",
        "print(zeros)\n",
        "\n",
        "ones = torch.ones(2, 3)\n",
        "print(ones)\n",
        "\n",
        "torch.manual_seed(1729)\n",
        "random = torch.rand(2, 3)\n",
        "print(random)"
      ],
      "metadata": {
        "colab": {
          "base_uri": "https://localhost:8080/"
        },
        "id": "2GidwX7fVmle",
        "outputId": "01f255f0-767b-4705-c568-d752d69e3a54"
      },
      "execution_count": null,
      "outputs": [
        {
          "output_type": "stream",
          "name": "stdout",
          "text": [
            "tensor([[0., 0., 0.],\n",
            "        [0., 0., 0.]])\n",
            "tensor([[1., 1., 1.],\n",
            "        [1., 1., 1.]])\n",
            "tensor([[0.3126, 0.3791, 0.3087],\n",
            "        [0.0736, 0.4216, 0.0691]])\n"
          ]
        }
      ]
    },
    {
      "cell_type": "markdown",
      "source": [
        "# Random Tensors and Seeding"
      ],
      "metadata": {
        "id": "hXQPacd5WLdQ"
      }
    },
    {
      "cell_type": "code",
      "source": [
        "torch.manual_seed(1729)\n",
        "random1 = torch.rand(2, 3)\n",
        "print(random1)\n",
        "\n",
        "random2 = torch.rand(2, 3)\n",
        "print(random2)\n",
        "\n",
        "torch.manual_seed(1729)\n",
        "random3 = torch.rand(2, 3)\n",
        "print(random3)\n",
        "\n",
        "random4 = torch.rand(2, 3)\n",
        "print(random4)"
      ],
      "metadata": {
        "colab": {
          "base_uri": "https://localhost:8080/"
        },
        "id": "t7HxCE-cWHr8",
        "outputId": "a8a3e51d-bdbc-4e14-d66d-c7eb21fedb8f"
      },
      "execution_count": null,
      "outputs": [
        {
          "output_type": "stream",
          "name": "stdout",
          "text": [
            "tensor([[0.3126, 0.3791, 0.3087],\n",
            "        [0.0736, 0.4216, 0.0691]])\n",
            "tensor([[0.2332, 0.4047, 0.2162],\n",
            "        [0.9927, 0.4128, 0.5938]])\n",
            "tensor([[0.3126, 0.3791, 0.3087],\n",
            "        [0.0736, 0.4216, 0.0691]])\n",
            "tensor([[0.2332, 0.4047, 0.2162],\n",
            "        [0.9927, 0.4128, 0.5938]])\n"
          ]
        }
      ]
    },
    {
      "cell_type": "markdown",
      "source": [
        "# Tensor Shapes"
      ],
      "metadata": {
        "id": "s5wRfOCZX2ZR"
      }
    },
    {
      "cell_type": "markdown",
      "source": [
        "두개 이상의 텐서에서 연산을 수행할 때 shape이 같아야됨"
      ],
      "metadata": {
        "id": "Hozk4r-cahmU"
      }
    },
    {
      "cell_type": "code",
      "source": [
        "x = torch.empty(2, 2, 3)\n",
        "print(x.shape)\n",
        "print(x)\n",
        "\n",
        "empty_like_x = torch.empty_like(x)\n",
        "print(empty_like_x.shape)\n",
        "print(empty_like_x)\n",
        "\n",
        "zeros_like_x = torch.zeros_like(x)\n",
        "print(zeros_like_x.shape)\n",
        "print(zeros_like_x)\n",
        "\n",
        "ones_like_x = torch.ones_like(x)\n",
        "print(ones_like_x.shape)\n",
        "print(ones_like_x)\n",
        "\n",
        "rand_like_x = torch.rand_like(x)\n",
        "print(rand_like_x.shape)\n",
        "print(rand_like_x)"
      ],
      "metadata": {
        "colab": {
          "base_uri": "https://localhost:8080/"
        },
        "id": "EKY84Kn0WbLA",
        "outputId": "a45d1d5f-42b8-4d69-a495-401e7c797ca9"
      },
      "execution_count": null,
      "outputs": [
        {
          "output_type": "stream",
          "name": "stdout",
          "text": [
            "torch.Size([2, 2, 3])\n",
            "tensor([[[ 1.2744e-12,  0.0000e+00, -1.4569e-09],\n",
            "         [ 4.4458e-41,  0.0000e+00,  0.0000e+00]],\n",
            "\n",
            "        [[ 0.0000e+00,  0.0000e+00,  0.0000e+00],\n",
            "         [ 0.0000e+00,  0.0000e+00,  0.0000e+00]]])\n",
            "torch.Size([2, 2, 3])\n",
            "tensor([[[-1.0902e-20,  4.4459e-41,  1.0335e-11],\n",
            "         [ 0.0000e+00,  1.0444e-11,  0.0000e+00]],\n",
            "\n",
            "        [[ 0.0000e+00,  0.0000e+00,  0.0000e+00],\n",
            "         [ 0.0000e+00,  1.0465e-11,  0.0000e+00]]])\n",
            "torch.Size([2, 2, 3])\n",
            "tensor([[[0., 0., 0.],\n",
            "         [0., 0., 0.]],\n",
            "\n",
            "        [[0., 0., 0.],\n",
            "         [0., 0., 0.]]])\n",
            "torch.Size([2, 2, 3])\n",
            "tensor([[[1., 1., 1.],\n",
            "         [1., 1., 1.]],\n",
            "\n",
            "        [[1., 1., 1.],\n",
            "         [1., 1., 1.]]])\n",
            "torch.Size([2, 2, 3])\n",
            "tensor([[[0.6128, 0.1519, 0.0453],\n",
            "         [0.5035, 0.9978, 0.3884]],\n",
            "\n",
            "        [[0.6929, 0.1703, 0.1384],\n",
            "         [0.4759, 0.7481, 0.0361]]])\n"
          ]
        }
      ]
    },
    {
      "cell_type": "markdown",
      "source": [
        "리스트나 튜플을 기반으로 텐서를 생성함\n",
        "\n",
        "torch.tensor()는 넘겨준 데이터의 복사본을 생성 (원본을 공유하는 형태가 아님)"
      ],
      "metadata": {
        "id": "FwWixlftb0M_"
      }
    },
    {
      "cell_type": "code",
      "source": [
        "some_constants = torch.tensor([[2.32154, 5.21432], [1.234768, 0.01233]])\n",
        "print(some_constants)\n",
        "\n",
        "some_integers = torch.tensor((2, 3, 5, 7, 11, 13 ,17, 19))\n",
        "print(some_integers)\n",
        "\n",
        "more_integers = torch.tensor(((2, 4, 6), [3, 5, 9]))\n",
        "print(more_integers)"
      ],
      "metadata": {
        "colab": {
          "base_uri": "https://localhost:8080/"
        },
        "id": "B_lLM6hYYXhQ",
        "outputId": "e06739d6-0bfb-40a3-a926-7e17ee494780"
      },
      "execution_count": null,
      "outputs": [
        {
          "output_type": "stream",
          "name": "stdout",
          "text": [
            "tensor([[2.3215, 5.2143],\n",
            "        [1.2348, 0.0123]])\n",
            "tensor([ 2,  3,  5,  7, 11, 13, 17, 19])\n",
            "tensor([[2, 4, 6],\n",
            "        [3, 5, 9]])\n"
          ]
        }
      ]
    },
    {
      "cell_type": "markdown",
      "source": [
        "# Tensor Data Types"
      ],
      "metadata": {
        "id": "1rUllax7cPNY"
      }
    },
    {
      "cell_type": "code",
      "source": [
        "a = torch.ones((2, 3), dtype = torch.int16)\n",
        "print(a)\n",
        "\n",
        "b = torch.rand((2, 3), dtype = torch.float64) * 20\n",
        "print(b)\n",
        "\n",
        "c = b.to(torch.int32)\n",
        "print(c)"
      ],
      "metadata": {
        "colab": {
          "base_uri": "https://localhost:8080/"
        },
        "id": "oxIH6roOZHxX",
        "outputId": "1a7d7f92-e4ed-4408-c275-4edd82636c8f"
      },
      "execution_count": null,
      "outputs": [
        {
          "output_type": "stream",
          "name": "stdout",
          "text": [
            "tensor([[1, 1, 1],\n",
            "        [1, 1, 1]], dtype=torch.int16)\n",
            "tensor([[ 0.9956,  1.4148,  5.8364],\n",
            "        [11.2406, 11.2083, 11.6692]], dtype=torch.float64)\n",
            "tensor([[ 0,  1,  5],\n",
            "        [11, 11, 11]], dtype=torch.int32)\n"
          ]
        }
      ]
    },
    {
      "cell_type": "markdown",
      "source": [
        "# Math & Logic with PyTorch Tensors"
      ],
      "metadata": {
        "id": "ZDlCGmhadfQI"
      }
    },
    {
      "cell_type": "code",
      "source": [
        "ones = torch.zeros(2, 2) + 1\n",
        "twos = torch.ones(2, 2) * 2\n",
        "threes = (torch.ones(2, 2) * 7 - 1) / 2\n",
        "fours = twos ** 2\n",
        "sqrt2s = twos ** 0.5\n",
        "\n",
        "print(ones)\n",
        "print(twos)\n",
        "print(threes)\n",
        "print(fours)\n",
        "print(sqrt2s)"
      ],
      "metadata": {
        "colab": {
          "base_uri": "https://localhost:8080/"
        },
        "id": "z3lHwvnzd0JI",
        "outputId": "93743e80-bfd6-4943-a117-910037e76007"
      },
      "execution_count": null,
      "outputs": [
        {
          "output_type": "stream",
          "name": "stdout",
          "text": [
            "tensor([[1., 1.],\n",
            "        [1., 1.]])\n",
            "tensor([[2., 2.],\n",
            "        [2., 2.]])\n",
            "tensor([[3., 3.],\n",
            "        [3., 3.]])\n",
            "tensor([[4., 4.],\n",
            "        [4., 4.]])\n",
            "tensor([[1.4142, 1.4142],\n",
            "        [1.4142, 1.4142]])\n"
          ]
        }
      ]
    },
    {
      "cell_type": "markdown",
      "source": [
        "shape이 다르면 애초에 연산 자체가 안됨"
      ],
      "metadata": {
        "id": "8WUty2mffDEs"
      }
    },
    {
      "cell_type": "code",
      "source": [
        "powers2 = twos ** torch.tensor([[1, 2], [3, 4]])\n",
        "print(powers2)\n",
        "\n",
        "fives = ones + fours\n",
        "print(fives)\n",
        "\n",
        "dozens = threes * fours\n",
        "print(dozens)"
      ],
      "metadata": {
        "colab": {
          "base_uri": "https://localhost:8080/"
        },
        "id": "Odh_hiUheYGQ",
        "outputId": "a0d3dbad-20c7-4f99-eb9d-837470ba2095"
      },
      "execution_count": null,
      "outputs": [
        {
          "output_type": "stream",
          "name": "stdout",
          "text": [
            "tensor([[ 2.,  4.],\n",
            "        [ 8., 16.]])\n",
            "tensor([[5., 5.],\n",
            "        [5., 5.]])\n",
            "tensor([[12., 12.],\n",
            "        [12., 12.]])\n"
          ]
        }
      ]
    },
    {
      "cell_type": "markdown",
      "source": [
        "# In Breif: Tensor Broadcasting"
      ],
      "metadata": {
        "id": "jRf-bQxafTDu"
      }
    },
    {
      "cell_type": "markdown",
      "source": [
        "브로드캐스팅 규칙\n",
        "1. 모든 텐서는 최소한 하나의 차원을 가져야 함 (빈 텐서 안됨)\n",
        "2. 오른쪽 부터 차원을 비교하면서 아래중 하나만 만족하면 됨\n",
        "- 두 차원이 같다\n",
        "- 둘중 하나가 1이다\n",
        "- 한 텐서에는 그 차원이 없다"
      ],
      "metadata": {
        "id": "mPflB-kogTQV"
      }
    },
    {
      "cell_type": "markdown",
      "source": [
        "a = torch.ones(4, 3, 2)\n",
        "\n",
        "b = a * torch.rand(4, 3)\n",
        "\n",
        "c = a * torch.rand(2, 3)\n",
        "\n",
        "d = a * torch.rand((0,))\n",
        "\n",
        "이것들 싹다 안되는거"
      ],
      "metadata": {
        "id": "NDQuZZN2hb4V"
      }
    },
    {
      "cell_type": "markdown",
      "source": [
        "rand 는 2 x 4\n",
        "doubled 는 1 x 4\n",
        "인데 doubled 가 브로드캐스팅 되서 2 x 4로 계산됨"
      ],
      "metadata": {
        "id": "78eEIeobgGZL"
      }
    },
    {
      "cell_type": "markdown",
      "source": [],
      "metadata": {
        "id": "W9lhpkVLgS2x"
      }
    },
    {
      "cell_type": "code",
      "source": [
        "rand = torch.rand(2, 4)\n",
        "doubled = rand * (torch.ones(1, 4) * 2)\n",
        "\n",
        "print(rand)\n",
        "print(doubled)"
      ],
      "metadata": {
        "colab": {
          "base_uri": "https://localhost:8080/"
        },
        "id": "_AKh0XHZewJr",
        "outputId": "e2d6ccc6-8ada-416c-9b6b-6c3883992dde"
      },
      "execution_count": null,
      "outputs": [
        {
          "output_type": "stream",
          "name": "stdout",
          "text": [
            "tensor([[0.6146, 0.5999, 0.5013, 0.9397],\n",
            "        [0.8656, 0.5207, 0.6865, 0.3614]])\n",
            "tensor([[1.2291, 1.1998, 1.0026, 1.8793],\n",
            "        [1.7312, 1.0413, 1.3730, 0.7228]])\n"
          ]
        }
      ]
    },
    {
      "cell_type": "markdown",
      "source": [
        "이것들도 싹다 브로드 캐스팅 되서 연산 진행되는거"
      ],
      "metadata": {
        "id": "gI1YNtDIg1te"
      }
    },
    {
      "cell_type": "code",
      "source": [
        "a = torch.ones(4, 3, 2)\n",
        "\n",
        "b = a * torch.rand(3, 2)\n",
        "print(b)\n",
        "\n",
        "c = a * torch.rand(3, 1)\n",
        "print(c)\n",
        "\n",
        "d = a * torch.rand(1, 2)\n",
        "print(d)"
      ],
      "metadata": {
        "colab": {
          "base_uri": "https://localhost:8080/"
        },
        "id": "9ghRhKqTfdWo",
        "outputId": "87a2115e-59f7-47cc-cb6c-dbef4c24b69d"
      },
      "execution_count": null,
      "outputs": [
        {
          "output_type": "stream",
          "name": "stdout",
          "text": [
            "tensor([[[0.6493, 0.2633],\n",
            "         [0.4762, 0.0548],\n",
            "         [0.2024, 0.5731]],\n",
            "\n",
            "        [[0.6493, 0.2633],\n",
            "         [0.4762, 0.0548],\n",
            "         [0.2024, 0.5731]],\n",
            "\n",
            "        [[0.6493, 0.2633],\n",
            "         [0.4762, 0.0548],\n",
            "         [0.2024, 0.5731]],\n",
            "\n",
            "        [[0.6493, 0.2633],\n",
            "         [0.4762, 0.0548],\n",
            "         [0.2024, 0.5731]]])\n",
            "tensor([[[0.7191, 0.7191],\n",
            "         [0.4067, 0.4067],\n",
            "         [0.7301, 0.7301]],\n",
            "\n",
            "        [[0.7191, 0.7191],\n",
            "         [0.4067, 0.4067],\n",
            "         [0.7301, 0.7301]],\n",
            "\n",
            "        [[0.7191, 0.7191],\n",
            "         [0.4067, 0.4067],\n",
            "         [0.7301, 0.7301]],\n",
            "\n",
            "        [[0.7191, 0.7191],\n",
            "         [0.4067, 0.4067],\n",
            "         [0.7301, 0.7301]]])\n",
            "tensor([[[0.6276, 0.7357],\n",
            "         [0.6276, 0.7357],\n",
            "         [0.6276, 0.7357]],\n",
            "\n",
            "        [[0.6276, 0.7357],\n",
            "         [0.6276, 0.7357],\n",
            "         [0.6276, 0.7357]],\n",
            "\n",
            "        [[0.6276, 0.7357],\n",
            "         [0.6276, 0.7357],\n",
            "         [0.6276, 0.7357]],\n",
            "\n",
            "        [[0.6276, 0.7357],\n",
            "         [0.6276, 0.7357],\n",
            "         [0.6276, 0.7357]]])\n"
          ]
        }
      ]
    },
    {
      "cell_type": "code",
      "source": [
        "a = torch.rand(2, 4) * 2 - 1\n",
        "print('Common functions:')\n",
        "print(torch.abs(a)) # 절댓값\n",
        "print(torch.ceil(a)) # 올림\n",
        "print(torch.floor(a)) # 내림\n",
        "print(torch.clamp(a, -0.5, 0.5)) # 값 제한 최소가 -0.5 최대가 0.5\n",
        "\n",
        "angles = torch.tensor([0, math.pi / 4, math.pi / 2, 3 * math.pi / 4])\n",
        "sines = torch.sin(angles) # sin 값 구하기\n",
        "inverses = torch.asin(sines) # sin 역함수\n",
        "print('\\nSine and arcsine:')\n",
        "print(angles)\n",
        "print(sines)\n",
        "print(inverses)\n",
        "\n",
        "print('\\nBitwise XOR:')\n",
        "b = torch.tensor([1, 5, 11])\n",
        "c = torch.tensor([2, 7, 10])\n",
        "print(torch.bitwise_xor(b,c)) # 비트 연산중 XOR 연산\n",
        "\n",
        "print('\\nBroadcasted, element-wise equality comparison:')\n",
        "d = torch.tensor([[1., 2.], [3., 4.]])\n",
        "e = torch.ones(1, 2)\n",
        "print(torch.eq(d, e)) # 동일한 위치의 값이 같은가 보고 bool 텐서 반환\n",
        "\n",
        "print('\\nReduction ops:')\n",
        "print(torch.max(d)) # 최대값\n",
        "print(torch.max(d).item()) # .item() 으로 스칼라 추출\n",
        "print(torch.mean(d)) # 평균\n",
        "print(torch.std(d)) # 표준편차\n",
        "print(torch.prod(d)) # 원소 곱\n",
        "print(torch.unique(torch.tensor([1, 2, 1, 2, 1, 2]))) # 중복 무시하고 고유한 것만 추출\n",
        "\n",
        "v1 = torch.tensor([1., 0., 0.]) # unit vector\n",
        "v2 = torch.tensor([0., 1., 0.]) # unit vector\n",
        "m1 = torch.rand(2, 2)\n",
        "m2 = torch.tensor([[3., 0.], [0., 3.]])\n",
        "\n",
        "print('\\nVectors & Matrices:')\n",
        "print(torch.linalg.cross(v2, v1)) # v1 과 v2 외적\n",
        "print(m1)\n",
        "m3 = torch.linalg.matmul(m1, m2)\n",
        "print(m3)\n",
        "print(torch.linalg.svd(m3))"
      ],
      "metadata": {
        "colab": {
          "base_uri": "https://localhost:8080/"
        },
        "id": "RIBJ-O4gh5Zr",
        "outputId": "c85bcba1-3226-46d7-8d22-f44d3c9ec572"
      },
      "execution_count": null,
      "outputs": [
        {
          "output_type": "stream",
          "name": "stdout",
          "text": [
            "Common functions:\n",
            "tensor([[0.0476, 0.4484, 0.8447, 0.1992],\n",
            "        [0.9755, 0.9295, 0.8190, 0.1029]])\n",
            "tensor([[-0., 1., -0., -0.],\n",
            "        [1., -0., -0., -0.]])\n",
            "tensor([[-1.,  0., -1., -1.],\n",
            "        [ 0., -1., -1., -1.]])\n",
            "tensor([[-0.0476,  0.4484, -0.5000, -0.1992],\n",
            "        [ 0.5000, -0.5000, -0.5000, -0.1029]])\n",
            "\n",
            "Sine and arcsine:\n",
            "tensor([0.0000, 0.7854, 1.5708, 2.3562])\n",
            "tensor([0.0000, 0.7071, 1.0000, 0.7071])\n",
            "tensor([0.0000, 0.7854, 1.5708, 0.7854])\n",
            "\n",
            "Bitwise XOR:\n",
            "tensor([3, 2, 1])\n",
            "\n",
            "Broadcasted, element-wise equality comparison:\n",
            "tensor([[ True, False],\n",
            "        [False, False]])\n",
            "\n",
            "Reduction ops:\n",
            "tensor(4.)\n",
            "4.0\n",
            "tensor(2.5000)\n",
            "tensor(1.2910)\n",
            "tensor(24.)\n",
            "tensor([1, 2])\n",
            "\n",
            "Vectors & Matrices:\n",
            "tensor([ 0.,  0., -1.])\n",
            "tensor([[0.8740, 0.2526],\n",
            "        [0.6923, 0.7545]])\n",
            "tensor([[2.6220, 0.7577],\n",
            "        [2.0769, 2.2636]])\n",
            "torch.return_types.linalg_svd(\n",
            "U=tensor([[-0.6567, -0.7542],\n",
            "        [-0.7542,  0.6567]]),\n",
            "S=tensor([3.9588, 1.1017]),\n",
            "Vh=tensor([[-0.8306, -0.5569],\n",
            "        [-0.5569,  0.8306]]))\n"
          ]
        }
      ]
    },
    {
      "cell_type": "markdown",
      "source": [
        "# Altering Tensor in Place"
      ],
      "metadata": {
        "id": "uISzR8jvzAro"
      }
    },
    {
      "cell_type": "markdown",
      "source": [
        "메모리 공간을 새로 할당하지 않고 직접 수정 해보자(inplace하게)\n"
      ],
      "metadata": {
        "id": "V4lBv6Pj2num"
      }
    },
    {
      "cell_type": "code",
      "source": [
        "a = torch.tensor([0, math.pi / 4, math.pi / 2, 3 * math.pi / 4])\n",
        "print('a:')\n",
        "print(a)\n",
        "print(torch.sin(a)) # torch.sin(a)는 a의 sin 값을 계산해서 새 텐서를 생성함\n",
        "print(a) # 그래서 a 자체가 바뀌지 않은걸 확인 가능\n",
        "\n",
        "b = torch.tensor([0, math.pi / 4, math.pi / 2, 3 * math.pi / 4])\n",
        "print('\\nb:')\n",
        "print(b)\n",
        "print(torch.sin_(b)) # _ 를 붙이면 inplace하게 덮어 씌어버림\n",
        "print(b) # 그래서 b 값이 변경된 걸 확인할 수 있음"
      ],
      "metadata": {
        "id": "30jED2kBf4Rc",
        "colab": {
          "base_uri": "https://localhost:8080/"
        },
        "outputId": "d1bec306-f4c1-45d7-bef6-3c1ac3bb7956"
      },
      "execution_count": null,
      "outputs": [
        {
          "output_type": "stream",
          "name": "stdout",
          "text": [
            "a:\n",
            "tensor([0.0000, 0.7854, 1.5708, 2.3562])\n",
            "tensor([0.0000, 0.7071, 1.0000, 0.7071])\n",
            "tensor([0.0000, 0.7854, 1.5708, 2.3562])\n",
            "\n",
            "b:\n",
            "tensor([0.0000, 0.7854, 1.5708, 2.3562])\n",
            "tensor([0.0000, 0.7071, 1.0000, 0.7071])\n",
            "tensor([0.0000, 0.7071, 1.0000, 0.7071])\n"
          ]
        }
      ]
    },
    {
      "cell_type": "code",
      "source": [
        "a = torch.ones(2, 2)\n",
        "b = torch.rand(2, 2)\n",
        "\n",
        "print('Before:')\n",
        "print(a)\n",
        "print(b)\n",
        "print('\\nAfter adding:')\n",
        "print(a.add_(b))\n",
        "print(a)\n",
        "print(b)\n",
        "print('\\nAfter multiplying')\n",
        "print(b.mul_(b)) # 더하고 곱하는 산술연산 또한 _를 붙여 inplace하게 수정이 됨\n",
        "print(b)"
      ],
      "metadata": {
        "colab": {
          "base_uri": "https://localhost:8080/"
        },
        "id": "k5vDHBs1zWTh",
        "outputId": "8e056d10-34e8-4e58-ca3c-c4b3d32d4647"
      },
      "execution_count": null,
      "outputs": [
        {
          "output_type": "stream",
          "name": "stdout",
          "text": [
            "Before:\n",
            "tensor([[1., 1.],\n",
            "        [1., 1.]])\n",
            "tensor([[0.9970, 0.1552],\n",
            "        [0.9899, 0.8562]])\n",
            "\n",
            "After adding:\n",
            "tensor([[1.9970, 1.1552],\n",
            "        [1.9899, 1.8562]])\n",
            "tensor([[1.9970, 1.1552],\n",
            "        [1.9899, 1.8562]])\n",
            "tensor([[0.9970, 0.1552],\n",
            "        [0.9899, 0.8562]])\n",
            "\n",
            "After multiplying\n",
            "tensor([[0.9941, 0.0241],\n",
            "        [0.9799, 0.7331]])\n",
            "tensor([[0.9941, 0.0241],\n",
            "        [0.9799, 0.7331]])\n"
          ]
        }
      ]
    },
    {
      "cell_type": "code",
      "source": [
        "a = torch.rand(2, 2)\n",
        "b = torch.rand(2, 2)\n",
        "c = torch.zeros(2, 2) # 미리 zoro tensor를 생성해둠\n",
        "old_id = id(c) # c 의 메모리 주소 저장\n",
        "\n",
        "print(c)\n",
        "d = torch.matmul(a, b, out = c) # 연산결과를 미리 만들어둔 c 에 저장함\n",
        "print(c)\n",
        "\n",
        "# assert 는 뒤에 오는 조건이 반드시 참이길 기대함 false면 중단\n",
        "assert c is d # c와 d가 같은 객체인가 확인\n",
        "assert id(c) == old_id # c 의 메모리 주소가 변경되진 않았는가?\n",
        "\n",
        "torch.rand(2, 2, out = c) # c 에 랜덤한 텐서 넣음\n",
        "print(c)\n",
        "assert id(c) == old_id # 같은 메모리 주소인가?"
      ],
      "metadata": {
        "colab": {
          "base_uri": "https://localhost:8080/"
        },
        "id": "SFJGElV0z_wg",
        "outputId": "0683129d-224d-4c2d-b34b-7a9e9eb57e75"
      },
      "execution_count": null,
      "outputs": [
        {
          "output_type": "stream",
          "name": "stdout",
          "text": [
            "tensor([[0., 0.],\n",
            "        [0., 0.]])\n",
            "tensor([[0.4302, 0.4372],\n",
            "        [1.0694, 0.7633]])\n",
            "tensor([[0.0543, 0.3826],\n",
            "        [0.4481, 0.1471]])\n"
          ]
        }
      ]
    },
    {
      "cell_type": "markdown",
      "source": [
        "# Copying Tensord"
      ],
      "metadata": {
        "id": "v7RWVayN2AaW"
      }
    },
    {
      "cell_type": "code",
      "source": [
        "a = torch.ones(2,2)\n",
        "b = a # 이건 그냥 에일리어싱인듯 별칭만 생\n",
        "\n",
        "a[0][1] = 561\n",
        "print(b) # 텐서는 복사가 안됨 b도 함께 바뀌어 버림"
      ],
      "metadata": {
        "colab": {
          "base_uri": "https://localhost:8080/"
        },
        "id": "lJkVvrxG0UDk",
        "outputId": "4cf62650-66c8-4418-d808-f29881203a83"
      },
      "execution_count": null,
      "outputs": [
        {
          "output_type": "stream",
          "name": "stdout",
          "text": [
            "tensor([[  1., 561.],\n",
            "        [  1.,   1.]])\n"
          ]
        }
      ]
    },
    {
      "cell_type": "code",
      "source": [
        "a = torch.ones(2,2)\n",
        "b = a.clone() # 클론으로 복사해야 복사본이 생성됨\n",
        "\n",
        "assert b is not a # 둘이 다른 객체면 중지\n",
        "print(torch.eq(a, b))\n",
        "\n",
        "a[0][1] = 561\n",
        "print(b)"
      ],
      "metadata": {
        "colab": {
          "base_uri": "https://localhost:8080/"
        },
        "id": "sDP41Qgj2JJa",
        "outputId": "da07dcc9-1b86-4357-b830-c0ee106dc755"
      },
      "execution_count": null,
      "outputs": [
        {
          "output_type": "stream",
          "name": "stdout",
          "text": [
            "tensor([[True, True],\n",
            "        [True, True]])\n",
            "tensor([[1., 1.],\n",
            "        [1., 1.]])\n"
          ]
        }
      ]
    },
    {
      "cell_type": "code",
      "source": [
        "a = torch.rand(2, 2, requires_grad = True) # requires_grad = True 상태의 텐서\n",
        "print(a)\n",
        "\n",
        "b = a.clone() # 를 clone() 하면 autograd 정보도 복사해버림\n",
        "print(b)\n",
        "\n",
        "c = a.detach().clone() # autograd 추적을 끄고 복사하고 싶으면 detach() 해줘야\n",
        "print(c)\n",
        "\n",
        "print(a)"
      ],
      "metadata": {
        "colab": {
          "base_uri": "https://localhost:8080/"
        },
        "id": "1kYpgekk2Qs4",
        "outputId": "d788602f-e158-4c96-bb61-eb481bb6e072"
      },
      "execution_count": null,
      "outputs": [
        {
          "output_type": "stream",
          "name": "stdout",
          "text": [
            "tensor([[0.2139, 0.7135],\n",
            "        [0.3945, 0.0210]], requires_grad=True)\n",
            "tensor([[0.2139, 0.7135],\n",
            "        [0.3945, 0.0210]], grad_fn=<CloneBackward0>)\n",
            "tensor([[0.2139, 0.7135],\n",
            "        [0.3945, 0.0210]])\n",
            "tensor([[0.2139, 0.7135],\n",
            "        [0.3945, 0.0210]], requires_grad=True)\n"
          ]
        }
      ]
    },
    {
      "cell_type": "markdown",
      "source": [
        "# Moving to Accelerator"
      ],
      "metadata": {
        "id": "_0yVW_yK3jTn"
      }
    },
    {
      "cell_type": "markdown",
      "source": [
        "엑셀레이터 사용법"
      ],
      "metadata": {
        "id": "ooNxnv82B3Q8"
      }
    },
    {
      "cell_type": "code",
      "source": [
        "if torch.accelerator.is_available(): # 현재 accelerator가 있는지 확인\n",
        "  print('We have an accelerator')\n",
        "else:\n",
        "  print('sorry, CPU only')"
      ],
      "metadata": {
        "colab": {
          "base_uri": "https://localhost:8080/"
        },
        "id": "m4TyUdJO2cvd",
        "outputId": "137c118e-17d9-4c36-e7be-bfda57070000"
      },
      "execution_count": null,
      "outputs": [
        {
          "output_type": "stream",
          "name": "stdout",
          "text": [
            "sorry, CPU only\n"
          ]
        }
      ]
    },
    {
      "cell_type": "code",
      "source": [
        "if torch.accelerator.is_available():\n",
        "  gpu_rand = torch.rand(2, 2, device = torch.accelrator.current_accelerator())\n",
        "  print(gpu_rand)\n",
        "else:\n",
        "  print('sorry, CPU only')"
      ],
      "metadata": {
        "colab": {
          "base_uri": "https://localhost:8080/"
        },
        "id": "6OJtfQ3d3sOZ",
        "outputId": "5c0b74c1-c4ec-4aab-aaff-2bc91518f8e2"
      },
      "execution_count": null,
      "outputs": [
        {
          "output_type": "stream",
          "name": "stdout",
          "text": [
            "sorry, CPU only\n"
          ]
        }
      ]
    },
    {
      "cell_type": "code",
      "source": [
        "my_device = torch.accelerator.current_accelerator() if torch.accelerator.is_available() else torch.device('cpu')\n",
        "print('device : {}'.format(my_device))\n",
        "\n",
        "x = torch.rand(2, 2, device = my_device)\n",
        "print(x)"
      ],
      "metadata": {
        "colab": {
          "base_uri": "https://localhost:8080/"
        },
        "id": "hhKvzsMc4wkX",
        "outputId": "3933c404-6702-4990-a26f-5767936db0ea"
      },
      "execution_count": null,
      "outputs": [
        {
          "output_type": "stream",
          "name": "stdout",
          "text": [
            "device : cpu\n",
            "tensor([[0.8086, 0.3561],\n",
            "        [0.5689, 0.8520]])\n"
          ]
        }
      ]
    },
    {
      "cell_type": "code",
      "source": [
        "y = torch.rand(2, 2)\n",
        "y = y.to(my_device)"
      ],
      "metadata": {
        "id": "hWnb7Ko95CS_"
      },
      "execution_count": null,
      "outputs": []
    },
    {
      "cell_type": "code",
      "source": [
        "x = torch.rand(2, 2)\n",
        "y = torch.rand(2, 2, device='cuda')\n",
        "z = x + y # 에러 발생하는게 맞음 장치가 다르니까"
      ],
      "metadata": {
        "colab": {
          "base_uri": "https://localhost:8080/",
          "height": 331
        },
        "id": "bCnzMJz05Up7",
        "outputId": "b9811ce3-4c3a-4050-fb39-a5211a1dc4b9"
      },
      "execution_count": null,
      "outputs": [
        {
          "output_type": "error",
          "ename": "RuntimeError",
          "evalue": "Found no NVIDIA driver on your system. Please check that you have an NVIDIA GPU and installed a driver from http://www.nvidia.com/Download/index.aspx",
          "traceback": [
            "\u001b[0;31m---------------------------------------------------------------------------\u001b[0m",
            "\u001b[0;31mRuntimeError\u001b[0m                              Traceback (most recent call last)",
            "\u001b[0;32m<ipython-input-18-a04de99b531a>\u001b[0m in \u001b[0;36m<cell line: 0>\u001b[0;34m()\u001b[0m\n\u001b[1;32m      1\u001b[0m \u001b[0mx\u001b[0m \u001b[0;34m=\u001b[0m \u001b[0mtorch\u001b[0m\u001b[0;34m.\u001b[0m\u001b[0mrand\u001b[0m\u001b[0;34m(\u001b[0m\u001b[0;36m2\u001b[0m\u001b[0;34m,\u001b[0m \u001b[0;36m2\u001b[0m\u001b[0;34m)\u001b[0m\u001b[0;34m\u001b[0m\u001b[0;34m\u001b[0m\u001b[0m\n\u001b[0;32m----> 2\u001b[0;31m \u001b[0my\u001b[0m \u001b[0;34m=\u001b[0m \u001b[0mtorch\u001b[0m\u001b[0;34m.\u001b[0m\u001b[0mrand\u001b[0m\u001b[0;34m(\u001b[0m\u001b[0;36m2\u001b[0m\u001b[0;34m,\u001b[0m \u001b[0;36m2\u001b[0m\u001b[0;34m,\u001b[0m \u001b[0mdevice\u001b[0m\u001b[0;34m=\u001b[0m\u001b[0;34m'cuda'\u001b[0m\u001b[0;34m)\u001b[0m\u001b[0;34m\u001b[0m\u001b[0;34m\u001b[0m\u001b[0m\n\u001b[0m\u001b[1;32m      3\u001b[0m \u001b[0mz\u001b[0m \u001b[0;34m=\u001b[0m \u001b[0mx\u001b[0m \u001b[0;34m+\u001b[0m \u001b[0my\u001b[0m\u001b[0;34m\u001b[0m\u001b[0;34m\u001b[0m\u001b[0m\n",
            "\u001b[0;32m/usr/local/lib/python3.11/dist-packages/torch/cuda/__init__.py\u001b[0m in \u001b[0;36m_lazy_init\u001b[0;34m()\u001b[0m\n\u001b[1;32m    317\u001b[0m         \u001b[0;32mif\u001b[0m \u001b[0;34m\"CUDA_MODULE_LOADING\"\u001b[0m \u001b[0;32mnot\u001b[0m \u001b[0;32min\u001b[0m \u001b[0mos\u001b[0m\u001b[0;34m.\u001b[0m\u001b[0menviron\u001b[0m\u001b[0;34m:\u001b[0m\u001b[0;34m\u001b[0m\u001b[0;34m\u001b[0m\u001b[0m\n\u001b[1;32m    318\u001b[0m             \u001b[0mos\u001b[0m\u001b[0;34m.\u001b[0m\u001b[0menviron\u001b[0m\u001b[0;34m[\u001b[0m\u001b[0;34m\"CUDA_MODULE_LOADING\"\u001b[0m\u001b[0;34m]\u001b[0m \u001b[0;34m=\u001b[0m \u001b[0;34m\"LAZY\"\u001b[0m\u001b[0;34m\u001b[0m\u001b[0;34m\u001b[0m\u001b[0m\n\u001b[0;32m--> 319\u001b[0;31m         \u001b[0mtorch\u001b[0m\u001b[0;34m.\u001b[0m\u001b[0m_C\u001b[0m\u001b[0;34m.\u001b[0m\u001b[0m_cuda_init\u001b[0m\u001b[0;34m(\u001b[0m\u001b[0;34m)\u001b[0m\u001b[0;34m\u001b[0m\u001b[0;34m\u001b[0m\u001b[0m\n\u001b[0m\u001b[1;32m    320\u001b[0m         \u001b[0;31m# Some of the queued calls may reentrantly call _lazy_init();\u001b[0m\u001b[0;34m\u001b[0m\u001b[0;34m\u001b[0m\u001b[0m\n\u001b[1;32m    321\u001b[0m         \u001b[0;31m# we need to just return without initializing in that case.\u001b[0m\u001b[0;34m\u001b[0m\u001b[0;34m\u001b[0m\u001b[0m\n",
            "\u001b[0;31mRuntimeError\u001b[0m: Found no NVIDIA driver on your system. Please check that you have an NVIDIA GPU and installed a driver from http://www.nvidia.com/Download/index.aspx"
          ]
        }
      ]
    },
    {
      "cell_type": "markdown",
      "source": [
        "# Manipulating Tensor Shapes"
      ],
      "metadata": {
        "id": "q2EH0ejk6Ybp"
      }
    },
    {
      "cell_type": "code",
      "source": [
        "a = torch.rand(3, 226, 226)\n",
        "b = a.unsqueeze(0) # unsqueeze(dim)은 차원을 추가하는 거임\n",
        "\n",
        "print(a.shape)\n",
        "print(b.shape)"
      ],
      "metadata": {
        "colab": {
          "base_uri": "https://localhost:8080/"
        },
        "id": "Xx_LtaHg6bmv",
        "outputId": "4b432384-71a4-45a2-a133-093976a93163"
      },
      "execution_count": null,
      "outputs": [
        {
          "output_type": "stream",
          "name": "stdout",
          "text": [
            "torch.Size([3, 226, 226])\n",
            "torch.Size([1, 3, 226, 226])\n"
          ]
        }
      ]
    },
    {
      "cell_type": "code",
      "source": [
        "c = torch.rand(1,1,1,1,1)\n",
        "print(c)"
      ],
      "metadata": {
        "colab": {
          "base_uri": "https://localhost:8080/"
        },
        "id": "IwMa7yxl6ie4",
        "outputId": "acaff421-a20b-4921-b59b-6b703aac019f"
      },
      "execution_count": null,
      "outputs": [
        {
          "output_type": "stream",
          "name": "stdout",
          "text": [
            "tensor([[[[[0.9840]]]]])\n"
          ]
        }
      ]
    },
    {
      "cell_type": "code",
      "source": [
        "a = torch.rand(1, 20)\n",
        "print(a.shape)\n",
        "print(a)\n",
        "\n",
        "b = a.squeeze(0) # squeeze(dim) 은 차원이 1인 경우 제거하는 역할임\n",
        "print(b.shape)\n",
        "print(b) # 대괄호 하나가 사라짐 출력에서\n",
        "\n",
        "c = torch.rand(2, 2)\n",
        "print(c.shape)\n",
        "\n",
        "d = c.squeeze(0) # c의 차원이 2니까 제거가 안되는거임\n",
        "print(d.shape)"
      ],
      "metadata": {
        "colab": {
          "base_uri": "https://localhost:8080/"
        },
        "id": "eIuH2h_I6kxF",
        "outputId": "19f41127-f802-4065-eb0c-53bd29b51574"
      },
      "execution_count": null,
      "outputs": [
        {
          "output_type": "stream",
          "name": "stdout",
          "text": [
            "torch.Size([1, 20])\n",
            "tensor([[0.9703, 0.7680, 0.7405, 0.4078, 0.2471, 0.2228, 0.9214, 0.8073, 0.0367,\n",
            "         0.8370, 0.8346, 0.1887, 0.0828, 0.3268, 0.4444, 0.4285, 0.2654, 0.7644,\n",
            "         0.3006, 0.6279]])\n",
            "torch.Size([20])\n",
            "tensor([0.9703, 0.7680, 0.7405, 0.4078, 0.2471, 0.2228, 0.9214, 0.8073, 0.0367,\n",
            "        0.8370, 0.8346, 0.1887, 0.0828, 0.3268, 0.4444, 0.4285, 0.2654, 0.7644,\n",
            "        0.3006, 0.6279])\n",
            "torch.Size([2, 2])\n",
            "torch.Size([2, 2])\n"
          ]
        }
      ]
    },
    {
      "cell_type": "code",
      "source": [
        "a = torch.ones(4, 3, 2)\n",
        "\n",
        "c = a * torch.rand(3, 1) # 브로드 캐스팅 되서 연됨\n",
        "print(c)"
      ],
      "metadata": {
        "colab": {
          "base_uri": "https://localhost:8080/"
        },
        "id": "cS5FEGO76zxP",
        "outputId": "99f256fc-8a82-4d83-cc88-b498081f9bbc"
      },
      "execution_count": null,
      "outputs": [
        {
          "output_type": "stream",
          "name": "stdout",
          "text": [
            "tensor([[[0.1216, 0.1216],\n",
            "         [0.0670, 0.0670],\n",
            "         [0.4221, 0.4221]],\n",
            "\n",
            "        [[0.1216, 0.1216],\n",
            "         [0.0670, 0.0670],\n",
            "         [0.4221, 0.4221]],\n",
            "\n",
            "        [[0.1216, 0.1216],\n",
            "         [0.0670, 0.0670],\n",
            "         [0.4221, 0.4221]],\n",
            "\n",
            "        [[0.1216, 0.1216],\n",
            "         [0.0670, 0.0670],\n",
            "         [0.4221, 0.4221]]])\n"
          ]
        }
      ]
    },
    {
      "cell_type": "code",
      "source": [
        "a = torch.ones(4,3,2)\n",
        "b = torch.rand(3)\n",
        "c = b.unsqueeze(1) # 브로드캐스팅 되라고 unsqueeze 해주는거임\n",
        "print(c.shape)\n",
        "print(a * c)"
      ],
      "metadata": {
        "colab": {
          "base_uri": "https://localhost:8080/"
        },
        "id": "diJ0iJI3DpOg",
        "outputId": "5ea4b577-6d6b-49c9-9669-e0ffe13487ff"
      },
      "execution_count": null,
      "outputs": [
        {
          "output_type": "stream",
          "name": "stdout",
          "text": [
            "torch.Size([3, 1])\n",
            "tensor([[[0.2508, 0.2508],\n",
            "         [0.0419, 0.0419],\n",
            "         [0.7431, 0.7431]],\n",
            "\n",
            "        [[0.2508, 0.2508],\n",
            "         [0.0419, 0.0419],\n",
            "         [0.7431, 0.7431]],\n",
            "\n",
            "        [[0.2508, 0.2508],\n",
            "         [0.0419, 0.0419],\n",
            "         [0.7431, 0.7431]],\n",
            "\n",
            "        [[0.2508, 0.2508],\n",
            "         [0.0419, 0.0419],\n",
            "         [0.7431, 0.7431]]])\n"
          ]
        }
      ]
    },
    {
      "cell_type": "code",
      "source": [
        "batch_me = torch.rand(3, 266, 266)\n",
        "print(batch_me.shape)\n",
        "batch_me.unsqueeze_(0) # _ 는 inplace 연산이라는거임 동일하게\n",
        "print(batch_me.shape)"
      ],
      "metadata": {
        "colab": {
          "base_uri": "https://localhost:8080/"
        },
        "id": "4sMhZWYoDyxH",
        "outputId": "d11467f9-c562-4970-9280-537ed3f884f1"
      },
      "execution_count": null,
      "outputs": [
        {
          "output_type": "stream",
          "name": "stdout",
          "text": [
            "torch.Size([3, 266, 266])\n",
            "torch.Size([1, 3, 266, 266])\n"
          ]
        }
      ]
    },
    {
      "cell_type": "markdown",
      "source": [
        "reshape() 은 내부적으로 view를 반환함 (원래 메모리 참조)\n",
        "\n",
        "값 복사가 아닌 형태만 바뀐 별도의 객체를 얻을려면 clone()해야함\n",
        "\n",
        "그리고 아래의 경우 튜플로 shape을 지정해야 해서 (,) 해준거임\n",
        "\n"
      ],
      "metadata": {
        "id": "R4SeKPTEE32H"
      }
    },
    {
      "cell_type": "code",
      "source": [
        "# fully connected 에서 이러한 reshape 을 할거임\n",
        "output3d = torch.rand(6, 20 , 20)\n",
        "print(output3d.shape)\n",
        "\n",
        "input1d = output3d.reshape(6 * 20 * 20)\n",
        "print(input1d.shape)\n",
        "\n",
        "print(torch.reshape(output3d, (6* 20 * 20,)).shape)"
      ],
      "metadata": {
        "colab": {
          "base_uri": "https://localhost:8080/"
        },
        "id": "SwzyyIcSD_cz",
        "outputId": "9b4f6153-1790-4c02-9f6b-b59afcb78c56"
      },
      "execution_count": null,
      "outputs": [
        {
          "output_type": "stream",
          "name": "stdout",
          "text": [
            "torch.Size([6, 20, 20])\n",
            "torch.Size([2400])\n",
            "torch.Size([2400])\n"
          ]
        }
      ]
    },
    {
      "cell_type": "markdown",
      "source": [
        "# Numpy Bridge"
      ],
      "metadata": {
        "id": "adOSi9v-FNPP"
      }
    },
    {
      "cell_type": "markdown",
      "source": [
        "파이토치의 브로드캐스팅이 넘파이와 호환됨\n",
        "\n",
        "넘파이의 array와 파이토치의 tensor 간의 전환을 볼거임"
      ],
      "metadata": {
        "id": "Yb2sXURkHFuM"
      }
    },
    {
      "cell_type": "code",
      "source": [
        "import numpy as np\n",
        "\n",
        "numpy_array = np.ones((2,3))\n",
        "print(numpy_array)\n",
        "\n",
        "# torch.from_numpy()는 numpy 배열로부터 동일한 형태와 값을 가지는 파이토치 tensor를 생성\n",
        "pytorch_tensor = torch.from_numpy(numpy_array)\n",
        "print(pytorch_tensor)"
      ],
      "metadata": {
        "colab": {
          "base_uri": "https://localhost:8080/"
        },
        "id": "5ExyvA5xEPon",
        "outputId": "876708f2-d8d4-45b7-de1a-30aaa5859e7f"
      },
      "execution_count": null,
      "outputs": [
        {
          "output_type": "stream",
          "name": "stdout",
          "text": [
            "[[1. 1. 1.]\n",
            " [1. 1. 1.]]\n",
            "tensor([[1., 1., 1.],\n",
            "        [1., 1., 1.]], dtype=torch.float64)\n"
          ]
        }
      ]
    },
    {
      "cell_type": "code",
      "source": [
        "pytorch_rand = torch.rand(2,3)\n",
        "print(pytorch_rand)\n",
        "\n",
        "# pytorch_rand.numpy() tensor가 array로 변환되는데 이때 동일한 메모리를 공유함\n",
        "numpy_rand = pytorch_rand.numpy()\n",
        "print(numpy_rand)"
      ],
      "metadata": {
        "colab": {
          "base_uri": "https://localhost:8080/"
        },
        "id": "dduYVrHQFZS4",
        "outputId": "69eba235-8caf-4b24-9bb3-91027a4a3e1d"
      },
      "execution_count": null,
      "outputs": [
        {
          "output_type": "stream",
          "name": "stdout",
          "text": [
            "tensor([[0.3286, 0.4498, 0.8829],\n",
            "        [0.2496, 0.1804, 0.7484]])\n",
            "[[0.32859033 0.44979417 0.882865  ]\n",
            " [0.24956638 0.18040317 0.7483587 ]]\n"
          ]
        }
      ]
    },
    {
      "cell_type": "code",
      "source": [
        "# 넘파이 배열의 변경이 텐서에도 영향\n",
        "# 텐서의 변경이 넘파이 배열에도 영향\n",
        "numpy_array[1,1] = 23\n",
        "print(pytorch_tensor)\n",
        "\n",
        "pytorch_rand[1,1] = 17\n",
        "print(numpy_rand)"
      ],
      "metadata": {
        "colab": {
          "base_uri": "https://localhost:8080/"
        },
        "id": "GW6HPp22FjcV",
        "outputId": "51551351-0518-424c-b426-b4bb0634d385"
      },
      "execution_count": null,
      "outputs": [
        {
          "output_type": "stream",
          "name": "stdout",
          "text": [
            "tensor([[ 1.,  1.,  1.],\n",
            "        [ 1., 23.,  1.]], dtype=torch.float64)\n",
            "[[ 0.32859033  0.44979417  0.882865  ]\n",
            " [ 0.24956638 17.          0.7483587 ]]\n"
          ]
        }
      ]
    },
    {
      "cell_type": "code",
      "source": [],
      "metadata": {
        "id": "rgYocJh0Fqm1"
      },
      "execution_count": null,
      "outputs": []
    }
  ]
}