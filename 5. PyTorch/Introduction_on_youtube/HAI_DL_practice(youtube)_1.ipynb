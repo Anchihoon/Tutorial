{
  "nbformat": 4,
  "nbformat_minor": 0,
  "metadata": {
    "colab": {
      "provenance": []
    },
    "kernelspec": {
      "name": "python3",
      "display_name": "Python 3"
    },
    "language_info": {
      "name": "python"
    }
  },
  "cells": [
    {
      "cell_type": "markdown",
      "source": [
        "# **1. Introduction to PyTorch**"
      ],
      "metadata": {
        "id": "lsfWO6caAcnv"
      }
    },
    {
      "cell_type": "markdown",
      "source": [
        "# PyTorch Tensors"
      ],
      "metadata": {
        "id": "IeLYr62OOaH2"
      }
    },
    {
      "cell_type": "code",
      "execution_count": null,
      "metadata": {
        "id": "pcHkjfLaAXeP"
      },
      "outputs": [],
      "source": [
        "import torch"
      ]
    },
    {
      "cell_type": "code",
      "source": [
        "# 간단한 텐서 생성\n",
        "z = torch.zeros(5, 3)\n",
        "print(z)\n",
        "print(z.dtype)"
      ],
      "metadata": {
        "colab": {
          "base_uri": "https://localhost:8080/"
        },
        "id": "2gVSl6cCMPH7",
        "outputId": "f44de964-171a-44ff-e7d4-51fa238ef06c"
      },
      "execution_count": null,
      "outputs": [
        {
          "output_type": "stream",
          "name": "stdout",
          "text": [
            "tensor([[0., 0., 0.],\n",
            "        [0., 0., 0.],\n",
            "        [0., 0., 0.],\n",
            "        [0., 0., 0.],\n",
            "        [0., 0., 0.]])\n",
            "torch.float32\n"
          ]
        }
      ]
    },
    {
      "cell_type": "code",
      "source": [
        "i = torch.ones((5,3), dtype = torch.int16)\n",
        "print(i)"
      ],
      "metadata": {
        "colab": {
          "base_uri": "https://localhost:8080/"
        },
        "id": "3qozZgttMSCi",
        "outputId": "9e0d2e10-d2b2-4e6b-dfef-e57e760ecb94"
      },
      "execution_count": null,
      "outputs": [
        {
          "output_type": "stream",
          "name": "stdout",
          "text": [
            "tensor([[1, 1, 1],\n",
            "        [1, 1, 1],\n",
            "        [1, 1, 1],\n",
            "        [1, 1, 1],\n",
            "        [1, 1, 1]], dtype=torch.int16)\n"
          ]
        }
      ]
    },
    {
      "cell_type": "code",
      "source": [
        "torch.manual_seed(1729)\n",
        "r1 = torch.rand(2, 2)\n",
        "print('A random tensor:')\n",
        "print(r1)\n",
        "\n",
        "r2 = torch.rand(2, 2)\n",
        "print('\\n different random tensor:')\n",
        "print(r2)\n",
        "\n",
        "# 시드값을 지정해줘서 r1 과 r3는 같은 출력결과가 나옴\n",
        "torch.manual_seed(1729)\n",
        "r3 = torch.rand(2,2 )\n",
        "print('\\nShould match r1:')\n",
        "print(r3)"
      ],
      "metadata": {
        "colab": {
          "base_uri": "https://localhost:8080/"
        },
        "id": "NpV4MKt5MbF8",
        "outputId": "d769dda0-714a-425f-97b3-9e6c600a17ea"
      },
      "execution_count": null,
      "outputs": [
        {
          "output_type": "stream",
          "name": "stdout",
          "text": [
            "A random tensor:\n",
            "tensor([[0.3126, 0.3791],\n",
            "        [0.3087, 0.0736]])\n",
            "\n",
            " different random tensor:\n",
            "tensor([[0.4216, 0.0691],\n",
            "        [0.2332, 0.4047]])\n",
            "\n",
            "Should match r1:\n",
            "tensor([[0.3126, 0.3791],\n",
            "        [0.3087, 0.0736]])\n"
          ]
        }
      ]
    },
    {
      "cell_type": "code",
      "source": [
        "ones = torch.ones(2,3)\n",
        "print(ones)\n",
        "\n",
        "twos = torch.ones(2,3) * 2\n",
        "print(twos)\n",
        "\n",
        "threes = ones + twos\n",
        "print(threes)\n",
        "print(threes.shape)\n",
        "\n",
        "r1 = torch.rand(2, 3)\n",
        "r2 = torch.rand(3, 2)\n",
        "# r3 = r1 + r2\n",
        "# 이거 하면 런타임 에러 날거임 shape이 다르니까"
      ],
      "metadata": {
        "colab": {
          "base_uri": "https://localhost:8080/"
        },
        "id": "uEX6VfiDMevd",
        "outputId": "4ba4483e-146a-4a6d-802f-f8959e88462f"
      },
      "execution_count": null,
      "outputs": [
        {
          "output_type": "stream",
          "name": "stdout",
          "text": [
            "tensor([[1., 1., 1.],\n",
            "        [1., 1., 1.]])\n",
            "tensor([[2., 2., 2.],\n",
            "        [2., 2., 2.]])\n",
            "tensor([[3., 3., 3.],\n",
            "        [3., 3., 3.]])\n",
            "torch.Size([2, 3])\n"
          ]
        }
      ]
    },
    {
      "cell_type": "code",
      "source": [
        "r = (torch.rand(2,2)- 0.5) * 2\n",
        "print('random matrix r : ')\n",
        "print(r)\n",
        "\n",
        "# 절대값\n",
        "print('\\nAbsolute value of r :')\n",
        "print(torch.abs(r))\n",
        "\n",
        "# 역행렬\n",
        "print('\\nInverse sine of r :')\n",
        "print(torch.asin(r))\n",
        "\n",
        "# 행렬식\n",
        "print('\\nDeterminant of r :')\n",
        "print(torch.det(r))\n",
        "\n",
        "# svd\n",
        "print('\\nSingular value decomposition of r :')\n",
        "print(torch.svd(r))\n",
        "\n",
        "# 평균과 표준편차\n",
        "print('\\mAverage and standard deviation of r :')\n",
        "print(torch.std_mean(r))\n",
        "\n",
        "# 최대값\n",
        "print('\\nMaximum value of r :')\n",
        "print(torch.max(r))"
      ],
      "metadata": {
        "colab": {
          "base_uri": "https://localhost:8080/"
        },
        "id": "M5OzGoScNNiz",
        "outputId": "0cce5c99-ab02-46f8-edcf-9161f66c3721"
      },
      "execution_count": null,
      "outputs": [
        {
          "output_type": "stream",
          "name": "stdout",
          "text": [
            "random matrix r : \n",
            "tensor([[ 0.9956, -0.2232],\n",
            "        [ 0.3858, -0.6593]])\n",
            "\n",
            "Absolute value of r :\n",
            "tensor([[0.9956, 0.2232],\n",
            "        [0.3858, 0.6593]])\n",
            "\n",
            "Inverse sine of r :\n",
            "tensor([[ 1.4775, -0.2251],\n",
            "        [ 0.3961, -0.7199]])\n",
            "\n",
            "Determinant of r :\n",
            "tensor(-0.5703)\n",
            "\n",
            "Singular value decomposition of r :\n",
            "torch.return_types.svd(\n",
            "U=tensor([[-0.8353, -0.5497],\n",
            "        [-0.5497,  0.8353]]),\n",
            "S=tensor([1.1793, 0.4836]),\n",
            "V=tensor([[-0.8851, -0.4654],\n",
            "        [ 0.4654, -0.8851]]))\n",
            "\\mAverage and standard deviation of r :\n",
            "(tensor(0.7217), tensor(0.1247))\n",
            "\n",
            "Maximum value of r :\n",
            "tensor(0.9956)\n"
          ]
        }
      ]
    },
    {
      "cell_type": "markdown",
      "source": [
        "# PyTorch Models"
      ],
      "metadata": {
        "id": "XVPBrA-VOei3"
      }
    },
    {
      "cell_type": "code",
      "source": [
        "import torch\n",
        "import torch.nn as nn\n",
        "import torch.nn.functional as F"
      ],
      "metadata": {
        "id": "dWJbDC5IOFmC"
      },
      "execution_count": null,
      "outputs": []
    },
    {
      "cell_type": "markdown",
      "source": [
        "![image.png](data:image/png;base64,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)"
      ],
      "metadata": {
        "id": "vCioFOh6Qqlw"
      }
    },
    {
      "cell_type": "markdown",
      "source": [
        "LeNet-5 예제\n",
        "- C1 : 입력 이미지에서 특징을 감지하는 컨볼루션 레이어\n",
        "- S2 : C1의 결과인 activation map을 Pooling (다운샘플링)\n",
        "- C3 : 다시 한번 컨볼루션\n",
        "- S4 : 다운샘플링\n",
        "- F5, F6, output : fully connected 레이어로 마지막에 10개의 숫자중 하나로 분류\n"
      ],
      "metadata": {
        "id": "ojcwEH8pQlrI"
      }
    },
    {
      "cell_type": "code",
      "source": [
        "class LeNet(nn.Module):\n",
        "  def __init__(self):\n",
        "    super(LeNet, self).__init__()\n",
        "    self.conv1 = nn.Conv2d(1, 6, 5) # 입력채널 1, 출력채널 6, 커널 크기 5 x 5\n",
        "    self.conv2 = nn.Conv2d(6, 16, 5) # 입력널 6, 출력채널 16, 커널 크기 5 x 5\n",
        "\n",
        "    # 16개 의 5 x 5 feature map -> 120개의 노드로\n",
        "    self.fc1 = nn.Linear(16*5*5, 120)\n",
        "    self.fc2 = nn.Linear(120, 84)\n",
        "    self.fc3 = nn.Linear(84, 10) # 최종출력은 10개 클래스\n",
        "\n",
        "  def forward(self, x):\n",
        "    # (2,2) 랑 2 랑 같은 소리임 2 x 2 커널 사용하겠다는거\n",
        "    x = F.max_pool2d(F.relu(self.conv1(x)), (2,2)) # C1 + S2\n",
        "    x = F.max_pool2d(F.relu(self.conv2(x)), 2) # C3 + S4\n",
        "    x = x.view(-1, self.num_flat_features(x)) # flatten\n",
        "    x = F.relu(self.fc1(x)) # F5\n",
        "    x = F.relu(self.fc2(x)) # F6\n",
        "    x = self.fc3(x) # output\n",
        "    return x\n",
        "\n",
        "  def num_flat_features(self, x):\n",
        "    size = x.size()[1:]\n",
        "    num_features = 1\n",
        "    for s in size:\n",
        "      num_features *= s\n",
        "    return num_features"
      ],
      "metadata": {
        "id": "lkMhnf2EOmrA"
      },
      "execution_count": null,
      "outputs": []
    },
    {
      "cell_type": "code",
      "source": [
        "net = LeNet()\n",
        "print(net)\n",
        "\n",
        "# 랜덤한 이미지 생성\n",
        "input = torch.rand(1, 1, 32, 32)\n",
        "print('\\nImage batch shape:')\n",
        "print(input.shape)\n",
        "\n",
        "# 출력 logits 형태\n",
        "output = net(input)\n",
        "print('\\nRaw output:')\n",
        "print(output)\n",
        "print(output.shape)"
      ],
      "metadata": {
        "colab": {
          "base_uri": "https://localhost:8080/"
        },
        "id": "_sORhaqMPqVo",
        "outputId": "ee00065a-0dae-451e-f2fc-552b642f87c5"
      },
      "execution_count": null,
      "outputs": [
        {
          "output_type": "stream",
          "name": "stdout",
          "text": [
            "LeNet(\n",
            "  (conv1): Conv2d(1, 6, kernel_size=(5, 5), stride=(1, 1))\n",
            "  (conv2): Conv2d(6, 16, kernel_size=(5, 5), stride=(1, 1))\n",
            "  (fc1): Linear(in_features=400, out_features=120, bias=True)\n",
            "  (fc2): Linear(in_features=120, out_features=84, bias=True)\n",
            "  (fc3): Linear(in_features=84, out_features=10, bias=True)\n",
            ")\n",
            "\n",
            "Image batch shape:\n",
            "torch.Size([1, 1, 32, 32])\n",
            "\n",
            "Raw output:\n",
            "tensor([[ 0.0167,  0.0464, -0.0936, -0.0117,  0.1029,  0.0762, -0.1275,  0.0577,\n",
            "         -0.0028, -0.0824]], grad_fn=<AddmmBackward0>)\n",
            "torch.Size([1, 10])\n"
          ]
        }
      ]
    },
    {
      "cell_type": "markdown",
      "source": [
        "# Datasets and Dataloaders"
      ],
      "metadata": {
        "id": "ic_xaPTIUb5d"
      }
    },
    {
      "cell_type": "markdown",
      "source": [
        "ToTensor() : 이미지 데이터를 PyTorch에서 사용할 수 있도록 텐서 형식으로 변환 시킴\n",
        "\n",
        "Normalize(mean, std) : 정규화 과정 각 RGB 채널별로 평균을 빼고 표준편차로 나눠 데이터의 분포를 표준화 -> 딥러닝 학습을 더 빠르고 안정적으로 만들어줌."
      ],
      "metadata": {
        "id": "N0wwrX-7V9Bt"
      }
    },
    {
      "cell_type": "code",
      "source": [
        "import torch\n",
        "import torchvision\n",
        "import torchvision.transforms as transforms\n",
        "\n",
        "transform = transforms.Compose(\n",
        "    [transforms.ToTensor(),\n",
        "     transforms.Normalize((0.4914, 0.4822, 0.4465), (0.2470, 0.2435, 0.2616))])"
      ],
      "metadata": {
        "id": "ep56PDYtQDO_"
      },
      "execution_count": null,
      "outputs": []
    },
    {
      "cell_type": "markdown",
      "source": [
        "- root : 데이터를 저장할 폴더\n",
        "- train = True : 학습 데이터를 불러옴 (False 는 테스트)\n",
        "- download = True : 없으면 인터넷에서 자동 다운로드\n",
        "- transform : 위에서 정의한 전처리 적용"
      ],
      "metadata": {
        "id": "G-J5fz9jWMxi"
      }
    },
    {
      "cell_type": "code",
      "source": [
        "trainset = torchvision.datasets.CIFAR10(\n",
        "    root = './data',\n",
        "    train = True,\n",
        "    download = True,\n",
        "    transform = transform\n",
        ")"
      ],
      "metadata": {
        "colab": {
          "base_uri": "https://localhost:8080/"
        },
        "id": "4Cxik6VxUuVJ",
        "outputId": "2a0b7f8d-a3ae-4703-d55c-04e17bf24af1"
      },
      "execution_count": null,
      "outputs": [
        {
          "output_type": "stream",
          "name": "stderr",
          "text": [
            "100%|██████████| 170M/170M [00:03<00:00, 46.7MB/s]\n"
          ]
        }
      ]
    },
    {
      "cell_type": "markdown",
      "source": [
        "- trainset : 위에서 불러온 데이터셋\n",
        "- batch_size = 4 : 한번에 4개 샘플씩 가져옴\n",
        "- shuffle = True : 매 epoch 마다 데이터를 섞음 (과적합 방지)\n",
        "- num_workers = 2 : 데이터를 불러올 때 사용할 병렬 처리 워커 수\n",
        "\n",
        "DataLoader 는 dataset에서 데이터를 꺼내 배치 단위로 정리\n"
      ],
      "metadata": {
        "id": "er6PTGyMWgDz"
      }
    },
    {
      "cell_type": "code",
      "source": [
        "trainloader = torch.utils.data.DataLoader(trainset, batch_size = 4, shuffle = True, num_workers = 2)"
      ],
      "metadata": {
        "id": "RVc8Dx_dU-8Q"
      },
      "execution_count": null,
      "outputs": []
    },
    {
      "cell_type": "code",
      "source": [
        "import matplotlib.pyplot as plt\n",
        "import numpy as np\n",
        "\n",
        "# 클래스 이름을 정의해줌\n",
        "classes = ('plane', 'car', 'bird', 'cat',\n",
        "           'deer', 'dog', 'frog', 'horse', 'ship', 'truck')\n",
        "\n",
        "def imshow(img):\n",
        "  img = img / 2 + 0.5 # 정규화된 이미지를 원래되로 돌려봄\n",
        "  npimg = img.numpy() # 넘파이 형식으로 변환\n",
        "  plt.imshow(np.transpose(npimg, (1, 2, 0)))\n",
        "\n",
        "dataiter = iter(trainloader) # 데이터 배치를 순회하도록 이터레이터 생성\n",
        "images, labels = next(dataiter) # next() : 첫번째 배치를 꺼냄 4개의 이미지와 라벨\n",
        "\n",
        "imshow(torchvision.utils.make_grid(images)) # 4장 이미지를 하나로 붙여서 보여줌\n",
        "print(' '.join('%5s' % classes[labels[j]] for j in range(4)))"
      ],
      "metadata": {
        "colab": {
          "base_uri": "https://localhost:8080/",
          "height": 250
        },
        "id": "qeWIT9WqVR1B",
        "outputId": "0e1b7903-1194-4ea1-d64d-2a984e577c27"
      },
      "execution_count": null,
      "outputs": [
        {
          "output_type": "stream",
          "name": "stderr",
          "text": [
            "WARNING:matplotlib.image:Clipping input data to the valid range for imshow with RGB data ([0..1] for floats or [0..255] for integers). Got range [-0.49473685..1.5504175].\n"
          ]
        },
        {
          "output_type": "stream",
          "name": "stdout",
          "text": [
            "  dog plane truck truck\n"
          ]
        },
        {
          "output_type": "display_data",
          "data": {
            "text/plain": [
              "<Figure size 640x480 with 1 Axes>"
            ],
            "image/png": "[encoded data removed]"
          },
          "metadata": {}
        }
      ]
    },
    {
      "cell_type": "markdown",
      "source": [
        "# Training your PyTorch Model"
      ],
      "metadata": {
        "id": "dE_4q0aGXQtP"
      }
    },
    {
      "cell_type": "code",
      "source": [
        "import torch\n",
        "import torch.nn as nn\n",
        "import torch.nn.functional as F\n",
        "import torch.optim as optim\n",
        "\n",
        "import torchvision\n",
        "import torchvision.transforms as transforms\n",
        "\n",
        "import matplotlib\n",
        "import matplotlib.pyplot as plt\n",
        "import numpy as np"
      ],
      "metadata": {
        "id": "H5BJAwGKV283"
      },
      "execution_count": null,
      "outputs": []
    },
    {
      "cell_type": "code",
      "source": [
        "transform = transforms.Compose(\n",
        "    [transforms.ToTensor(),\n",
        "     transforms.Normalize((0.5, 0.5, 0.5), (0.5, 0.5, 0.5))])\n",
        "\n",
        "trainset = torchvision.datasets.CIFAR10(\n",
        "    root = 'data',\n",
        "    train = True,\n",
        "    download = True,\n",
        "    transform = transform)\n",
        "\n",
        "trainloader = torch.utils.data.DataLoader(\n",
        "    trainset,\n",
        "    batch_size = 4,\n",
        "    shuffle = True,\n",
        "    num_workers = 2)\n",
        "\n",
        "testset = torchvision.datasets.CIFAR10(\n",
        "    root = 'data',\n",
        "    train = False,\n",
        "    download = True,\n",
        "    transform = transform)\n",
        "\n",
        "testloader = torch.utils.data.DataLoader(\n",
        "    testset,\n",
        "    batch_size = 4,\n",
        "    shuffle = True,\n",
        "    num_workers = 2)\n",
        "\n",
        "classes = ('plane', 'car', 'bird', 'cat',\n",
        "           'deer', 'dog', 'frog', 'horse', 'ship', 'truck')"
      ],
      "metadata": {
        "id": "Z10gNH9YXiRu"
      },
      "execution_count": null,
      "outputs": []
    },
    {
      "cell_type": "code",
      "source": [
        "import matplotlib.pyplot as plt\n",
        "import numpy as np\n",
        "\n",
        "def imshow(img):\n",
        "  img = img / 2 + 0.5\n",
        "  npimg = img.numpy()\n",
        "  plt.imshow(np.transpose(npimg, (1, 2, 0)))\n",
        "\n",
        "dataiter = iter(trainloader)\n",
        "images, labels = next(dataiter)\n",
        "\n",
        "imshow(torchvision.utils.make_grid(images))\n",
        "print(' '.join('%5s' % classes[labels[j]] for j in range(4)))"
      ],
      "metadata": {
        "colab": {
          "base_uri": "https://localhost:8080/",
          "height": 211
        },
        "id": "MgDoEK3LYhgn",
        "outputId": "a4e58a0f-24e3-4fb6-d770-5a9e7a0ff7af"
      },
      "execution_count": null,
      "outputs": [
        {
          "output_type": "stream",
          "name": "stdout",
          "text": [
            "plane horse   car   cat\n"
          ]
        },
        {
          "output_type": "display_data",
          "data": {
            "text/plain": [
              "<Figure size 640x480 with 1 Axes>"
            ],
            "image/png": "[encoded data removed]"
          },
          "metadata": {}
        }
      ]
    },
    {
      "cell_type": "code",
      "source": [
        "class Net(nn.Module):\n",
        "  def __init__(self):\n",
        "    super(Net, self).__init__()\n",
        "    self.conv1 = nn.Conv2d(3, 6, 5) # 3 채널 입력, 6 채널 출력, 5 x 5 커널\n",
        "    self.pool = nn.MaxPool2d(2, 2) # 2 x 2 로 맥스풀링\n",
        "    self.conv2 = nn.Conv2d(6, 16 ,5) # 6 채널 입력, 16채널 출력, 5 x 5 커널\n",
        "    self.fc1 = nn.Linear(16 * 5 * 5, 120)\n",
        "    self.fc2 = nn.Linear(120, 84)\n",
        "    self.fc3 = nn.Linear(84, 10) # 1개의 클래스 예측\n",
        "\n",
        "  def forward(self, x):\n",
        "    x = self.pool(F.relu(self.conv1(x)))\n",
        "    x = self.pool(F.relu(self.conv2(x)))\n",
        "    x = x.view(-1, 16 * 5 * 5)\n",
        "    x = F.relu(self.fc1(x))\n",
        "    x = F.relu(self.fc2(x))\n",
        "    x = self.fc3(x)\n",
        "    return x\n",
        "\n",
        "net = Net()\n",
        "\n",
        "criterion = nn.CrossEntropyLoss()\n",
        "optimizer = optim.SGD(net.parameters(), lr=0.001, momentum=0.9)"
      ],
      "metadata": {
        "id": "AKgU2XzWY83l"
      },
      "execution_count": null,
      "outputs": []
    },
    {
      "cell_type": "code",
      "source": [
        "for epoch in range(2):\n",
        "\n",
        "  running_loss = 0.0\n",
        "  for i, data in enumerate(trainloader, 0):\n",
        "    inputs, labels = data\n",
        "\n",
        "    optimizer.zero_grad() # gradient 초기화\n",
        "\n",
        "    outputs = net(inputs) # 모델 예측\n",
        "    loss = criterion(outputs, labels) # 손실 계산\n",
        "    loss.backward() # 백프랍 계산\n",
        "    optimizer.step() # 파라미터 업데이트\n",
        "\n",
        "    running_loss += loss.item()\n",
        "    if i % 2000 == 1999: # 2000개 배치마다 출력\n",
        "      print('[%d, %5d] loss: % 3f' %\n",
        "            (epoch + 1, i + 1, running_loss / 2000))\n",
        "      running_loss = 0.0\n",
        "\n",
        "print('훈련 끝')"
      ],
      "metadata": {
        "colab": {
          "base_uri": "https://localhost:8080/"
        },
        "id": "T8nCtJ2kZ4Un",
        "outputId": "c89b9b5a-a7a8-41a0-d590-236493e904e7"
      },
      "execution_count": null,
      "outputs": [
        {
          "output_type": "stream",
          "name": "stdout",
          "text": [
            "[1,  2000] loss:  2.208257\n",
            "[1,  4000] loss:  1.871340\n",
            "[1,  6000] loss:  1.678698\n",
            "[1,  8000] loss:  1.596801\n",
            "[1, 10000] loss:  1.523696\n",
            "[1, 12000] loss:  1.476263\n",
            "[2,  2000] loss:  1.402311\n",
            "[2,  4000] loss:  1.388129\n",
            "[2,  6000] loss:  1.341344\n",
            "[2,  8000] loss:  1.337208\n",
            "[2, 10000] loss:  1.327022\n",
            "[2, 12000] loss:  1.288677\n",
            "훈련 끝\n"
          ]
        }
      ]
    },
    {
      "cell_type": "code",
      "source": [
        "correct = 0\n",
        "total = 0\n",
        "with torch.no_grad(): # gradient 비활성화 (inference 시에는 업데이트가 필요없으니까)\n",
        "  for data in testloader:\n",
        "    images, labels = data\n",
        "    outputs = net(images)\n",
        "    _, predicted = torch.max(outputs.data, 1)\n",
        "    total += labels.size(0)\n",
        "    correct += (predicted == labels).sum().item()\n",
        "\n",
        "print('Accuracy of the network on the 10000 test images: %d %%' % (100 * correct / total))"
      ],
      "metadata": {
        "colab": {
          "base_uri": "https://localhost:8080/"
        },
        "id": "WiXxjIW-bHaP",
        "outputId": "b3302b58-80d2-4079-d173-3f65fbb23aab"
      },
      "execution_count": null,
      "outputs": [
        {
          "output_type": "stream",
          "name": "stdout",
          "text": [
            "Accuracy of the network on the 10000 test images: 52 %\n"
          ]
        }
      ]
    },
    {
      "cell_type": "code",
      "source": [],
      "metadata": {
        "id": "N5tqgh5dbxaw"
      },
      "execution_count": null,
      "outputs": []
    }
  ]
}