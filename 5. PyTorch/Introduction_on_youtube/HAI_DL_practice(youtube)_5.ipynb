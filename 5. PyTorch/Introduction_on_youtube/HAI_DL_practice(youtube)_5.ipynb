{
  "nbformat": 4,
  "nbformat_minor": 0,
  "metadata": {
    "colab": {
      "provenance": [],
      "gpuType": "T4"
    },
    "kernelspec": {
      "name": "python3",
      "display_name": "Python 3"
    },
    "language_info": {
      "name": "python"
    },
    "accelerator": "GPU"
  },
  "cells": [
    {
      "cell_type": "markdown",
      "source": [
        "# **5. Pytorch TensorBoard Support**"
      ],
      "metadata": {
        "id": "eSFzQA7Eyi7M"
      }
    },
    {
      "cell_type": "code",
      "execution_count": null,
      "metadata": {
        "id": "H2V4M6Mxye8Q"
      },
      "outputs": [],
      "source": [
        "# 파이토치 모델 구성 및 학습에 필요한 기본 모듈\n",
        "import torch\n",
        "import torch.nn as nn\n",
        "import torch.nn.functional as F\n",
        "import torch.optim as optim\n",
        "\n",
        "# 이미지 데이터셋과 전처리 관련 모듈\n",
        "import torchvision\n",
        "import torchvision.transforms as transforms\n",
        "\n",
        "# 시각화를 위한 matplotlib 및 numpy\n",
        "import matplotlib.pyplot as plt\n",
        "import numpy as np\n",
        "\n",
        "# 텐서보드 기록용 모듈\n",
        "from torch.utils.tensorboard import SummaryWriter"
      ]
    },
    {
      "cell_type": "markdown",
      "source": [
        "# Showing Images in TensorBoard"
      ],
      "metadata": {
        "id": "n5z1ty5_6atD"
      }
    },
    {
      "cell_type": "code",
      "source": [
        "transform = transforms.Compose(\n",
        "    [transforms.ToTensor(),\n",
        "     transforms.Normalize((0.5,), (0.5,))])\n",
        "\n",
        "# train 과 test 데이터셋을 다운로드하고 data 폴더에 저장\n",
        "training_set = torchvision.datasets.FashionMNIST(\n",
        "    'data',\n",
        "    download=True,\n",
        "    train=True,\n",
        "    transform = transform\n",
        ")\n",
        "validation_set = torchvision.datasets.FashionMNIST(\n",
        "    'data',\n",
        "    download=True,\n",
        "    train=False,\n",
        "    transform = transform\n",
        ")\n",
        "\n",
        "# dataloader 생성, batch_size 4, 훈련데이터만 셔플\n",
        "training_loader = torch.utils.data.DataLoader(\n",
        "    training_set,\n",
        "    batch_size = 4,\n",
        "    shuffle = True,\n",
        "    num_workers = 2\n",
        ")\n",
        "validation_loader = torch.utils.data.DataLoader(\n",
        "    validation_set,\n",
        "    batch_size = 4,\n",
        "    shuffle = False,\n",
        "    num_workers = 2\n",
        ")\n",
        "\n",
        "# 클래스 레이블 정의\n",
        "classes = ('T-shirt/top', 'Trouser', 'Pullover', 'Dress', 'Coat',\n",
        "        'Sandal', 'Shirt', 'Sneaker', 'Bag', 'Ankle Boot')\n",
        "\n",
        "# 시각화 하기 위한 작업\n",
        "def matplotlib_imshow(img, one_channel = False):\n",
        "  if one_channel:\n",
        "    img = img.mean(dim=0)\n",
        "  img = img / 2 + 0.5\n",
        "  npimg = img.numpy()\n",
        "  if one_channel:\n",
        "    plt.imshow(npimg, cmap='Greys')\n",
        "  else:\n",
        "    plt.imshow(np.transpose(npimg, (1, 2, 0)))\n",
        "\n",
        "dataiter = iter(training_loader)\n",
        "images, labels = next(dataiter)\n",
        "\n",
        "img_grid = torchvision.utils.make_grid(images)\n",
        "matplotlib_imshow(img_grid, one_channel=True)"
      ],
      "metadata": {
        "colab": {
          "base_uri": "https://localhost:8080/",
          "height": 194
        },
        "id": "ESSM7zfDzXVu",
        "outputId": "00ee9e5b-cdff-4292-963a-fa41906b52e9"
      },
      "execution_count": null,
      "outputs": [
        {
          "output_type": "display_data",
          "data": {
            "text/plain": [
              "<Figure size 640x480 with 1 Axes>"
            ],
            "image/png": "[encoded data removed]"
          },
          "metadata": {}
        }
      ]
    },
    {
      "cell_type": "code",
      "source": [
        "# 텐서보드 writer 생성\n",
        "writer = SummaryWriter('runs/fashion_mnist_experiment_1')\n",
        "\n",
        "# 이미지를 텐서보드에 기록\n",
        "writer.add_image('Four Fashion-MNIST Images', img_grid)\n",
        "writer.flush() # 즉시 디스크에 기록"
      ],
      "metadata": {
        "id": "o86k99F4048C"
      },
      "execution_count": null,
      "outputs": []
    },
    {
      "cell_type": "markdown",
      "source": [
        "# Graphing Scalars to Visualize Training"
      ],
      "metadata": {
        "id": "5oU9QrYF6fHV"
      }
    },
    {
      "cell_type": "code",
      "source": [
        "class Net(nn.Module):\n",
        "  def __init__(self):\n",
        "    super(Net, self).__init__()\n",
        "    self.conv1 = nn.Conv2d(1, 6, 5)\n",
        "    self.pool = nn.MaxPool2d(2, 2)\n",
        "    self.conv2 = nn.Conv2d(6, 16, 5)\n",
        "    self.fc1 = nn.Linear(16 * 4 * 4, 120)\n",
        "    self.fc2 = nn.Linear(120, 84)\n",
        "    self.fc3 = nn.Linear(84, 10)\n",
        "\n",
        "  def forward(self, x):\n",
        "    x = self.pool(F.relu(self.conv1(x)))\n",
        "    x = self.pool(F.relu(self.conv2(x)))\n",
        "    x = x.view(-1, 16 * 4 * 4)\n",
        "    x = F.relu(self.fc1(x))\n",
        "    x = F.relu(self.fc2(x))\n",
        "    x = self.fc3(x)\n",
        "    return x\n",
        "\n",
        "net = Net()\n",
        "criterion = nn.CrossEntropyLoss()\n",
        "optimizer = optim.SGD(net.parameters(), lr=0.001, momentum = 0.9)"
      ],
      "metadata": {
        "id": "_6oVrqQL0rdL"
      },
      "execution_count": null,
      "outputs": []
    },
    {
      "cell_type": "code",
      "source": [
        "print(len(validation_loader)) # validation 세트 미니배치 개수\n",
        "for epoch in range(1): # 1에폭\n",
        "  running_loss = 0.0\n",
        "\n",
        "  for i, data in enumerate(training_loader, 0):\n",
        "    # 입력과 정답\n",
        "    inputs, labels = data\n",
        "\n",
        "    # 기울기 초기화\n",
        "    optimizer.zero_grad()\n",
        "\n",
        "    # forward 와 손실 계산\n",
        "    outputs = net(inputs)\n",
        "    loss = criterion(outputs, labels)\n",
        "\n",
        "    # 역전파와 파라미터 갱신\n",
        "    loss.backward()\n",
        "    optimizer.step()\n",
        "    running_loss += loss.item()\n",
        "\n",
        "    # 1000배치마다 손실 기록\n",
        "    if i % 1000 == 990:\n",
        "      print('Batch {}'.format(i + 1))\n",
        "      running_vloss = 0.0\n",
        "\n",
        "      net.train(False) # evaluation 모드\n",
        "      for j, vdata in enumerate(validation_loader, 0):\n",
        "        vinputs, vlabels = vdata\n",
        "        voutputs = net(vinputs)\n",
        "        vloss = criterion(voutputs, vlabels)\n",
        "        running_vloss += vloss.item()\n",
        "      net.train(True) # 다시 train 모드\n",
        "\n",
        "      avg_loss = running_loss / 1000\n",
        "      avg_vloss = running_vloss / len(validation_loader)\n",
        "\n",
        "      writer.add_scalars('Training vs. Validatiaon Loss',\n",
        "                         { 'Training ' : avg_loss, 'Validation' : avg_vloss},\n",
        "                         epoch * len(training_loader) + i)\n",
        "\n",
        "      running_loss = 0.0\n",
        "print('Finished Training')\n",
        "\n",
        "writer.flush()"
      ],
      "metadata": {
        "id": "VzXO7Ds34JOe",
        "colab": {
          "base_uri": "https://localhost:8080/"
        },
        "outputId": "22bdd961-622b-4495-8cc8-491048bbb2ef"
      },
      "execution_count": null,
      "outputs": [
        {
          "output_type": "stream",
          "name": "stdout",
          "text": [
            "2500\n",
            "Batch 991\n",
            "Batch 1991\n",
            "Batch 2991\n",
            "Batch 3991\n",
            "Batch 4991\n",
            "Batch 5991\n",
            "Batch 6991\n",
            "Batch 7991\n",
            "Batch 8991\n",
            "Batch 9991\n",
            "Batch 10991\n",
            "Batch 11991\n",
            "Batch 12991\n",
            "Batch 13991\n",
            "Batch 14991\n",
            "Finished Training\n"
          ]
        }
      ]
    },
    {
      "cell_type": "markdown",
      "source": [
        "# Visualizing your Model"
      ],
      "metadata": {
        "id": "FIYqmM7Z6lRY"
      }
    },
    {
      "cell_type": "code",
      "source": [
        "dataiter = iter(training_loader)\n",
        "imags, labels = next(dataiter)\n",
        "\n",
        "# add_graph()를 사용하면 샘플 입력을 따라 모델의 연산 그래프를 자동을으로 그려줌\n",
        "# 텐서 보드의 graphs 탭에서 net 노드를 더블 클릭하면 층별 데이터 흐름이 전개될거임\n",
        "writer.add_graph(net, images)\n",
        "writer.flush()"
      ],
      "metadata": {
        "id": "0EcmzVa86XBs"
      },
      "execution_count": null,
      "outputs": []
    },
    {
      "cell_type": "markdown",
      "source": [
        "# Visualizing Your Dataset with Embeddings"
      ],
      "metadata": {
        "id": "PqSwKzKm61s7"
      }
    },
    {
      "cell_type": "code",
      "source": [
        "def select_n_random(data, labels, n=100):\n",
        "  assert len(data) == len(labels)\n",
        "\n",
        "  perm = torch.randperm(len(data)) # 무작위 순열\n",
        "  return data[perm][:n], labels[perm][:n]\n",
        "\n",
        "# 샘플 이미지와 레이블 추출\n",
        "images, labels = select_n_random(training_set.data, training_set.targets)\n",
        "\n",
        "# 레이블 문자열로 변환\n",
        "class_labels = [classes[label] for label in labels]\n",
        "\n",
        "features = images.view(-1, 28 * 28)\n",
        "writer.add_embedding(features,\n",
        "                     metadata = class_labels,\n",
        "                     label_img = images.unsqueeze(1))\n",
        "writer.flush()\n",
        "writer.close()"
      ],
      "metadata": {
        "id": "B_ZgIihp66ut"
      },
      "execution_count": null,
      "outputs": []
    },
    {
      "cell_type": "code",
      "source": [],
      "metadata": {
        "id": "gDv6gcUG6znv"
      },
      "execution_count": null,
      "outputs": []
    }
  ]
}