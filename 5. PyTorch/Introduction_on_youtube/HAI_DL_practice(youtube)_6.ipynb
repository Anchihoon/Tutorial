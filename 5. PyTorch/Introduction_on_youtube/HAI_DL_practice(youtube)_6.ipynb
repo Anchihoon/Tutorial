{
  "nbformat": 4,
  "nbformat_minor": 0,
  "metadata": {
    "colab": {
      "provenance": [],
      "gpuType": "T4"
    },
    "kernelspec": {
      "name": "python3",
      "display_name": "Python 3"
    },
    "language_info": {
      "name": "python"
    },
    "accelerator": "GPU"
  },
  "cells": [
    {
      "cell_type": "markdown",
      "source": [
        "# **Training with PyTorch**"
      ],
      "metadata": {
        "id": "xxIU2HZZ8OOE"
      }
    },
    {
      "cell_type": "markdown",
      "source": [
        "# Dataset and DataLoader"
      ],
      "metadata": {
        "id": "eTlZQ54N8Sso"
      }
    },
    {
      "cell_type": "markdown",
      "source": [
        "Dataset : 저장소에서 단일 샘플을 읽고 전처리한다\n",
        "\n",
        "DataLoader : Dataset에서 샘플을 뽑아 배치 단위로 모아 학습 루프에 전달"
      ],
      "metadata": {
        "id": "Xdha88oT8Ix0"
      }
    },
    {
      "cell_type": "code",
      "execution_count": null,
      "metadata": {
        "colab": {
          "base_uri": "https://localhost:8080/"
        },
        "id": "tmKmsF6T8Lg0",
        "outputId": "ddd2412a-b287-4f30-e46c-a53f503a25c3"
      },
      "outputs": [
        {
          "output_type": "stream",
          "name": "stderr",
          "text": [
            "100%|██████████| 26.4M/26.4M [00:02<00:00, 9.74MB/s]\n",
            "100%|██████████| 29.5k/29.5k [00:00<00:00, 172kB/s]\n",
            "100%|██████████| 4.42M/4.42M [00:01<00:00, 3.06MB/s]\n",
            "100%|██████████| 5.15k/5.15k [00:00<00:00, 10.5MB/s]"
          ]
        },
        {
          "output_type": "stream",
          "name": "stdout",
          "text": [
            "Training set has 60000 instances\n",
            "Validation set has 10000 insatnces\n"
          ]
        },
        {
          "output_type": "stream",
          "name": "stderr",
          "text": [
            "\n"
          ]
        }
      ],
      "source": [
        "import torch\n",
        "import torchvision\n",
        "import torchvision.transforms as transforms\n",
        "from torch.utils.tensorboard import SummaryWriter\n",
        "from datetime import datetime\n",
        "\n",
        "transform = transforms.Compose(\n",
        "    [transforms.ToTensor(),\n",
        "     transforms.Normalize((0.5,), (0.5,))])\n",
        "\n",
        "training_set = torchvision.datasets.FashionMNIST(\n",
        "    'data',\n",
        "    train = True,\n",
        "    transform = transform,\n",
        "    download = True\n",
        ")\n",
        "\n",
        "validation_set = torchvision.datasets.FashionMNIST(\n",
        "    'data',\n",
        "    train = False,\n",
        "    transform = transform,\n",
        "    download = True\n",
        ")\n",
        "\n",
        "training_loader = torch.utils.data.DataLoader(training_set, batch_size = 4, shuffle = True)\n",
        "validation_loader = torch.utils.data.DataLoader(validation_set, batch_size = 4, shuffle = False)\n",
        "\n",
        "classes = ('T-shirt/top', 'Trouser', 'Pullover', 'Dress', 'Coat',\n",
        "        'Sandal', 'Shirt', 'Sneaker', 'Bag', 'Ankle Boot')\n",
        "\n",
        "print('Training set has {} instances'.format(len(training_set)))\n",
        "print('Validation set has {} insatnces'.format(len(validation_set)))"
      ]
    },
    {
      "cell_type": "code",
      "source": [
        "import matplotlib.pyplot as plt\n",
        "import numpy as np\n",
        "\n",
        "def matplotlib_imshow(img, one_channel = False):\n",
        "  if one_channel:\n",
        "    img = img.mean(dim =0 )\n",
        "  img = img / 2 + 0.5\n",
        "  npimg = img.numpy()\n",
        "  if one_channel:\n",
        "    plt.imshow(npimg, cmap='Greys')\n",
        "  else:\n",
        "    plt.imshow(np.transpose(npimg, (1, 2, 0)))\n",
        "\n",
        "dataiter = iter(training_loader)\n",
        "images, labels = next(dataiter)\n",
        "\n",
        "img_grid = torchvision.utils.make_grid(images)\n",
        "matplotlib_imshow(img_grid, one_channel = True)\n",
        "print('  '.join(classes[labels[j]] for j in range(4)))"
      ],
      "metadata": {
        "colab": {
          "base_uri": "https://localhost:8080/",
          "height": 212
        },
        "id": "Kahpm_Ws9dii",
        "outputId": "9cccc833-aeb3-47b7-f870-a5f71e81b003"
      },
      "execution_count": null,
      "outputs": [
        {
          "output_type": "stream",
          "name": "stdout",
          "text": [
            "Shirt  T-shirt/top  Coat  Pullover\n"
          ]
        },
        {
          "output_type": "display_data",
          "data": {
            "text/plain": [
              "<Figure size 640x480 with 1 Axes>"
            ],
            "image/png": "[encoded data removed]"
          },
          "metadata": {}
        }
      ]
    },
    {
      "cell_type": "markdown",
      "source": [
        "# The Model"
      ],
      "metadata": {
        "id": "wKIHXid4AqPW"
      }
    },
    {
      "cell_type": "code",
      "source": [
        "import torch.nn as nn\n",
        "import torch.nn.functional as F\n",
        "\n",
        "class GarmentClassifier(nn.Module):\n",
        "  def __init__(self):\n",
        "    super(GarmentClassifier, self).__init__()\n",
        "    self.conv1 = nn.Conv2d(1, 6, 5)\n",
        "    self.pool = nn.MaxPool2d(2,2)\n",
        "    self.conv2 = nn.Conv2d(6, 16, 5)\n",
        "\n",
        "    self.fc1 = nn.Linear(16 * 4 * 4, 120)\n",
        "    self.fc2 = nn.Linear(120, 84)\n",
        "    self.fc3 = nn.Linear(84, 10)\n",
        "\n",
        "  def forward(self, x):\n",
        "    x = self.pool(F.relu(self.conv1(x)))\n",
        "    x = self.pool(F.relu(self.conv2(x)))\n",
        "    x = x.view(-1, 16 * 4 * 4)\n",
        "    x = F.relu(self.fc1(x))\n",
        "    x = F.relu(self.fc2(x))\n",
        "    return x\n",
        "\n",
        "model = GarmentClassifier()"
      ],
      "metadata": {
        "id": "haVYMo_E-ME5"
      },
      "execution_count": null,
      "outputs": []
    },
    {
      "cell_type": "markdown",
      "source": [
        "# Loss Function"
      ],
      "metadata": {
        "id": "rYy6KwO4Bkix"
      }
    },
    {
      "cell_type": "code",
      "source": [
        "loss_fn = torch.nn.CrossEntropyLoss()\n",
        "\n",
        "dummy_outputs = torch.rand(4, 10)\n",
        "dummy_labels = torch.tensor([1, 5, 3, 7])\n",
        "\n",
        "print(dummy_outputs)\n",
        "print(dummy_labels)\n",
        "\n",
        "loss = loss_fn(dummy_outputs, dummy_labels)\n",
        "print('Total loss for this batch: {}'.format(loss.item()))"
      ],
      "metadata": {
        "colab": {
          "base_uri": "https://localhost:8080/"
        },
        "id": "4JN6dimkA_Aa",
        "outputId": "4ad8dde8-d56c-4c35-b315-5ee41c46fbb2"
      },
      "execution_count": null,
      "outputs": [
        {
          "output_type": "stream",
          "name": "stdout",
          "text": [
            "tensor([[0.0699, 0.9158, 0.2132, 0.8251, 0.7912, 0.4241, 0.6267, 0.5981, 0.7487,\n",
            "         0.4525],\n",
            "        [0.7707, 0.0407, 0.8742, 0.0203, 0.9161, 0.9635, 0.4590, 0.1107, 0.9366,\n",
            "         0.0679],\n",
            "        [0.0118, 0.0728, 0.1572, 0.7414, 0.7874, 0.2361, 0.7182, 0.8869, 0.9522,\n",
            "         0.6595],\n",
            "        [0.4167, 0.7396, 0.3057, 0.3742, 0.6142, 0.0573, 0.1491, 0.1052, 0.4034,\n",
            "         0.9165]])\n",
            "tensor([1, 5, 3, 7])\n",
            "Total loss for this batch: 2.1743152141571045\n"
          ]
        }
      ]
    },
    {
      "cell_type": "markdown",
      "source": [
        "# Optimizer"
      ],
      "metadata": {
        "id": "6ob-peQ3B6Il"
      }
    },
    {
      "cell_type": "code",
      "source": [
        "optimizer = torch.optim.SGD(model.parameters(), lr = 0.001, momentum = 0.9)"
      ],
      "metadata": {
        "id": "Q1_DJpqjB262"
      },
      "execution_count": null,
      "outputs": []
    },
    {
      "cell_type": "markdown",
      "source": [
        "# The Training Loop"
      ],
      "metadata": {
        "id": "lahxgkQ8CE7M"
      }
    },
    {
      "cell_type": "code",
      "source": [
        "def train_one_epoch(epoch_index, tb_writer):\n",
        "  running_loss = 0. # 배치 누적손실\n",
        "  last_loss = 0. # 직전 1000배치 평균 손실\n",
        "\n",
        "  for i, data in enumerate(training_loader):\n",
        "    inputs, labels = data\n",
        "    optimizer.zero_grad() # 기울기 초기화\n",
        "    outputs = model(inputs) # 이번 배치 예측\n",
        "    loss = loss_fn(outputs, labels) # 로스 계산\n",
        "    loss.backward() # 역전파\n",
        "    optimizer.step() # 가중치 업데이트\n",
        "\n",
        "    # 진행 상황 기록\n",
        "    running_loss += loss.item()\n",
        "    if i % 1000 == 999:\n",
        "      last_loss = running_loss / 1000\n",
        "      print('batch {} loss: {{}}'.format(i + 1, last_loss))\n",
        "\n",
        "      tb_x = epoch_index * len(training_loader) + i + 1\n",
        "      tb_writer.add_scalar('Loss/train', last_loss, tb_x)\n",
        "\n",
        "      running_loss = 0. # 누적 손실 초기화\n",
        "\n",
        "  return last_loss # 에폭 마지막 1000 배치 평균 손실 반환"
      ],
      "metadata": {
        "id": "FE4kjAZSCBAY"
      },
      "execution_count": null,
      "outputs": []
    },
    {
      "cell_type": "markdown",
      "source": [
        "# Per-Epoch Activity"
      ],
      "metadata": {
        "id": "mQb3gXAHC4H3"
      }
    },
    {
      "cell_type": "code",
      "source": [
        "timestamp = datetime.now().strftime('%Y%m%d_%H%M%S')\n",
        "writer = SummaryWriter('runs/fashion_trainer_{}'.format(timestamp))\n",
        "epoch_number = 0\n",
        "\n",
        "EPOCHS = 5\n",
        "best_vloss = 1_000_000.\n",
        "\n",
        "for epoch in range(EPOCHS):\n",
        "  print(' EPOCH {}:'.format(epoch_number + 1))\n",
        "\n",
        "  model.train(True)\n",
        "  avg_loss = train_one_epoch(epoch_number, writer)\n",
        "\n",
        "  running_vloss = 0.0\n",
        "  model.eval()\n",
        "\n",
        "  with torch.no_grad():\n",
        "    for i, vdata in enumerate(validation_loader):\n",
        "      vinputs, vlabels = vdata\n",
        "      voutputs = model(vinputs)\n",
        "      vloss = loss_fn(voutputs, vlabels)\n",
        "      running_vloss += vloss\n",
        "\n",
        "  avg_vloss = running_vloss / (i + 1)\n",
        "  print('Loss train {} valid {}'.format(avg_loss, avg_vloss))\n",
        "\n",
        "  writer.add_scalars('Tranining vs. Validation Loss', { 'training' : avg_loss, 'Validation': avg_vloss},\n",
        "                     epoch_number + 1)\n",
        "\n",
        "  writer.flush()\n",
        "\n",
        "  # 제일 좋은 validation 이였으면 모델 저장\n",
        "  if avg_vloss < best_vloss:\n",
        "    best_vloss = avg_vloss\n",
        "    model_path = 'model_{}_{}'.format(timestamp, epoch_number)\n",
        "    torch.save(model.state_dict(), model_path)\n",
        "\n",
        "  epoch_number += 1"
      ],
      "metadata": {
        "colab": {
          "base_uri": "https://localhost:8080/"
        },
        "id": "s-Y9Vw1ACwN5",
        "outputId": "e302cc88-8c31-406f-d95d-6f93bbdeff2c"
      },
      "execution_count": null,
      "outputs": [
        {
          "output_type": "stream",
          "name": "stdout",
          "text": [
            " EPOCH 1:\n",
            "batch 1000 loss: {}\n",
            "batch 2000 loss: {}\n",
            "batch 3000 loss: {}\n",
            "batch 4000 loss: {}\n",
            "batch 5000 loss: {}\n",
            "batch 6000 loss: {}\n",
            "batch 7000 loss: {}\n",
            "batch 8000 loss: {}\n",
            "batch 9000 loss: {}\n",
            "batch 10000 loss: {}\n",
            "batch 11000 loss: {}\n",
            "batch 12000 loss: {}\n",
            "batch 13000 loss: {}\n",
            "batch 14000 loss: {}\n",
            "batch 15000 loss: {}\n",
            "Loss train 0.26679123430237994 valid 0.31594839692115784\n",
            " EPOCH 2:\n",
            "batch 1000 loss: {}\n",
            "batch 2000 loss: {}\n",
            "batch 3000 loss: {}\n",
            "batch 4000 loss: {}\n",
            "batch 5000 loss: {}\n",
            "batch 6000 loss: {}\n",
            "batch 7000 loss: {}\n",
            "batch 8000 loss: {}\n",
            "batch 9000 loss: {}\n",
            "batch 10000 loss: {}\n",
            "batch 11000 loss: {}\n",
            "batch 12000 loss: {}\n",
            "batch 13000 loss: {}\n",
            "batch 14000 loss: {}\n",
            "batch 15000 loss: {}\n",
            "Loss train 0.2524857627506399 valid 0.31604132056236267\n",
            " EPOCH 3:\n",
            "batch 1000 loss: {}\n",
            "batch 2000 loss: {}\n",
            "batch 3000 loss: {}\n",
            "batch 4000 loss: {}\n",
            "batch 5000 loss: {}\n",
            "batch 6000 loss: {}\n",
            "batch 7000 loss: {}\n",
            "batch 8000 loss: {}\n",
            "batch 9000 loss: {}\n",
            "batch 10000 loss: {}\n",
            "batch 11000 loss: {}\n",
            "batch 12000 loss: {}\n",
            "batch 13000 loss: {}\n",
            "batch 14000 loss: {}\n",
            "batch 15000 loss: {}\n",
            "Loss train 0.2522878597202755 valid 0.32531753182411194\n",
            " EPOCH 4:\n",
            "batch 1000 loss: {}\n",
            "batch 2000 loss: {}\n",
            "batch 3000 loss: {}\n",
            "batch 4000 loss: {}\n",
            "batch 5000 loss: {}\n",
            "batch 6000 loss: {}\n",
            "batch 7000 loss: {}\n",
            "batch 8000 loss: {}\n",
            "batch 9000 loss: {}\n",
            "batch 10000 loss: {}\n",
            "batch 11000 loss: {}\n",
            "batch 12000 loss: {}\n",
            "batch 13000 loss: {}\n",
            "batch 14000 loss: {}\n",
            "batch 15000 loss: {}\n",
            "Loss train 0.21787731995240756 valid 0.30452650785446167\n",
            " EPOCH 5:\n",
            "batch 1000 loss: {}\n",
            "batch 2000 loss: {}\n",
            "batch 3000 loss: {}\n",
            "batch 4000 loss: {}\n",
            "batch 5000 loss: {}\n",
            "batch 6000 loss: {}\n",
            "batch 7000 loss: {}\n",
            "batch 8000 loss: {}\n",
            "batch 9000 loss: {}\n",
            "batch 10000 loss: {}\n",
            "batch 11000 loss: {}\n",
            "batch 12000 loss: {}\n",
            "batch 13000 loss: {}\n",
            "batch 14000 loss: {}\n",
            "batch 15000 loss: {}\n",
            "Loss train 0.2266669861541534 valid 0.30604660511016846\n"
          ]
        }
      ]
    },
    {
      "cell_type": "code",
      "source": [
        "saved_model = GarmentClassifier()\n",
        "saved_model.load_state_dict(torch.load(PATH))"
      ],
      "metadata": {
        "id": "9cwhohrVEJQ_"
      },
      "execution_count": null,
      "outputs": []
    }
  ]
}