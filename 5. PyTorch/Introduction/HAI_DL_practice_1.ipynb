{
  "nbformat": 4,
  "nbformat_minor": 0,
  "metadata": {
    "colab": {
      "provenance": [],
      "gpuType": "T4"
    },
    "kernelspec": {
      "name": "python3",
      "display_name": "Python 3"
    },
    "language_info": {
      "name": "python"
    },
    "accelerator": "GPU"
  },
  "cells": [
    {
      "cell_type": "markdown",
      "source": [
        "# **1. Qiuckstart**"
      ],
      "metadata": {
        "id": "hAK0AicwiHSU"
      }
    },
    {
      "cell_type": "markdown",
      "source": [
        "머신러닝에서 자주 수행되는 PyTorch의 API들은 본다\n",
        "\n"
      ],
      "metadata": {
        "id": "S5P7Xj-Fii85"
      }
    },
    {
      "cell_type": "code",
      "source": [
        "import torch\n",
        "from torch import nn\n",
        "from torch.utils.data import DataLoader\n",
        "from torchvision import datasets\n",
        "from torchvision.transforms import ToTensor"
      ],
      "metadata": {
        "id": "KfzNEOxeiHAR"
      },
      "execution_count": null,
      "outputs": []
    },
    {
      "cell_type": "markdown",
      "source": [
        "파이토치는 torchvision같은 도메인 특화 라이브러리를 제공하고 이는 다양한 데이터셋을 포함하고 있음\n",
        "\n",
        "여기서는 FashionMNIST 데이터셋을 사용할거임\n",
        "\n",
        "Torchvision 데이터셋의 주요인자 2개가있음\n",
        "1. transform : 입력이미지를 전처리 할때 사용\n",
        "2. target_transform : 정답을 전처리 할때 사용"
      ],
      "metadata": {
        "id": "FA1eweXDkV6O"
      }
    },
    {
      "cell_type": "code",
      "source": [
        "# datasets 은 샘플과 해당 라벨을 저장하는 역할을한다.\n",
        "training_data = datasets.FashionMNIST(\n",
        "    root = 'data',\n",
        "    train = True,\n",
        "    download = True,\n",
        "    transform = ToTensor()\n",
        ")\n",
        "\n",
        "test_data = datasets.FashionMNIST(\n",
        "    root = 'data',\n",
        "    train = False,\n",
        "    download = True,\n",
        "    transform = ToTensor()\n",
        ")"
      ],
      "metadata": {
        "colab": {
          "base_uri": "https://localhost:8080/"
        },
        "id": "6AlvEqPXi49d",
        "outputId": "a7b8b38b-5eb1-4a1b-a99b-aed76b4041ce"
      },
      "execution_count": null,
      "outputs": [
        {
          "output_type": "stream",
          "name": "stderr",
          "text": [
            "100%|██████████| 26.4M/26.4M [00:02<00:00, 12.1MB/s]\n",
            "100%|██████████| 29.5k/29.5k [00:00<00:00, 202kB/s]\n",
            "100%|██████████| 4.42M/4.42M [00:01<00:00, 3.79MB/s]\n",
            "100%|██████████| 5.15k/5.15k [00:00<00:00, 10.6MB/s]\n"
          ]
        }
      ]
    },
    {
      "cell_type": "markdown",
      "source": [
        "DataLoader는 dataset 객체를 반복 가능한 객체로 만들어준다.\n",
        "\n",
        "그러면 배치처리, 샘플링, 셔플, 멀티프로세스를 이용한 데이터로딩을 가능하게함\n",
        "\n",
        "여기서 배치 크기는 64"
      ],
      "metadata": {
        "id": "e9uDg8qBltHB"
      }
    },
    {
      "cell_type": "code",
      "source": [
        "batch_size = 64\n",
        "\n",
        "# 데이터 로더 생성\n",
        "train_dataloader = DataLoader(training_data, batch_size = batch_size)\n",
        "test_dataloader = DataLoader(test_data, batch_size = batch_size)\n",
        "\n",
        "for X, y in test_dataloader:\n",
        "  print(f\"shape of X [N, C, H, W]: {X.shape}\")\n",
        "  print(f\"shaep of y: {y.shape} {y.dtype}\")\n",
        "  break"
      ],
      "metadata": {
        "colab": {
          "base_uri": "https://localhost:8080/"
        },
        "id": "Xctyn6H7j4cN",
        "outputId": "d8c2df98-1c6f-4b6b-9128-2e9e2503920d"
      },
      "execution_count": null,
      "outputs": [
        {
          "output_type": "stream",
          "name": "stdout",
          "text": [
            "shape of X [N, C, H, W]: torch.Size([64, 1, 28, 28])\n",
            "shaep of y: torch.Size([64]) torch.int64\n"
          ]
        }
      ]
    },
    {
      "cell_type": "markdown",
      "source": [
        "# Creating Models"
      ],
      "metadata": {
        "id": "-YqWtzOGnOoU"
      }
    },
    {
      "cell_type": "markdown",
      "source": [
        "파이토치에서 neural network를 정의하려면 nn.Module을 상속받는 클래스를 생성해야함\n",
        "\n",
        "- __init__ 함수에서는 신경망의 레이어를 정의\n",
        "\n",
        "- forward 함수에서는 데이터가 신경망을 통해 어떻게 흐를지 지정\n",
        "\n",
        "신경망의 연산속도를 높이기 위해 모델을 CUDA 같은 가속기로 이동시키자"
      ],
      "metadata": {
        "id": "hsnt6MyTlxrQ"
      }
    },
    {
      "cell_type": "code",
      "source": [
        "device = torch.accelerator.current_accelerator().type if torch.accelerator.is_available() else \"cpu\"\n",
        "print(f\"Using {device} device\")"
      ],
      "metadata": {
        "colab": {
          "base_uri": "https://localhost:8080/"
        },
        "id": "ZDnNPiAsldM7",
        "outputId": "d0aacb2f-fef1-412a-9614-c1f6d733c88f"
      },
      "execution_count": null,
      "outputs": [
        {
          "output_type": "stream",
          "name": "stdout",
          "text": [
            "Using cuda device\n"
          ]
        }
      ]
    },
    {
      "cell_type": "code",
      "source": [
        "# 모델 정의\n",
        "# 파이토치 기본 신경망 모듈인 nn.Module을 상속받음\n",
        "class NeuralNetwork(nn.Module):\n",
        "  def __init__(self):\n",
        "    super().__init__()     # nn.Module의 초기화 함수도 함께 받음\n",
        "    self.flatten = nn.Flatten() # 입력이미지를 1D 화\n",
        "    self.linear_relu_stack = nn.Sequential(\n",
        "        nn.Linear(28*28, 512),\n",
        "        nn.ReLU(),\n",
        "        nn.Linear(512, 512),\n",
        "        nn.ReLU(),\n",
        "        nn.Linear(512,10)\n",
        "    )\n",
        "\n",
        "  # forward 메소드 정의\n",
        "  def forward(self, x):\n",
        "    x= self.flatten(x)\n",
        "    logits = self.linear_relu_stack(x)\n",
        "    return logits\n",
        "\n",
        "model = NeuralNetwork().to(device)\n",
        "print(model)"
      ],
      "metadata": {
        "colab": {
          "base_uri": "https://localhost:8080/"
        },
        "id": "09enakWLmctG",
        "outputId": "81dbc2bc-8acb-44bf-f21c-f8a0f8d18e64"
      },
      "execution_count": null,
      "outputs": [
        {
          "output_type": "stream",
          "name": "stdout",
          "text": [
            "NeuralNetwork(\n",
            "  (flatten): Flatten(start_dim=1, end_dim=-1)\n",
            "  (linear_relu_stack): Sequential(\n",
            "    (0): Linear(in_features=784, out_features=512, bias=True)\n",
            "    (1): ReLU()\n",
            "    (2): Linear(in_features=512, out_features=512, bias=True)\n",
            "    (3): ReLU()\n",
            "    (4): Linear(in_features=512, out_features=10, bias=True)\n",
            "  )\n",
            ")\n"
          ]
        }
      ]
    },
    {
      "cell_type": "markdown",
      "source": [
        "# Optimizing the Model Parameters"
      ],
      "metadata": {
        "id": "biw1zc2inQNM"
      }
    },
    {
      "cell_type": "code",
      "source": [
        "loss_fn = nn.CrossEntropyLoss()\n",
        "optimizer = torch.optim.SGD(model.parameters(), lr = 1e-3)"
      ],
      "metadata": {
        "id": "oZMbSlz3n7Wl"
      },
      "execution_count": null,
      "outputs": []
    },
    {
      "cell_type": "markdown",
      "source": [
        "학습할때 입력에 대해 예측을 수행하고 오류를 측정하고 백프랍해 파라미터를 조정할 거임"
      ],
      "metadata": {
        "id": "v9gOMA7joSiV"
      }
    },
    {
      "cell_type": "code",
      "source": [
        "def train(dataloader, model, loss_fn, optimizer):\n",
        "  size = len(dataloader.dataset) # 전체 데이터 수\n",
        "  model.train() # 모델 학습\n",
        "  for batch, (X, y) in enumerate(dataloader):\n",
        "    X, y = X.to(device), y.to(device) # GPU 로 이동시킴\n",
        "\n",
        "    # 예측 error를 계산\n",
        "    pred = model(X)\n",
        "    loss = loss_fn(pred, y)\n",
        "\n",
        "    # 백프랍\n",
        "    loss.backward()\n",
        "    optimizer.step() # 파라미터 업데이트\n",
        "    optimizer.zero_grad() # gradient 초기화\n",
        "\n",
        "    # 배치 사이즈 100마다 중간 loss를 출력할거임\n",
        "    if batch % 100 == 0:\n",
        "      loss, current = loss.item(), (batch+1) * len(X)\n",
        "      print(f\"loss: {loss:>7f} [{current:>5d}/{size:>5d}]\")"
      ],
      "metadata": {
        "id": "agJhwtAcobGd"
      },
      "execution_count": null,
      "outputs": []
    },
    {
      "cell_type": "code",
      "source": [
        "def test(dataloader, model, loss_fn):\n",
        "  size = len(dataloader.dataset)\n",
        "  num_batches = len(dataloader)\n",
        "  model.eval() # 모델 평가\n",
        "  test_loss, correct = 0, 0\n",
        "  with torch.no_grad():\n",
        "    for X, y in dataloader:\n",
        "      X, y = X.to(device), y.to(device)\n",
        "      pred = model(X)\n",
        "      test_loss += loss_fn(pred, y).item()\n",
        "      correct += (pred.argmax(1) == y).type(torch.float).sum().item() # pred.argmax(1)이 가장높은 점수 = 예측한 클래스\n",
        "  test_loss /= num_batches\n",
        "  correct /= size\n",
        "  print(f\"Test Error: /n Accuracy: {(100*correct):>0.1f}%, Avg loss: {test_loss:>8f} \\n\")"
      ],
      "metadata": {
        "id": "hfzmV-nepIwb"
      },
      "execution_count": null,
      "outputs": []
    },
    {
      "cell_type": "code",
      "source": [
        "epoch = 5\n",
        "for t in range(epoch):\n",
        "  print(f\"epoch {t+1}\\n------------------\")\n",
        "  train(train_dataloader, model, loss_fn, optimizer)\n",
        "  test(test_dataloader, model, loss_fn)\n",
        "print(\"끝\")"
      ],
      "metadata": {
        "colab": {
          "base_uri": "https://localhost:8080/"
        },
        "id": "LVG2EFgJp4xn",
        "outputId": "d6674170-9460-413b-a8a7-76a085f91b47"
      },
      "execution_count": null,
      "outputs": [
        {
          "output_type": "stream",
          "name": "stdout",
          "text": [
            "epoch 1\n",
            "------------------\n",
            "loss: 2.189254 [   64/60000]\n",
            "loss: 2.174579 [ 6464/60000]\n",
            "loss: 2.130856 [12864/60000]\n",
            "loss: 2.148741 [19264/60000]\n",
            "loss: 2.092943 [25664/60000]\n",
            "loss: 2.044686 [32064/60000]\n",
            "loss: 2.076987 [38464/60000]\n",
            "loss: 2.004961 [44864/60000]\n",
            "loss: 2.012915 [51264/60000]\n",
            "loss: 1.933859 [57664/60000]\n",
            "Test Error: /n Accuracy: 51.6%, Avg loss: 1.937456 \n",
            "\n",
            "epoch 2\n",
            "------------------\n",
            "loss: 1.973417 [   64/60000]\n",
            "loss: 1.933092 [ 6464/60000]\n",
            "loss: 1.837604 [12864/60000]\n",
            "loss: 1.874814 [19264/60000]\n",
            "loss: 1.748448 [25664/60000]\n",
            "loss: 1.708406 [32064/60000]\n",
            "loss: 1.738116 [38464/60000]\n",
            "loss: 1.640345 [44864/60000]\n",
            "loss: 1.663004 [51264/60000]\n",
            "loss: 1.543388 [57664/60000]\n",
            "Test Error: /n Accuracy: 59.2%, Avg loss: 1.567188 \n",
            "\n",
            "epoch 3\n",
            "------------------\n",
            "loss: 1.635945 [   64/60000]\n",
            "loss: 1.583227 [ 6464/60000]\n",
            "loss: 1.453577 [12864/60000]\n",
            "loss: 1.516185 [19264/60000]\n",
            "loss: 1.379888 [25664/60000]\n",
            "loss: 1.389577 [32064/60000]\n",
            "loss: 1.402364 [38464/60000]\n",
            "loss: 1.328007 [44864/60000]\n",
            "loss: 1.358123 [51264/60000]\n",
            "loss: 1.248677 [57664/60000]\n",
            "Test Error: /n Accuracy: 63.5%, Avg loss: 1.276976 \n",
            "\n",
            "epoch 4\n",
            "------------------\n",
            "loss: 1.356676 [   64/60000]\n",
            "loss: 1.323341 [ 6464/60000]\n",
            "loss: 1.173374 [12864/60000]\n",
            "loss: 1.270080 [19264/60000]\n",
            "loss: 1.138483 [25664/60000]\n",
            "loss: 1.176419 [32064/60000]\n",
            "loss: 1.191362 [38464/60000]\n",
            "loss: 1.130170 [44864/60000]\n",
            "loss: 1.165157 [51264/60000]\n",
            "loss: 1.077859 [57664/60000]\n",
            "Test Error: /n Accuracy: 65.0%, Avg loss: 1.098876 \n",
            "\n",
            "epoch 5\n",
            "------------------\n",
            "loss: 1.169167 [   64/60000]\n",
            "loss: 1.161653 [ 6464/60000]\n",
            "loss: 0.993518 [12864/60000]\n",
            "loss: 1.121595 [19264/60000]\n",
            "loss: 0.991555 [25664/60000]\n",
            "loss: 1.034445 [32064/60000]\n",
            "loss: 1.063250 [38464/60000]\n",
            "loss: 1.006078 [44864/60000]\n",
            "loss: 1.041023 [51264/60000]\n",
            "loss: 0.973381 [57664/60000]\n",
            "Test Error: /n Accuracy: 66.1%, Avg loss: 0.986807 \n",
            "\n",
            "끝\n"
          ]
        }
      ]
    },
    {
      "cell_type": "markdown",
      "source": [
        "# Saving Models"
      ],
      "metadata": {
        "id": "wuHuHZDHsSnr"
      }
    },
    {
      "cell_type": "markdown",
      "source": [
        "모델을 저장하는 일반적인 방법은 모델 매개변수를 state_dict으로 저장\n"
      ],
      "metadata": {
        "id": "QqQGSbVBsWa-"
      }
    },
    {
      "cell_type": "code",
      "source": [
        "# 파라미터만 저장(weights, bias)\n",
        "# 여기서 model.pth는 저장될 파일명임\n",
        "torch.save(model.state_dict(), \"model.pth\")\n",
        "print(\"Saved PyTorch Model State to model.pth\")"
      ],
      "metadata": {
        "colab": {
          "base_uri": "https://localhost:8080/"
        },
        "id": "ckduMlXsqJmF",
        "outputId": "7b86c2e1-a0a2-4fe1-9f9b-ff8c84d6ce3b"
      },
      "execution_count": null,
      "outputs": [
        {
          "output_type": "stream",
          "name": "stdout",
          "text": [
            "Saved PyTorch Model State to model.pth\n"
          ]
        }
      ]
    },
    {
      "cell_type": "markdown",
      "source": [
        "# Loading Models"
      ],
      "metadata": {
        "id": "xsU-5czrspr3"
      }
    },
    {
      "cell_type": "markdown",
      "source": [
        "모델 로드는 모델 구조를 다시 만들고 state dict을 로드하면 됨"
      ],
      "metadata": {
        "id": "-HiuSQhOsun1"
      }
    },
    {
      "cell_type": "code",
      "source": [
        "model = NeuralNetwork().to(device)\n",
        "model.load_state_dict(torch.load(\"model.pth\", weights_only = True))"
      ],
      "metadata": {
        "colab": {
          "base_uri": "https://localhost:8080/"
        },
        "id": "vsOvztJHsoKx",
        "outputId": "571e2247-d595-45ec-e349-7697011ad874"
      },
      "execution_count": null,
      "outputs": [
        {
          "output_type": "execute_result",
          "data": {
            "text/plain": [
              "<All keys matched successfully>"
            ]
          },
          "metadata": {},
          "execution_count": 27
        }
      ]
    },
    {
      "cell_type": "code",
      "source": [
        "# 데이터셋의 class 이름을 정의해줌\n",
        "classes = [\n",
        "    \"T-shirt/top\",\n",
        "    \"Trouser\",\n",
        "    \"Pullover\",\n",
        "    \"Dress\",\n",
        "    \"Coat\",\n",
        "    \"Sandal\",\n",
        "    \"Shirt\",\n",
        "    \"Sneaker\",\n",
        "    \"Bag\",\n",
        "    \"Ankle boot\",\n",
        "]\n",
        "\n",
        "model.eval() # 예측 수행\n",
        "x, y = test_data[0][0], test_data[0][1] # 테스트 데이터의 첫번째 샘플의 이미지와 정답임\n",
        "with torch.no_grad():\n",
        "  x = x.to(device)\n",
        "  pred = model(x)\n",
        "  predicted, actual = classes[pred[0].argmax(0)], classes[y] # 가장 높은 점수를 받은 클래스를 이름으로 바꿈\n",
        "  print(f\"Predicted: '{predicted}', Actual: '{actual}'\")"
      ],
      "metadata": {
        "colab": {
          "base_uri": "https://localhost:8080/"
        },
        "id": "_ZbduvrYtDsR",
        "outputId": "3e59e0ab-7a3f-4c19-bc03-fbe7e96cd63c"
      },
      "execution_count": null,
      "outputs": [
        {
          "output_type": "stream",
          "name": "stdout",
          "text": [
            "Predicted: 'Ankle boot', Actual: 'Ankle boot'\n"
          ]
        }
      ]
    },
    {
      "cell_type": "code",
      "source": [],
      "metadata": {
        "id": "9LzvfqEMtia0"
      },
      "execution_count": null,
      "outputs": []
    }
  ]
}