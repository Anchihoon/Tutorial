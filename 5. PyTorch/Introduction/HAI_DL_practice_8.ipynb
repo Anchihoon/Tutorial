{
  "nbformat": 4,
  "nbformat_minor": 0,
  "metadata": {
    "colab": {
      "provenance": []
    },
    "kernelspec": {
      "name": "python3",
      "display_name": "Python 3"
    },
    "language_info": {
      "name": "python"
    }
  },
  "cells": [
    {
      "cell_type": "markdown",
      "source": [
        "# **8. Save and Load the Model**"
      ],
      "metadata": {
        "id": "kX6-GVm_ifMM"
      }
    },
    {
      "cell_type": "code",
      "execution_count": null,
      "metadata": {
        "id": "YJZSq7pKic27"
      },
      "outputs": [],
      "source": [
        "import torch\n",
        "import torchvision.models as models"
      ]
    },
    {
      "cell_type": "markdown",
      "source": [
        "Pytorch에서 모델은 state_dict 이라는 내부 상태 사전을 통해 학습된 \"파라미터\"를 저장함"
      ],
      "metadata": {
        "id": "I3f0TPvk8LsI"
      }
    },
    {
      "cell_type": "code",
      "source": [
        "# state_dict 에 모델의 학습된 weight 와 bias 정보가 담겨져 있음\n",
        "# torch.save()를 통해 .pth 파일로 저장함\n",
        "model = models.vgg16(weights='IMAGENET1K_V1')\n",
        "torch.save(model.state_dict(), 'model_weights.pth')"
      ],
      "metadata": {
        "colab": {
          "base_uri": "https://localhost:8080/"
        },
        "id": "MbypEKzo8SDM",
        "outputId": "46421734-8d5b-4dc3-ce47-5796e19086b9"
      },
      "execution_count": null,
      "outputs": [
        {
          "output_type": "stream",
          "name": "stderr",
          "text": [
            "Downloading: \"https://download.pytorch.org/models/vgg16-397923af.pth\" to /root/.cache/torch/hub/checkpoints/vgg16-397923af.pth\n",
            "100%|██████████| 528M/528M [00:07<00:00, 73.4MB/s]\n"
          ]
        }
      ]
    },
    {
      "cell_type": "code",
      "source": [
        "model = models.vgg16() # 새 모델 정의\n",
        "\n",
        "# weights_only = True 는 보안 및 안정성을 위해 가중치만 로드하도록 제한함\n",
        "model.load_state_dict(torch.load('model_weights.pth', weights_only = True))\n",
        "model.eval() # 모델 평가 준비"
      ],
      "metadata": {
        "colab": {
          "base_uri": "https://localhost:8080/"
        },
        "id": "iDNukNnG8dph",
        "outputId": "8ec18792-9cb5-467b-b0e6-503a45920d48"
      },
      "execution_count": null,
      "outputs": [
        {
          "output_type": "execute_result",
          "data": {
            "text/plain": [
              "VGG(\n",
              "  (features): Sequential(\n",
              "    (0): Conv2d(3, 64, kernel_size=(3, 3), stride=(1, 1), padding=(1, 1))\n",
              "    (1): ReLU(inplace=True)\n",
              "    (2): Conv2d(64, 64, kernel_size=(3, 3), stride=(1, 1), padding=(1, 1))\n",
              "    (3): ReLU(inplace=True)\n",
              "    (4): MaxPool2d(kernel_size=2, stride=2, padding=0, dilation=1, ceil_mode=False)\n",
              "    (5): Conv2d(64, 128, kernel_size=(3, 3), stride=(1, 1), padding=(1, 1))\n",
              "    (6): ReLU(inplace=True)\n",
              "    (7): Conv2d(128, 128, kernel_size=(3, 3), stride=(1, 1), padding=(1, 1))\n",
              "    (8): ReLU(inplace=True)\n",
              "    (9): MaxPool2d(kernel_size=2, stride=2, padding=0, dilation=1, ceil_mode=False)\n",
              "    (10): Conv2d(128, 256, kernel_size=(3, 3), stride=(1, 1), padding=(1, 1))\n",
              "    (11): ReLU(inplace=True)\n",
              "    (12): Conv2d(256, 256, kernel_size=(3, 3), stride=(1, 1), padding=(1, 1))\n",
              "    (13): ReLU(inplace=True)\n",
              "    (14): Conv2d(256, 256, kernel_size=(3, 3), stride=(1, 1), padding=(1, 1))\n",
              "    (15): ReLU(inplace=True)\n",
              "    (16): MaxPool2d(kernel_size=2, stride=2, padding=0, dilation=1, ceil_mode=False)\n",
              "    (17): Conv2d(256, 512, kernel_size=(3, 3), stride=(1, 1), padding=(1, 1))\n",
              "    (18): ReLU(inplace=True)\n",
              "    (19): Conv2d(512, 512, kernel_size=(3, 3), stride=(1, 1), padding=(1, 1))\n",
              "    (20): ReLU(inplace=True)\n",
              "    (21): Conv2d(512, 512, kernel_size=(3, 3), stride=(1, 1), padding=(1, 1))\n",
              "    (22): ReLU(inplace=True)\n",
              "    (23): MaxPool2d(kernel_size=2, stride=2, padding=0, dilation=1, ceil_mode=False)\n",
              "    (24): Conv2d(512, 512, kernel_size=(3, 3), stride=(1, 1), padding=(1, 1))\n",
              "    (25): ReLU(inplace=True)\n",
              "    (26): Conv2d(512, 512, kernel_size=(3, 3), stride=(1, 1), padding=(1, 1))\n",
              "    (27): ReLU(inplace=True)\n",
              "    (28): Conv2d(512, 512, kernel_size=(3, 3), stride=(1, 1), padding=(1, 1))\n",
              "    (29): ReLU(inplace=True)\n",
              "    (30): MaxPool2d(kernel_size=2, stride=2, padding=0, dilation=1, ceil_mode=False)\n",
              "  )\n",
              "  (avgpool): AdaptiveAvgPool2d(output_size=(7, 7))\n",
              "  (classifier): Sequential(\n",
              "    (0): Linear(in_features=25088, out_features=4096, bias=True)\n",
              "    (1): ReLU(inplace=True)\n",
              "    (2): Dropout(p=0.5, inplace=False)\n",
              "    (3): Linear(in_features=4096, out_features=4096, bias=True)\n",
              "    (4): ReLU(inplace=True)\n",
              "    (5): Dropout(p=0.5, inplace=False)\n",
              "    (6): Linear(in_features=4096, out_features=1000, bias=True)\n",
              "  )\n",
              ")"
            ]
          },
          "metadata": {},
          "execution_count": 7
        }
      ]
    },
    {
      "cell_type": "markdown",
      "source": [
        "eval() 호출 하지 않으면 테스트 / 인퍼런스 시에 결과가 일관되지 않을 수 있음"
      ],
      "metadata": {
        "id": "Nwmy_i8v9pdk"
      }
    },
    {
      "cell_type": "markdown",
      "source": [
        "# Saving and Loading models with shapes"
      ],
      "metadata": {
        "id": "yPvCOUqD9aKG"
      }
    },
    {
      "cell_type": "markdown",
      "source": [
        "모델의 전체 구조와 가중치를 한번에 저장하는 방법 (비추천이긴)\n",
        "\n",
        "모델 클래스를 직접 포함하므로 나중에 로딩 시 클래스 정의가 필수로 존재해야 함?"
      ],
      "metadata": {
        "id": "brP8CBq_9xRX"
      }
    },
    {
      "cell_type": "code",
      "source": [
        "torch.save(model, 'model.pth')"
      ],
      "metadata": {
        "id": "_dPSiLE09Oxk"
      },
      "execution_count": null,
      "outputs": []
    },
    {
      "cell_type": "markdown",
      "source": [
        "모델 구조와 가중치를 함께 불러오는 방법인데\n",
        "\n",
        "torch.load() 는 내부적으로 python의 pickle 모듈을 사용하여 객체를 역직렬화 함\n",
        "\n",
        "보통 추천 안함\n",
        "1. 클래스 정의가 없으면 로딩 자체가 안됨\n",
        "2. 버전 변경이나 보안 이슈가 발생할 수 있음\n",
        "\n"
      ],
      "metadata": {
        "id": "oijTz6SK98dq"
      }
    },
    {
      "cell_type": "code",
      "source": [
        "model = torch.load('model.pth', weights_only = False),"
      ],
      "metadata": {
        "id": "iLhFGrff9gcC"
      },
      "execution_count": null,
      "outputs": []
    },
    {
      "cell_type": "code",
      "source": [],
      "metadata": {
        "id": "A4_yForw9mIj"
      },
      "execution_count": null,
      "outputs": []
    }
  ]
}