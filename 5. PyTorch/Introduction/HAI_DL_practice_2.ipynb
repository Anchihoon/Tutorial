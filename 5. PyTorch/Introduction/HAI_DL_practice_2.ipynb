{
  "nbformat": 4,
  "nbformat_minor": 0,
  "metadata": {
    "colab": {
      "provenance": []
    },
    "kernelspec": {
      "name": "python3",
      "display_name": "Python 3"
    },
    "language_info": {
      "name": "python"
    }
  },
  "cells": [
    {
      "cell_type": "markdown",
      "source": [
        "# **2. Tensors**"
      ],
      "metadata": {
        "id": "bgRsnFTQudnP"
      }
    },
    {
      "cell_type": "markdown",
      "source": [
        "텐서는 배열, 행렬과 유사한 자료구조\n",
        "\n",
        "파이토치에선 모델의 입력, 출력, 파라미터를 표현할때 텐서를 사용함\n",
        "\n",
        "텐서는 numpy의 ndarray와 비슷하지만 차이점 존재\n",
        "1. 텐서는 GPU와 같은 가속기에서 실행 가능\n",
        "2. 텐서와 Numpy 배열은 종종 같은 메모리 공간을 공유할 수 있어 복사 없이 변환 가능\n",
        "3. 텐서는 자동 미분(autograd)에 최적화 되어있음)"
      ],
      "metadata": {
        "id": "C9l8weyhul5W"
      }
    },
    {
      "cell_type": "code",
      "execution_count": null,
      "metadata": {
        "id": "7jGtM5pOuaYD"
      },
      "outputs": [],
      "source": [
        "import torch\n",
        "import numpy as np"
      ]
    },
    {
      "cell_type": "markdown",
      "source": [
        "# Inirializing a Tensor"
      ],
      "metadata": {
        "id": "k-vm1sX9vFzN"
      }
    },
    {
      "cell_type": "markdown",
      "source": [
        "데이터에서 직접 초기화 하는거 데이터 유형은 자동 추론"
      ],
      "metadata": {
        "id": "uO9D9z8lvOMd"
      }
    },
    {
      "cell_type": "code",
      "source": [
        "data = [[1,2],[3,4]]\n",
        "x_data = torch.tensor(data)"
      ],
      "metadata": {
        "id": "TJz8QTT0vAuV"
      },
      "execution_count": null,
      "outputs": []
    },
    {
      "cell_type": "markdown",
      "source": [
        "넘파이 배열에서 텐서 생성 가능(반대도 가능)"
      ],
      "metadata": {
        "id": "UMH-M_gUvU3J"
      }
    },
    {
      "cell_type": "code",
      "source": [
        "np_array = np.array(data)\n",
        "x_np = torch.from_numpy(np_array)"
      ],
      "metadata": {
        "id": "G_GIR0zXvMCd"
      },
      "execution_count": null,
      "outputs": []
    },
    {
      "cell_type": "code",
      "source": [
        "# ones_like 는 shape과 dtype을 기존 텐서로부터 복사\n",
        "x_ones = torch.ones_like(x_data)\n",
        "print(f\"Ones Tensor: \\n {x_ones} \\n\")\n",
        "\n",
        "# rand_like 는 shape은 유지하지만 dtype만 바꿔서 랜덤 텐서 생성\n",
        "x_rand = torch.rand_like(x_data, dtype=torch.float)\n",
        "print(f\"Random Tensor: \\n {x_rand} \\n\")"
      ],
      "metadata": {
        "colab": {
          "base_uri": "https://localhost:8080/"
        },
        "id": "EdUHvRhGve1y",
        "outputId": "c73ce43b-58d5-410e-dad9-c350732e39b0"
      },
      "execution_count": null,
      "outputs": [
        {
          "output_type": "stream",
          "name": "stdout",
          "text": [
            "Ones Tensor: \n",
            " tensor([[1, 1],\n",
            "        [1, 1]]) \n",
            "\n",
            "Random Tensor: \n",
            " tensor([[0.8439, 0.5319],\n",
            "        [0.9893, 0.1521]]) \n",
            "\n"
          ]
        }
      ]
    },
    {
      "cell_type": "code",
      "source": [
        "shape = (2,3,)\n",
        "rand_tensor = torch.rand(shape) # 랜덤 값으로 텐서 생성\n",
        "ones_tensor = torch.ones(shape) # 1로 텐서 생성\n",
        "zeros_tensor = torch.zeros(shape) # 0으로 텐서 생성\n",
        "\n",
        "print(f\"Random Tensor: \\n {rand_tensor} \\n\")\n",
        "print(f\"Ones Tensor: \\n {ones_tensor} \\n\")\n",
        "print(f\"Zeros Tensor: \\n {zeros_tensor}\")"
      ],
      "metadata": {
        "colab": {
          "base_uri": "https://localhost:8080/"
        },
        "id": "QIyY3hXgvwpX",
        "outputId": "f4d2e16b-4ce8-4c5d-e160-3f6d5f2cd410"
      },
      "execution_count": null,
      "outputs": [
        {
          "output_type": "stream",
          "name": "stdout",
          "text": [
            "Random Tensor: \n",
            " tensor([[0.0518, 0.5438, 0.6260],\n",
            "        [0.5618, 0.7129, 0.9396]]) \n",
            "\n",
            "Ones Tensor: \n",
            " tensor([[1., 1., 1.],\n",
            "        [1., 1., 1.]]) \n",
            "\n",
            "Zeros Tensor: \n",
            " tensor([[0., 0., 0.],\n",
            "        [0., 0., 0.]])\n"
          ]
        }
      ]
    },
    {
      "cell_type": "markdown",
      "source": [
        "# Attributes of a Tensor"
      ],
      "metadata": {
        "id": "E3bwkBU6w2xa"
      }
    },
    {
      "cell_type": "markdown",
      "source": [
        "shape, datatype, 저장되는 device 설명임"
      ],
      "metadata": {
        "id": "4HeQ8bqaw7jE"
      }
    },
    {
      "cell_type": "code",
      "source": [
        "tensor = torch.rand(3,4)\n",
        "\n",
        "print(f\"shape of tensor {tensor.shape}\")\n",
        "print(f\"datatype of tensor {tensor.dtype}\")\n",
        "print(f\"device tensor is stored on {tensor.device}\")"
      ],
      "metadata": {
        "colab": {
          "base_uri": "https://localhost:8080/"
        },
        "id": "Ecb4Ck4mwPGA",
        "outputId": "aea290a5-eeaa-4000-ced9-2cf9b0e42c25"
      },
      "execution_count": null,
      "outputs": [
        {
          "output_type": "stream",
          "name": "stdout",
          "text": [
            "shape of tensor torch.Size([3, 4])\n",
            "datatype of tensor torch.float32\n",
            "device tensor is stored on cpu\n"
          ]
        }
      ]
    },
    {
      "cell_type": "markdown",
      "source": [
        "# Operations on Tensors"
      ],
      "metadata": {
        "id": "9e5t3Vl4xZoR"
      }
    },
    {
      "cell_type": "markdown",
      "source": [
        "텐서 연산은 산술, 선형 대수, 행렬 조작, 샘플링등이 존재\n",
        "\n",
        "기본적으로 텐서는 CPU에서 생성되는데 .to 메소드를 통해 GPU 같은 가속기로 명시적으로 이동시켜야됨"
      ],
      "metadata": {
        "id": "ztJ_cAFMxxKj"
      }
    },
    {
      "cell_type": "code",
      "source": [
        "if torch.accelerator.is_available():\n",
        "  tensor = tensor.to(torch.accelerator.current_accelerator())"
      ],
      "metadata": {
        "id": "NtkkyXZhxRrT"
      },
      "execution_count": null,
      "outputs": []
    },
    {
      "cell_type": "markdown",
      "source": [
        "인덱싱과 슬라이싱\n"
      ],
      "metadata": {
        "id": "3tyC6ZjmyexZ"
      }
    },
    {
      "cell_type": "code",
      "source": [
        "tensor = torch.ones(4, 4)\n",
        "print(f\"First row: {tensor[0]}\")\n",
        "print(f\"First column: {tensor[:, 0]}\")\n",
        "print(f\"Last column: {tensor[..., -1]}\")\n",
        "tensor[:,1] = 0 # 1번째 열을 0으로 채움\n",
        "print(tensor)"
      ],
      "metadata": {
        "colab": {
          "base_uri": "https://localhost:8080/"
        },
        "id": "LeRT3HyUxrlt",
        "outputId": "7bcaa524-e7c3-4eaf-d00d-dc844eb6d4cf"
      },
      "execution_count": null,
      "outputs": [
        {
          "output_type": "stream",
          "name": "stdout",
          "text": [
            "First row: tensor([1., 1., 1., 1.])\n",
            "First column: tensor([1., 1., 1., 1.])\n",
            "Last column: tensor([1., 1., 1., 1.])\n",
            "tensor([[1., 0., 1., 1.],\n",
            "        [1., 0., 1., 1.],\n",
            "        [1., 0., 1., 1.],\n",
            "        [1., 0., 1., 1.]])\n"
          ]
        }
      ]
    },
    {
      "cell_type": "markdown",
      "source": [
        "텐서 결합으로 시퀀스 연결"
      ],
      "metadata": {
        "id": "vZud_HF0ygOf"
      }
    },
    {
      "cell_type": "code",
      "source": [
        "t1 = torch.cat([tensor, tensor, tensor], dim = 1)\n",
        "print(t1)"
      ],
      "metadata": {
        "colab": {
          "base_uri": "https://localhost:8080/"
        },
        "id": "ckpoob73yUWD",
        "outputId": "544e7de7-f702-4c9a-ab62-a251fb61464a"
      },
      "execution_count": null,
      "outputs": [
        {
          "output_type": "stream",
          "name": "stdout",
          "text": [
            "tensor([[1., 0., 1., 1., 1., 0., 1., 1., 1., 0., 1., 1.],\n",
            "        [1., 0., 1., 1., 1., 0., 1., 1., 1., 0., 1., 1.],\n",
            "        [1., 0., 1., 1., 1., 0., 1., 1., 1., 0., 1., 1.],\n",
            "        [1., 0., 1., 1., 1., 0., 1., 1., 1., 0., 1., 1.]])\n"
          ]
        }
      ]
    },
    {
      "cell_type": "code",
      "source": [
        "t2 = torch.stack([tensor, tensor, tensor], dim = 1)\n",
        "print(t2)"
      ],
      "metadata": {
        "colab": {
          "base_uri": "https://localhost:8080/"
        },
        "id": "fxV65xjzysQr",
        "outputId": "8ccfd398-572e-4354-920f-98c09ffea397"
      },
      "execution_count": null,
      "outputs": [
        {
          "output_type": "stream",
          "name": "stdout",
          "text": [
            "tensor([[[1., 0., 1., 1.],\n",
            "         [1., 0., 1., 1.],\n",
            "         [1., 0., 1., 1.]],\n",
            "\n",
            "        [[1., 0., 1., 1.],\n",
            "         [1., 0., 1., 1.],\n",
            "         [1., 0., 1., 1.]],\n",
            "\n",
            "        [[1., 0., 1., 1.],\n",
            "         [1., 0., 1., 1.],\n",
            "         [1., 0., 1., 1.]],\n",
            "\n",
            "        [[1., 0., 1., 1.],\n",
            "         [1., 0., 1., 1.],\n",
            "         [1., 0., 1., 1.]]])\n"
          ]
        }
      ]
    },
    {
      "cell_type": "markdown",
      "source": [
        "산술 연산"
      ],
      "metadata": {
        "id": "SbfX75SAy213"
      }
    },
    {
      "cell_type": "markdown",
      "source": [
        "out =\n",
        "\n",
        "하는건 미리 저장할 버퍼를 만들어 놓고 거기다 값을 넣을려고 하는 행동인거 같음"
      ],
      "metadata": {
        "id": "YZorkHjD0Pva"
      }
    },
    {
      "cell_type": "code",
      "source": [
        "# 행렬 곱 연산으로 y1 = y2 같은 결과값임\n",
        "# rand_like 는 shape은 유지하지만 dtype만 바꿔서 랜덤 텐서 생성\n",
        "y1 = tensor @ tensor.T\n",
        "y2 = tensor.matmul(tensor.T)\n",
        "y3 = torch.rand_like(y1)\n",
        "\n",
        "torch.matmul(tensor, tensor.T, out=y3)"
      ],
      "metadata": {
        "colab": {
          "base_uri": "https://localhost:8080/"
        },
        "id": "8zljypN2yz6a",
        "outputId": "0cf40b92-9594-4420-c439-d1046c2abc7d"
      },
      "execution_count": null,
      "outputs": [
        {
          "output_type": "execute_result",
          "data": {
            "text/plain": [
              "tensor([[3., 3., 3., 3.],\n",
              "        [3., 3., 3., 3.],\n",
              "        [3., 3., 3., 3.],\n",
              "        [3., 3., 3., 3.]])"
            ]
          },
          "metadata": {},
          "execution_count": 15
        }
      ]
    },
    {
      "cell_type": "code",
      "source": [
        "# 원소별 곱연산임 이건 z1 = z2 같은 결과\n",
        "z1 = tensor * tensor\n",
        "z2 = tensor.mul(tensor)\n",
        "z3 = torch.rand_like(tensor)\n",
        "\n",
        "torch.mul(tensor, tensor, out=z3)"
      ],
      "metadata": {
        "colab": {
          "base_uri": "https://localhost:8080/"
        },
        "id": "Rpdo5pijzKi6",
        "outputId": "778be06b-f914-4ca1-f985-d66a50d2375b"
      },
      "execution_count": null,
      "outputs": [
        {
          "output_type": "execute_result",
          "data": {
            "text/plain": [
              "tensor([[1., 0., 1., 1.],\n",
              "        [1., 0., 1., 1.],\n",
              "        [1., 0., 1., 1.],\n",
              "        [1., 0., 1., 1.]])"
            ]
          },
          "metadata": {},
          "execution_count": 16
        }
      ]
    },
    {
      "cell_type": "code",
      "source": [
        "# tensor([[1., 0., 1., 1.],\n",
        "#        [1., 0., 1., 1.],\n",
        "#        [1., 0., 1., 1.],\n",
        "#        [1., 0., 1., 1.]])\n",
        "agg = tensor.sum() # 모든 원소의 합 즉, 하나의 값만 있는 텐서 형태\n",
        "agg_item = agg.item() # .item()은 파이썬 숫자로 변경시킴\n",
        "print(agg_item, type(agg_item)) # 그래서 float으로 변경된거"
      ],
      "metadata": {
        "colab": {
          "base_uri": "https://localhost:8080/"
        },
        "id": "80s13Kizzejz",
        "outputId": "d7f92fe2-d0c1-44c6-8939-e05d2ef394f5"
      },
      "execution_count": null,
      "outputs": [
        {
          "output_type": "stream",
          "name": "stdout",
          "text": [
            "12.0 <class 'float'>\n"
          ]
        }
      ]
    },
    {
      "cell_type": "markdown",
      "source": [
        "In-place 연산\n",
        "\n",
        "접미사 _가 붙으면 inplace연산임 기존값 자체를 변경시켜버림\n",
        "\n",
        "inplace 연산은 메모리를 절약할 수는 있으나 함수 계산에서 히스토리가 즉시 삭제되서 문제 야기 가능하여 권장 안된다."
      ],
      "metadata": {
        "id": "BQnOcpjB1W21"
      }
    },
    {
      "cell_type": "code",
      "source": [
        "# 각 원소에 5를 더함\n",
        "print(f\"{tensor}\\n\")\n",
        "tensor.add_(5)\n",
        "print(tensor)"
      ],
      "metadata": {
        "colab": {
          "base_uri": "https://localhost:8080/"
        },
        "id": "bRE6e5rd0isT",
        "outputId": "966c3eea-620b-4ff3-c509-6ff2b2f2b004"
      },
      "execution_count": null,
      "outputs": [
        {
          "output_type": "stream",
          "name": "stdout",
          "text": [
            "tensor([[1., 0., 1., 1.],\n",
            "        [1., 0., 1., 1.],\n",
            "        [1., 0., 1., 1.],\n",
            "        [1., 0., 1., 1.]])\n",
            "\n",
            "tensor([[6., 5., 6., 6.],\n",
            "        [6., 5., 6., 6.],\n",
            "        [6., 5., 6., 6.],\n",
            "        [6., 5., 6., 6.]])\n"
          ]
        }
      ]
    },
    {
      "cell_type": "markdown",
      "source": [
        "# Birdge with Numpy (넘파이와의 연결성)"
      ],
      "metadata": {
        "id": "kNQy-9RS1s3H"
      }
    },
    {
      "cell_type": "code",
      "source": [
        "t = torch.ones(5)\n",
        "print(f\"t: {t}\")\n",
        "n = t.numpy()\n",
        "print(f\"n: {n}\")"
      ],
      "metadata": {
        "colab": {
          "base_uri": "https://localhost:8080/"
        },
        "id": "EU2DKEQO1TJ_",
        "outputId": "3145c93b-8768-4ec3-db0e-7c46a72ea1ea"
      },
      "execution_count": null,
      "outputs": [
        {
          "output_type": "stream",
          "name": "stdout",
          "text": [
            "t: tensor([1., 1., 1., 1., 1.])\n",
            "n: [1. 1. 1. 1. 1.]\n"
          ]
        }
      ]
    },
    {
      "cell_type": "code",
      "source": [
        "# 텐서에 더했는데 넘파이 배열도 변경됨\n",
        "t.add_(1)\n",
        "print(f\"t: {t}\")\n",
        "print(f\"n: {n}\")"
      ],
      "metadata": {
        "colab": {
          "base_uri": "https://localhost:8080/"
        },
        "id": "hICU8wmk14U4",
        "outputId": "d5aba545-4759-4e89-ea93-cb139a0dfc62"
      },
      "execution_count": null,
      "outputs": [
        {
          "output_type": "stream",
          "name": "stdout",
          "text": [
            "t: tensor([2., 2., 2., 2., 2.])\n",
            "n: [2. 2. 2. 2. 2.]\n"
          ]
        }
      ]
    },
    {
      "cell_type": "code",
      "source": [
        "n = np.ones(5)\n",
        "t = torch.from_numpy(n)"
      ],
      "metadata": {
        "id": "Zl_jBfvc17dw"
      },
      "execution_count": null,
      "outputs": []
    },
    {
      "cell_type": "code",
      "source": [
        "# 넘파이 배열에 더했는데 텐서도 같이 변경됨\n",
        "np.add(n, 1, out = n)\n",
        "print(f\"t: {t}\")\n",
        "print(f\"n: {n}\")"
      ],
      "metadata": {
        "colab": {
          "base_uri": "https://localhost:8080/"
        },
        "id": "XlXLLdJv2DWf",
        "outputId": "6b768556-175f-498a-c0d2-7199564e9bba"
      },
      "execution_count": null,
      "outputs": [
        {
          "output_type": "stream",
          "name": "stdout",
          "text": [
            "t: tensor([2., 2., 2., 2., 2.], dtype=torch.float64)\n",
            "n: [2. 2. 2. 2. 2.]\n"
          ]
        }
      ]
    },
    {
      "cell_type": "code",
      "source": [],
      "metadata": {
        "id": "czLhRLNY2NII"
      },
      "execution_count": null,
      "outputs": []
    }
  ]
}