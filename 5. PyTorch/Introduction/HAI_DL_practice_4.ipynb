{
  "nbformat": 4,
  "nbformat_minor": 0,
  "metadata": {
    "colab": {
      "provenance": []
    },
    "kernelspec": {
      "name": "python3",
      "display_name": "Python 3"
    },
    "language_info": {
      "name": "python"
    }
  },
  "cells": [
    {
      "cell_type": "markdown",
      "source": [
        "# **4. Transforms**"
      ],
      "metadata": {
        "id": "UYC_AqQ9U42W"
      }
    },
    {
      "cell_type": "markdown",
      "source": [
        "데이터는 모델 학습에 바로 사용할 수있는 형태가 아님\n",
        "\n",
        "그렇기 때문에 우리는 학습에 적합하도록 transformer를 사용할거임\n",
        "\n",
        "torchvision 데이터셋은 두가지 매개변수를 제공\n",
        "1. transform : 입력 데이터를 반환하는 함수\n",
        "2. target_transform : 라벨을 변환하는 함수\n",
        "\n",
        "torchvision.transforms 모듈은 자주 사용하는 전처리 함수를 미리 제공함\n",
        "\n",
        "fashionMNIST 데이터셋의 경우 PIL이미지 형식이고 라벨은 정수형임\n",
        "\n",
        "학습을 위해서는 입력은 정규화된 텐서, 라벨은 one-hot 인코딩된 텐서가 필요함\n",
        "\n",
        "이를위해서 Totensor와 Lambda 변환을 사용할거임"
      ],
      "metadata": {
        "id": "U4PxJi_rWI_i"
      }
    },
    {
      "cell_type": "code",
      "execution_count": null,
      "metadata": {
        "colab": {
          "base_uri": "https://localhost:8080/"
        },
        "id": "drcGBgGmU3jm",
        "outputId": "621f4422-59e1-48ac-955c-f6cbbdb31a6c"
      },
      "outputs": [
        {
          "output_type": "stream",
          "name": "stderr",
          "text": [
            "100%|██████████| 26.4M/26.4M [00:01<00:00, 16.8MB/s]\n",
            "100%|██████████| 29.5k/29.5k [00:00<00:00, 268kB/s]\n",
            "100%|██████████| 4.42M/4.42M [00:00<00:00, 5.03MB/s]\n",
            "100%|██████████| 5.15k/5.15k [00:00<00:00, 10.4MB/s]\n"
          ]
        }
      ],
      "source": [
        "import torch\n",
        "from torchvision import datasets\n",
        "from torchvision.transforms import ToTensor, Lambda\n",
        "\n",
        "ds = datasets.FashionMNIST(\n",
        "    root = 'data',\n",
        "    train = True,\n",
        "    download = True,\n",
        "    transform = ToTensor(), # ToTensor()는 [0,1] 범위의 FloatTensor (C, H, W) 로 변환함\n",
        "\n",
        "    # 라벨은 기본적으로 정수 0 ~ 9\n",
        "    # Lambda()를 사용해서 one-hot 인코딩으로 변환\n",
        "    # scatter_가 레이블 y에 따라 인덱스에 1을 할당하는 역할\n",
        "    target_transform = Lambda(lambda y: torch.zeros(10, dtype=torch.float).scatter_(0, torch.tensor(y), value = 1))\n",
        ")"
      ]
    },
    {
      "cell_type": "code",
      "source": [],
      "metadata": {
        "id": "4-o3AHOrXbHa"
      },
      "execution_count": null,
      "outputs": []
    }
  ]
}